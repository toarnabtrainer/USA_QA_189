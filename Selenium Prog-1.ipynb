{
 "cells": [
  {
   "cell_type": "markdown",
   "id": "9e590df3-1f9d-4a0f-9af9-8e46391ab612",
   "metadata": {},
   "source": [
    "### Start Chrome Driver using executable path and start any webpage with get() function."
   ]
  },
  {
   "cell_type": "code",
   "execution_count": 1,
   "id": "1105585a-4f9d-4cac-a06f-a75502b76079",
   "metadata": {},
   "outputs": [
    {
     "name": "stdout",
     "output_type": "stream",
     "text": [
      "4.1.3\n"
     ]
    }
   ],
   "source": [
    "# importing required modules\n",
    "from selenium import webdriver\n",
    "\n",
    "# check the version of the selenium\n",
    "print (webdriver.__version__)"
   ]
  },
  {
   "cell_type": "code",
   "execution_count": 4,
   "id": "eed028d0-2e99-43e6-bb28-0d320e76f721",
   "metadata": {},
   "outputs": [
    {
     "name": "stderr",
     "output_type": "stream",
     "text": [
      "<ipython-input-4-eaeba7ba4f8e>:4: DeprecationWarning: executable_path has been deprecated, please pass in a Service object\n",
      "  driver =  webdriver.Chrome(executable_path=\"./chromedriver.exe\")\n"
     ]
    }
   ],
   "source": [
    "# at first check wehther the chrome driver is present in the present folder or not\n",
    "# so we can access it without any path if it is in the present folder, otherwise we shall have to provide valid or relative path to access it.\n",
    "\n",
    "driver =  webdriver.Chrome(executable_path=\"./chromedriver.exe\")"
   ]
  },
  {
   "cell_type": "code",
   "execution_count": 5,
   "id": "b7adaeef-40a1-4df3-bbd3-e08fe21ab885",
   "metadata": {},
   "outputs": [],
   "source": [
    "# start wikipedia page\n",
    "driver.get(\"https://en.wikipedia.org/wiki/Main_Page\")"
   ]
  },
  {
   "cell_type": "code",
   "execution_count": 6,
   "id": "2b5442e4-579a-4507-85f2-fdf7f594c661",
   "metadata": {},
   "outputs": [
    {
     "name": "stdout",
     "output_type": "stream",
     "text": [
      "https://en.wikipedia.org/wiki/Main_Page\n",
      "Wikipedia, the free encyclopedia\n"
     ]
    }
   ],
   "source": [
    "# Get the current URL and current Title of the home page\n",
    "print (driver.current_url)\n",
    "print (driver.title)"
   ]
  },
  {
   "cell_type": "code",
   "execution_count": 10,
   "id": "2ce94023-5758-4650-ba79-743395a877c0",
   "metadata": {},
   "outputs": [],
   "source": [
    "# now, let us open a new web portal, e.g. Google\n",
    "driver.get('https://www.google.com/')"
   ]
  },
  {
   "cell_type": "code",
   "execution_count": 11,
   "id": "33639cde-ba54-462a-b801-b61595f062ad",
   "metadata": {},
   "outputs": [
    {
     "name": "stdout",
     "output_type": "stream",
     "text": [
      "https://en.wikipedia.org/wiki/Main_Page\n",
      "Wikipedia, the free encyclopedia\n"
     ]
    }
   ],
   "source": [
    "# now return back to the previous page with back() function\n",
    "driver.back()\n",
    "print (driver.current_url)\n",
    "print (driver.title)"
   ]
  },
  {
   "cell_type": "code",
   "execution_count": 12,
   "id": "9db59c70-2c4b-4ff6-895f-a1e31c1a8c1d",
   "metadata": {},
   "outputs": [
    {
     "name": "stdout",
     "output_type": "stream",
     "text": [
      "https://www.google.com/\n",
      "Google\n"
     ]
    }
   ],
   "source": [
    "# now go to the google page once again by using forward() function\n",
    "driver.forward()\n",
    "print (driver.current_url)\n",
    "print (driver.title)"
   ]
  },
  {
   "cell_type": "code",
   "execution_count": 13,
   "id": "d36de1fd-5f6e-4b22-b500-6e77aedf030e",
   "metadata": {},
   "outputs": [],
   "source": [
    "# close all the windows which were opened by the driver\n",
    "driver.quit()"
   ]
  },
  {
   "cell_type": "code",
   "execution_count": null,
   "id": "6df0a149-8bae-4425-9264-b6a69754bf7f",
   "metadata": {},
   "outputs": [],
   "source": []
  },
  {
   "cell_type": "code",
   "execution_count": null,
   "id": "e8f1cbdf-6c2e-43f8-b500-c0a43ab9ba96",
   "metadata": {},
   "outputs": [],
   "source": []
  },
  {
   "cell_type": "code",
   "execution_count": null,
   "id": "c3cc5648-5b1a-4d9b-b37d-9862e9b9cb45",
   "metadata": {},
   "outputs": [],
   "source": []
  }
 ],
 "metadata": {
  "kernelspec": {
   "display_name": "Python 3",
   "language": "python",
   "name": "python3"
  },
  "language_info": {
   "codemirror_mode": {
    "name": "ipython",
    "version": 3
   },
   "file_extension": ".py",
   "mimetype": "text/x-python",
   "name": "python",
   "nbconvert_exporter": "python",
   "pygments_lexer": "ipython3",
   "version": "3.8.8"
  }
 },
 "nbformat": 4,
 "nbformat_minor": 5
}
