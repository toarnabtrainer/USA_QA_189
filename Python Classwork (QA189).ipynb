{
 "cells": [
  {
   "cell_type": "markdown",
   "id": "4a044d58-9caf-418c-8de8-5d0aab8e494b",
   "metadata": {},
   "source": [
    "## Introduction to Python"
   ]
  },
  {
   "cell_type": "code",
   "execution_count": 1,
   "id": "49d72c04-c3b9-4c56-991c-0d6eec6c4076",
   "metadata": {},
   "outputs": [],
   "source": [
    "# This is a comment line"
   ]
  },
  {
   "cell_type": "markdown",
   "id": "b9dadd46-78ca-4c5a-932f-794ec827b8ab",
   "metadata": {},
   "source": [
    "### Python Inputs and Outputs"
   ]
  },
  {
   "cell_type": "code",
   "execution_count": 5,
   "id": "2580542c-3abb-413b-8b26-e78769fe68a2",
   "metadata": {},
   "outputs": [
    {
     "name": "stdin",
     "output_type": "stream",
     "text": [
      "Please enter the first number:  33\n",
      "Please enter the second number:  44\n"
     ]
    },
    {
     "name": "stdout",
     "output_type": "stream",
     "text": [
      "33 <class 'str'> 44 <class 'str'>\n",
      "3344\n",
      "End of the program...\n"
     ]
    }
   ],
   "source": [
    "num1 = input(\"Please enter the first number: \")\n",
    "num2 = input(\"Please enter the second number: \")\n",
    "print (num1, type(num1), num2, type(num2))\n",
    "result = num1 + num2\n",
    "print (result)\n",
    "print (\"End of the program...\")"
   ]
  },
  {
   "cell_type": "code",
   "execution_count": 6,
   "id": "b049b7a9-1bd0-43dd-83f9-100c101db096",
   "metadata": {},
   "outputs": [
    {
     "name": "stdin",
     "output_type": "stream",
     "text": [
      "Please enter the first number:  100\n",
      "Please enter the second number:  300\n"
     ]
    },
    {
     "name": "stdout",
     "output_type": "stream",
     "text": [
      "100 <class 'int'> 300 <class 'int'>\n",
      "400\n",
      "End of the program...\n"
     ]
    }
   ],
   "source": [
    "num1 = int(input(\"Please enter the first number: \"))\n",
    "num2 = int(input(\"Please enter the second number: \"))\n",
    "print (num1, type(num1), num2, type(num2))\n",
    "result = num1 + num2\n",
    "print (result)\n",
    "print (\"End of the program...\")"
   ]
  },
  {
   "cell_type": "code",
   "execution_count": 19,
   "id": "df8004de-1189-49dc-82cb-631eaf4d7083",
   "metadata": {},
   "outputs": [
    {
     "name": "stdout",
     "output_type": "stream",
     "text": [
      "So 100 + 300 = 400\n",
      "So 100 + 300 = 400\n",
      "So 100 + 300 = 400\n",
      "So 100 + 300 = 400\n",
      "So 100 + 300 = 400\n",
      "So 300 + 300 = 400\n",
      "So 300 + 300 = 400\n",
      "So 100 + 300 = 400\n",
      "So 100 + 300.000000 = 400\n",
      "So 100 +   300.00 = 400\n",
      "So 100 + 300 = 400\n"
     ]
    }
   ],
   "source": [
    "print (\"So\", num1, \"+\", num2, \"=\", result)\n",
    "print (\"So \" + str(num1) + \" + \" + str(num2) + \" = \" + str(result))\n",
    "print (\"So {} + {} = {}\".format(num1, num2, result))    # variable placeholder\n",
    "print (\"So {0} + {1} = {2}\".format(num1, num2, result))    # indexed placeholder\n",
    "print (\"So {2} + {1} = {0}\".format(result, num2, num1))    # indexed placeholder\n",
    "print (\"So {n1} + {n2} = {tot}\".format(n1 = num2, n2 = num2, tot = result))    # labeled placeholder\n",
    "print (\"So {n1} + {n2} = {tot}\".format(n2 = num2, n1 = num2, tot = result))    # labeled placeholder\n",
    "print (\"So %d + %d = %d\"%(num1, num2, result))    # formatting\n",
    "print (\"So %d + %f = %d\"%(num1, num2, result))    # formatting\n",
    "print (\"So %d + %8.2f = %d\"%(num1, num2, result))    # formatting\n",
    "print (f\"So {num1} + {num2} = {result}\")    # smart formatting"
   ]
  },
  {
   "cell_type": "markdown",
   "id": "a7b7994d-fddc-489d-95b7-dffb1e95ea5c",
   "metadata": {},
   "source": [
    "### Conditional Statements"
   ]
  },
  {
   "cell_type": "code",
   "execution_count": 37,
   "id": "cb758cb4-4830-460b-b591-31953ab9f9aa",
   "metadata": {},
   "outputs": [
    {
     "name": "stdin",
     "output_type": "stream",
     "text": [
      "Please enter the first number:  100\n",
      "Please enter the second number:  40\n"
     ]
    },
    {
     "name": "stdout",
     "output_type": "stream",
     "text": [
      "1> Addition\n",
      "2> Subtraction\n",
      "3> Multiplication\n",
      "4> Division\n"
     ]
    },
    {
     "name": "stdin",
     "output_type": "stream",
     "text": [
      "Please enter your choice number:  2\n"
     ]
    },
    {
     "name": "stdout",
     "output_type": "stream",
     "text": [
      "Performing the SUBTRACTION operation...\n",
      "So 100 - 40 = 60\n",
      "End of the program...\n"
     ]
    }
   ],
   "source": [
    "num1 = int(input(\"Please enter the first number: \"))\n",
    "num2 = int(input(\"Please enter the second number: \"))\n",
    "print (\"1> Addition\\n2> Subtraction\\n3> Multiplication\\n4> Division\")\n",
    "ch = int(input(\"Please enter your choice number: \"))\n",
    "if (ch == 1):\n",
    "    print (\"Performing the ADDITION operation...\")\n",
    "    result = num1 + num2\n",
    "    print (f\"So {num1} + {num2} = {result}\")\n",
    "elif (ch == 2):\n",
    "    print (\"Performing the SUBTRACTION operation...\")\n",
    "    result = num1 - num2\n",
    "    print (f\"So {num1} - {num2} = {result}\")\n",
    "elif (ch == 3):\n",
    "    print (\"Performing the MULTIPLICATION operation...\")\n",
    "    result = num1 * num2\n",
    "    print (f\"So {num1} * {num2} = {result}\")\n",
    "elif (ch == 4):\n",
    "    print (\"Performing the DIVISION operation...\")\n",
    "    if (num2 == 0):\n",
    "        print (\"DIVISION by ZERO is Illegal !!!\")\n",
    "        print (\"Can not perform the division operation...\")\n",
    "    else:\n",
    "        result = num1 / num2\n",
    "        print (f\"So {num1} / {num2} = {result}\")\n",
    "else:\n",
    "    print (\"Invalid choice number has been given...\")\n",
    "print (\"End of the program...\")"
   ]
  },
  {
   "cell_type": "code",
   "execution_count": 44,
   "id": "7e95ec74-2c84-409d-98ed-b370406bfdd1",
   "metadata": {},
   "outputs": [
    {
     "name": "stdout",
     "output_type": "stream",
     "text": [
      "University <class 'str'> 2595285758192\n",
      "U <class 'str'> 2595202204592\n",
      "100 <class 'int'> 140736313635728\n",
      "100.5 <class 'float'> 2595288877616\n",
      "True <class 'bool'> 140736313349968\n"
     ]
    }
   ],
   "source": [
    "myvar = \"University\"\n",
    "print (myvar, type(myvar), id(myvar))\n",
    "myvar = 'U'\n",
    "print (myvar, type(myvar), id(myvar))\n",
    "myvar = 100\n",
    "print (myvar, type(myvar), id(myvar))\n",
    "myvar = 100.5\n",
    "print (myvar, type(myvar), id(myvar))\n",
    "myvar = True\n",
    "print (myvar, type(myvar), id(myvar))"
   ]
  },
  {
   "cell_type": "markdown",
   "id": "995050b0-1c7b-448e-a982-147b1300e4ef",
   "metadata": {},
   "source": [
    "### Collection Objects"
   ]
  },
  {
   "cell_type": "code",
   "execution_count": 57,
   "id": "c647aa75-35c8-4fa5-bd16-8b64fb46a331",
   "metadata": {},
   "outputs": [
    {
     "name": "stdout",
     "output_type": "stream",
     "text": [
      "['Amit', 34, 54000.5, True] <class 'list'> 2595286098560\n",
      "('Amit', 34, 54000.5, True) <class 'tuple'> 2595277887984\n",
      "{'name': 'Amit', 'age': 34, 'salary': 54000.5, 'married': True} <class 'dict'> 2595285138560\n",
      "{54000.5, True, 34, 'Amit'} <class 'set'> 2595294140224\n",
      "frozenset({54000.5, True, 34, 'Amit'}) <class 'frozenset'> 2595294139328\n"
     ]
    }
   ],
   "source": [
    "myvar = ['Amit', 34, 54000.50, True]\n",
    "print (myvar, type(myvar), id(myvar))\n",
    "myvar = ('Amit', 34, 54000.50, True)\n",
    "print (myvar, type(myvar), id(myvar))\n",
    "myvar = {'name':'Amit', \"age\":34, 'salary':54000.50, 'married':True}\n",
    "print (myvar, type(myvar), id(myvar))\n",
    "myvar = {'Amit', 34, 54000.50, True, 34, 54000.50, True, 34, 54000.50, True, 'Amit'}\n",
    "print (myvar, type(myvar), id(myvar))\n",
    "myvar = frozenset(['Amit', 34, 54000.50, True, 34, 54000.50, True, 34, 54000.50, True, 'Amit'])\n",
    "print (myvar, type(myvar), id(myvar))"
   ]
  },
  {
   "cell_type": "markdown",
   "id": "b5471a4a-0374-4f24-bdca-708fa1ef33d8",
   "metadata": {},
   "source": [
    "### Arithmetic Operators"
   ]
  },
  {
   "cell_type": "code",
   "execution_count": 59,
   "id": "98391509-70cd-435e-a38b-07aa306b7d32",
   "metadata": {},
   "outputs": [
    {
     "name": "stdout",
     "output_type": "stream",
     "text": [
      "140\n",
      "60\n",
      "4000\n",
      "2.5\n",
      "2\n",
      "20\n",
      "100000000\n"
     ]
    }
   ],
   "source": [
    "print (100 + 40)\n",
    "print (100 - 40)\n",
    "print (100 * 40)\n",
    "print (100 / 40)\n",
    "print (100 // 40)\n",
    "print (100 % 40)\n",
    "print (100 ** 4)"
   ]
  },
  {
   "cell_type": "markdown",
   "id": "85f2f969-f44c-4439-a519-dbb567410771",
   "metadata": {},
   "source": [
    "### Logical Operators"
   ]
  },
  {
   "cell_type": "code",
   "execution_count": 63,
   "id": "236e29e1-6a78-4464-9a7b-4023cba04f67",
   "metadata": {},
   "outputs": [
    {
     "name": "stdout",
     "output_type": "stream",
     "text": [
      "False\n",
      "True\n",
      "True\n",
      "False\n"
     ]
    }
   ],
   "source": [
    "print (100 > 400 and 400 > 200)\n",
    "print (100 > 400 or 400 > 200)\n",
    "print (not(100 > 400 and 400 > 200))\n",
    "print (not(100 > 400 or 400 > 200))"
   ]
  },
  {
   "cell_type": "markdown",
   "id": "222a8f2e-43e8-4a76-a4d3-a482ff518d7a",
   "metadata": {},
   "source": [
    "### Python Loops"
   ]
  },
  {
   "cell_type": "code",
   "execution_count": 19,
   "id": "b7b0aae9-c3ba-4cef-8867-ba597ba1fc2e",
   "metadata": {},
   "outputs": [
    {
     "name": "stdout",
     "output_type": "stream",
     "text": [
      "For i = 0, Hello World...\n",
      "For i = 1, Hello World...\n",
      "For i = 2, Hello World...\n",
      "For i = 3, Hello World...\n",
      "For i = 4, Hello World...\n",
      "ELSE block is executing...\n",
      "End of the program...\n"
     ]
    }
   ],
   "source": [
    "# for i in range(5):\n",
    "# for i in range(0, 5):\n",
    "for i in range(0, 5, 1):\n",
    "    print (f\"For i = {i}, Hello World...\")\n",
    "else:\n",
    "    print (\"ELSE block is executing...\")\n",
    "    \n",
    "print (\"End of the program...\")"
   ]
  },
  {
   "cell_type": "code",
   "execution_count": 4,
   "id": "6faa0f8b-3f1f-4ea1-ac1a-e20f6ef3bb57",
   "metadata": {},
   "outputs": [
    {
     "name": "stdout",
     "output_type": "stream",
     "text": [
      "For i = 5, Hello World...\n",
      "For i = 6, Hello World...\n",
      "For i = 7, Hello World...\n",
      "For i = 8, Hello World...\n",
      "For i = 9, Hello World...\n",
      "ELSE block is executing...\n",
      "End of the program...\n"
     ]
    }
   ],
   "source": [
    "for i in range(5, 10):\n",
    "    print (f\"For i = {i}, Hello World...\")\n",
    "else:\n",
    "    print (\"ELSE block is executing...\")\n",
    "    \n",
    "print (\"End of the program...\")"
   ]
  },
  {
   "cell_type": "code",
   "execution_count": 11,
   "id": "46eb648e-5d89-4d9c-b014-ff475e6298b1",
   "metadata": {},
   "outputs": [
    {
     "name": "stdout",
     "output_type": "stream",
     "text": [
      "For i = 5, Hello World...\n",
      "For i = 6, Hello World...\n",
      "For i = 7, Hello World...\n",
      "For i = 8, Hello World...\n",
      "End of the program...\n"
     ]
    }
   ],
   "source": [
    "for i in range(5, 10):\n",
    "    print (f\"For i = {i}, Hello World...\")\n",
    "    if (i == 8): break\n",
    "else:\n",
    "    print (\"ELSE block is executing...\")\n",
    "    \n",
    "print (\"End of the program...\")"
   ]
  },
  {
   "cell_type": "code",
   "execution_count": 8,
   "id": "1d586591-a227-49c6-8532-75104c5f081b",
   "metadata": {},
   "outputs": [
    {
     "name": "stdout",
     "output_type": "stream",
     "text": [
      "For i = 5, Hello World...\n",
      "For i = 6, Hello World...\n",
      "Continuing with the next value of i = 7...\n",
      "For i = 8, Hello World...\n",
      "For i = 9, Hello World...\n",
      "ELSE block is executing...\n",
      "End of the program...\n"
     ]
    }
   ],
   "source": [
    "for i in range(5, 10):\n",
    "    if (i == 7): \n",
    "        print (f\"Continuing with the next value of i = {i}...\")\n",
    "        continue\n",
    "    print (f\"For i = {i}, Hello World...\")\n",
    "else:\n",
    "    print (\"ELSE block is executing...\")\n",
    "    \n",
    "print (\"End of the program...\")"
   ]
  },
  {
   "cell_type": "code",
   "execution_count": 15,
   "id": "94ed3843-b540-4628-b585-0adf5e29b76d",
   "metadata": {},
   "outputs": [
    {
     "name": "stdout",
     "output_type": "stream",
     "text": [
      "100 is an EVEN number...\n",
      "100 is an EVEN number...\n"
     ]
    }
   ],
   "source": [
    "num = 100\n",
    "if (num % 2 == 0):\n",
    "    print (f\"{num} is an EVEN number...\")\n",
    "    \n",
    "if (num % 2 != 0):\n",
    "    pass   # statement place holder\n",
    "else:\n",
    "    print (f\"{num} is an EVEN number...\")"
   ]
  },
  {
   "cell_type": "code",
   "execution_count": 20,
   "id": "3cfc23bf-142f-4d57-a216-ba6a78e3b8f2",
   "metadata": {},
   "outputs": [
    {
     "name": "stdout",
     "output_type": "stream",
     "text": [
      "Visit Doctor...\n",
      "Good Morning...\n",
      "Day No. = 1 and Medicine No. = 1...\n",
      "Day No. = 1 and Medicine No. = 2...\n",
      "Day No. = 1 and Medicine No. = 3...\n",
      "Good Night...\n",
      "~~~~~~~~~~~~~~~~~~~~~~~~~~~~~~~~~~~~~~~~~~~~\n",
      "Good Morning...\n",
      "Day No. = 2 and Medicine No. = 1...\n",
      "Day No. = 2 and Medicine No. = 2...\n",
      "Day No. = 2 and Medicine No. = 3...\n",
      "Good Night...\n",
      "~~~~~~~~~~~~~~~~~~~~~~~~~~~~~~~~~~~~~~~~~~~~\n",
      "Good Morning...\n",
      "Day No. = 3 and Medicine No. = 1...\n",
      "Day No. = 3 and Medicine No. = 2...\n",
      "Day No. = 3 and Medicine No. = 3...\n",
      "Good Night...\n",
      "~~~~~~~~~~~~~~~~~~~~~~~~~~~~~~~~~~~~~~~~~~~~\n",
      "Good Morning...\n",
      "Day No. = 4 and Medicine No. = 1...\n",
      "Day No. = 4 and Medicine No. = 2...\n",
      "Day No. = 4 and Medicine No. = 3...\n",
      "Good Night...\n",
      "~~~~~~~~~~~~~~~~~~~~~~~~~~~~~~~~~~~~~~~~~~~~\n",
      "Good Morning...\n",
      "Day No. = 5 and Medicine No. = 1...\n",
      "Day No. = 5 and Medicine No. = 2...\n",
      "Day No. = 5 and Medicine No. = 3...\n",
      "Good Night...\n",
      "~~~~~~~~~~~~~~~~~~~~~~~~~~~~~~~~~~~~~~~~~~~~\n",
      "Thanks to Doctor...\n",
      "End of the program...\n"
     ]
    }
   ],
   "source": [
    "# example of nested loops\n",
    "print (\"Visit Doctor...\")    # 1 time\n",
    "for day in range(1, 6):\n",
    "    print (\"Good Morning...\")    # 5 times\n",
    "    for medi in range(1, 4):\n",
    "        print (f\"Day No. = {day} and Medicine No. = {medi}...\")    # 15 times\n",
    "    print (\"Good Night...\")    # 5 times\n",
    "    print (\"~~~~~~~~~~~~~~~~~~~~~~~~~~~~~~~~~~~~~~~~~~~~\")    # 5 times\n",
    "print (\"Thanks to Doctor...\")    # 1 time\n",
    "print (\"End of the program...\")    # 1 time"
   ]
  },
  {
   "cell_type": "code",
   "execution_count": 21,
   "id": "d0b8ed45-7f10-4d00-aa68-a791397d8d22",
   "metadata": {},
   "outputs": [
    {
     "name": "stdout",
     "output_type": "stream",
     "text": [
      "For i = 5, Hello World...\n",
      "For i = 6, Hello World...\n",
      "For i = 7, Hello World...\n",
      "For i = 8, Hello World...\n",
      "For i = 9, Hello World...\n",
      "ELSE block is executing...\n",
      "End of the program...\n"
     ]
    }
   ],
   "source": [
    "for i in range(5, 10):\n",
    "    print (f\"For i = {i}, Hello World...\")\n",
    "else:\n",
    "    print (\"ELSE block is executing...\")\n",
    "    \n",
    "print (\"End of the program...\")"
   ]
  },
  {
   "cell_type": "code",
   "execution_count": 22,
   "id": "cbccd98b-6a28-453c-8f91-732f24923ae4",
   "metadata": {},
   "outputs": [
    {
     "name": "stdout",
     "output_type": "stream",
     "text": [
      "For i = 5, Hello World...\n",
      "For i = 6, Hello World...\n",
      "For i = 7, Hello World...\n",
      "For i = 8, Hello World...\n",
      "For i = 9, Hello World...\n",
      "ELSE block is executing...\n",
      "End of the program...\n"
     ]
    }
   ],
   "source": [
    "i = 5\n",
    "while (i <= 9):\n",
    "    print (f\"For i = {i}, Hello World...\")\n",
    "    # i = i + 1\n",
    "    i += 1\n",
    "else:\n",
    "    print (\"ELSE block is executing...\")\n",
    "    \n",
    "print (\"End of the program...\")"
   ]
  },
  {
   "cell_type": "code",
   "execution_count": 24,
   "id": "cdf799f4-27e0-4c1f-8827-f2cedfb7ccbe",
   "metadata": {},
   "outputs": [
    {
     "name": "stdout",
     "output_type": "stream",
     "text": [
      "Visit Doctor...\n",
      "Good Morning...\n",
      "Day No. = 1 and Medicine No. = 1...\n",
      "Day No. = 1 and Medicine No. = 2...\n",
      "Day No. = 1 and Medicine No. = 3...\n",
      "Good Night...\n",
      "~~~~~~~~~~~~~~~~~~~~~~~~~~~~~~~~~~~~~~~~~~~~\n",
      "Good Morning...\n",
      "Day No. = 2 and Medicine No. = 1...\n",
      "Day No. = 2 and Medicine No. = 2...\n",
      "Day No. = 2 and Medicine No. = 3...\n",
      "Good Night...\n",
      "~~~~~~~~~~~~~~~~~~~~~~~~~~~~~~~~~~~~~~~~~~~~\n",
      "Good Morning...\n",
      "Day No. = 3 and Medicine No. = 1...\n",
      "Day No. = 3 and Medicine No. = 2...\n",
      "Day No. = 3 and Medicine No. = 3...\n",
      "Good Night...\n",
      "~~~~~~~~~~~~~~~~~~~~~~~~~~~~~~~~~~~~~~~~~~~~\n",
      "Good Morning...\n",
      "Day No. = 4 and Medicine No. = 1...\n",
      "Day No. = 4 and Medicine No. = 2...\n",
      "Day No. = 4 and Medicine No. = 3...\n",
      "Good Night...\n",
      "~~~~~~~~~~~~~~~~~~~~~~~~~~~~~~~~~~~~~~~~~~~~\n",
      "Good Morning...\n",
      "Day No. = 5 and Medicine No. = 1...\n",
      "Day No. = 5 and Medicine No. = 2...\n",
      "Day No. = 5 and Medicine No. = 3...\n",
      "Good Night...\n",
      "~~~~~~~~~~~~~~~~~~~~~~~~~~~~~~~~~~~~~~~~~~~~\n",
      "Thanks to Doctor...\n",
      "End of the program...\n"
     ]
    }
   ],
   "source": [
    "# example of nested loops\n",
    "print (\"Visit Doctor...\")    # 1 time\n",
    "day = 1\n",
    "while (day <= 5):\n",
    "    print (\"Good Morning...\")    # 5 times\n",
    "    medi = 1\n",
    "    while (medi <= 3):\n",
    "        print (f\"Day No. = {day} and Medicine No. = {medi}...\")    # 15 times\n",
    "        medi += 1\n",
    "    print (\"Good Night...\")    # 5 times\n",
    "    print (\"~~~~~~~~~~~~~~~~~~~~~~~~~~~~~~~~~~~~~~~~~~~~\")    # 5 times\n",
    "    day = day + 1\n",
    "print (\"Thanks to Doctor...\")    # 1 time\n",
    "print (\"End of the program...\")    # 1 time"
   ]
  },
  {
   "cell_type": "code",
   "execution_count": 26,
   "id": "1dfa417d-072b-43ab-a469-bd74b9cccd02",
   "metadata": {},
   "outputs": [
    {
     "name": "stdin",
     "output_type": "stream",
     "text": [
      "Please enter one positive integer:  100\n"
     ]
    },
    {
     "name": "stdout",
     "output_type": "stream",
     "text": [
      "100 is Not a PRIME Number...\n",
      "End of the program...\n"
     ]
    }
   ],
   "source": [
    "num = int(input(\"Please enter one positive integer: \"))\n",
    "for i in range(2, num):\n",
    "    if (num % i == 0):\n",
    "        print (f\"{num} is Not a PRIME Number...\")\n",
    "        break\n",
    "else:\n",
    "    print (f\"{num} is a PRIME Number...\")\n",
    "    \n",
    "print (\"End of the program...\")"
   ]
  },
  {
   "cell_type": "markdown",
   "id": "0c9c0fde-0642-42ea-9feb-a78cc4d1cf54",
   "metadata": {},
   "source": [
    "### String Processing "
   ]
  },
  {
   "cell_type": "code",
   "execution_count": 42,
   "id": "adb38885-312c-468f-a705-ee55dc816b7e",
   "metadata": {},
   "outputs": [
    {
     "name": "stdout",
     "output_type": "stream",
     "text": [
      "oUr COUNtry iS greAt 20 1866959516976 <class 'str'>\n",
      "OUR COUNTRY IS GREAT\n",
      "our country is great\n",
      "Our country is great\n",
      "Our Country Is Great\n",
      "OuR counTRY Is GREaT\n",
      "     oUr COUNtry iS greAt     \n"
     ]
    }
   ],
   "source": [
    "mystr = \"oUr COUNtry iS greAt\"\n",
    "print (mystr, len(mystr), id(mystr), type(mystr))\n",
    "print (mystr.upper())\n",
    "print (mystr.lower())\n",
    "print (mystr.capitalize())\n",
    "print (mystr.title())\n",
    "print (mystr.swapcase())\n",
    "print (mystr.center(30))"
   ]
  },
  {
   "cell_type": "code",
   "execution_count": 31,
   "id": "f9e6d9ec-75f1-4599-845f-c70da32cdab8",
   "metadata": {},
   "outputs": [
    {
     "name": "stdout",
     "output_type": "stream",
     "text": [
      "Our Country Is Great 20 1866964416112\n",
      "['Our', 'Country', 'Is', 'Great']\n",
      "['Ou', ' Count', 'y Is G', 'eat']\n",
      "['Our Country Is Great']\n"
     ]
    }
   ],
   "source": [
    "mystr = \"Our Country Is Great\"\n",
    "print (mystr, len(mystr), id(mystr))\n",
    "list1 = mystr.split()\n",
    "print (list1)\n",
    "list1 = mystr.split(\"r\")\n",
    "print (list1)\n",
    "list1 = mystr.split(\"x\")\n",
    "print (list1)"
   ]
  },
  {
   "cell_type": "code",
   "execution_count": 41,
   "id": "fb8dcfad-06db-4a63-94c5-073d0d40c2ce",
   "metadata": {},
   "outputs": [
    {
     "name": "stdout",
     "output_type": "stream",
     "text": [
      "university 10 1866963836336\n",
      "i i e e\n",
      "univer univer univer univer\n",
      "sity sity\n",
      "ver ver ver ver\n"
     ]
    }
   ],
   "source": [
    "# indexing and slicing\n",
    "#  index L2R ->  0  1  2  3  4  5  6  7  8  9\n",
    "#       mystr = \"u  n  i  v  e  r  s  i  t  y \"\n",
    "#  index R2L ->-10 -9 -8 -7 -6 -5 -4 -3 -2 -1  \n",
    "mystr = \"university\"\n",
    "print (mystr, len(mystr), id(mystr))\n",
    "print (mystr[7], mystr[-3], mystr[4], mystr[-6])\n",
    "print (mystr[:6], mystr[0:6], mystr[:-4], mystr[-10:-4])\n",
    "print (mystr[6:], mystr[-4:])\n",
    "print (mystr[3:6], mystr[-7:-4], mystr[3:-4], mystr[-7:6])"
   ]
  },
  {
   "cell_type": "code",
   "execution_count": null,
   "id": "5afbf617-3c46-4516-b0d1-4e01cc8b60ad",
   "metadata": {},
   "outputs": [],
   "source": [
    "help(str)"
   ]
  },
  {
   "cell_type": "code",
   "execution_count": 48,
   "id": "06ef9226-8371-4738-8f53-be15e56d34bd",
   "metadata": {},
   "outputs": [
    {
     "name": "stdout",
     "output_type": "stream",
     "text": [
      "abcd True False True\n",
      "1234 False True True\n",
      "abcd1234 False False True\n",
      "abcd@1234 False False False\n"
     ]
    }
   ],
   "source": [
    "mystr = \"abcd\"\n",
    "print (mystr, mystr.isalpha(), mystr.isnumeric(), mystr.isalnum())\n",
    "mystr = \"1234\"\n",
    "print (mystr, mystr.isalpha(), mystr.isnumeric(), mystr.isalnum())\n",
    "mystr = \"abcd1234\"\n",
    "print (mystr, mystr.isalpha(), mystr.isnumeric(), mystr.isalnum())\n",
    "mystr = \"abcd@1234\"\n",
    "print (mystr, mystr.isalpha(), mystr.isnumeric(), mystr.isalnum())"
   ]
  },
  {
   "cell_type": "code",
   "execution_count": 52,
   "id": "dbd4d395-2954-448c-84d2-390015b2ba85",
   "metadata": {},
   "outputs": [
    {
     "name": "stdout",
     "output_type": "stream",
     "text": [
      "    Marry   Williums       26 <class 'str'>\n",
      "Marry   Williums 16\n",
      "Marry   Williums       22\n",
      "    Marry   Williums 20\n"
     ]
    }
   ],
   "source": [
    "mystr = \"    Marry   Williums      \"\n",
    "print (mystr, len(mystr), type(mystr))\n",
    "print (mystr.strip(), len(mystr.strip()))\n",
    "print (mystr.lstrip(), len(mystr.lstrip()))\n",
    "print (mystr.rstrip(), len(mystr.rstrip()))"
   ]
  },
  {
   "cell_type": "code",
   "execution_count": 53,
   "id": "6903b15c-90ef-492f-a316-4dafb3d4cb86",
   "metadata": {},
   "outputs": [
    {
     "name": "stdout",
     "output_type": "stream",
     "text": [
      "@#@@Marry@@##Williums#@#@@ 26 <class 'str'>\n",
      "Marry@@##Williums 17\n",
      "Marry@@##Williums#@#@@ 22\n",
      "@#@@Marry@@##Williums 21\n"
     ]
    }
   ],
   "source": [
    "mystr = \"@#@@Marry@@##Williums#@#@@\"\n",
    "print (mystr, len(mystr), type(mystr))\n",
    "print (mystr.strip(\"@#\"), len(mystr.strip(\"@#\")))\n",
    "print (mystr.lstrip(\"@#\"), len(mystr.lstrip(\"@#\")))\n",
    "print (mystr.rstrip(\"@#\"), len(mystr.rstrip(\"@#\")))"
   ]
  },
  {
   "cell_type": "code",
   "execution_count": 60,
   "id": "88dd0760-3bd2-425e-bf23-b6e1a3c55622",
   "metadata": {},
   "outputs": [
    {
     "name": "stdout",
     "output_type": "stream",
     "text": [
      "university 10 1866963836336 <class 'str'>\n",
      "2 2 2\n",
      "7 7 7\n"
     ]
    },
    {
     "ename": "ValueError",
     "evalue": "substring not found",
     "output_type": "error",
     "traceback": [
      "\u001b[1;31m---------------------------------------------------------------------------\u001b[0m",
      "\u001b[1;31mValueError\u001b[0m                                Traceback (most recent call last)",
      "\u001b[1;32m<ipython-input-60-ff842a73ed9e>\u001b[0m in \u001b[0;36m<module>\u001b[1;34m\u001b[0m\n\u001b[0;32m      3\u001b[0m \u001b[0mprint\u001b[0m \u001b[1;33m(\u001b[0m\u001b[0mmystr\u001b[0m\u001b[1;33m.\u001b[0m\u001b[0mindex\u001b[0m\u001b[1;33m(\u001b[0m\u001b[1;34m\"i\"\u001b[0m\u001b[1;33m)\u001b[0m\u001b[1;33m,\u001b[0m \u001b[0mmystr\u001b[0m\u001b[1;33m.\u001b[0m\u001b[0mindex\u001b[0m\u001b[1;33m(\u001b[0m\u001b[1;34m\"i\"\u001b[0m\u001b[1;33m,\u001b[0m \u001b[1;36m0\u001b[0m\u001b[1;33m)\u001b[0m\u001b[1;33m,\u001b[0m \u001b[0mmystr\u001b[0m\u001b[1;33m.\u001b[0m\u001b[0mindex\u001b[0m\u001b[1;33m(\u001b[0m\u001b[1;34m\"i\"\u001b[0m\u001b[1;33m,\u001b[0m \u001b[1;36m1\u001b[0m\u001b[1;33m)\u001b[0m\u001b[1;33m)\u001b[0m\u001b[1;33m\u001b[0m\u001b[1;33m\u001b[0m\u001b[0m\n\u001b[0;32m      4\u001b[0m \u001b[0mprint\u001b[0m \u001b[1;33m(\u001b[0m\u001b[0mmystr\u001b[0m\u001b[1;33m.\u001b[0m\u001b[0mindex\u001b[0m\u001b[1;33m(\u001b[0m\u001b[1;34m\"i\"\u001b[0m\u001b[1;33m,\u001b[0m \u001b[1;36m3\u001b[0m\u001b[1;33m)\u001b[0m\u001b[1;33m,\u001b[0m \u001b[0mmystr\u001b[0m\u001b[1;33m.\u001b[0m\u001b[0mindex\u001b[0m\u001b[1;33m(\u001b[0m\u001b[1;34m\"i\"\u001b[0m\u001b[1;33m,\u001b[0m \u001b[1;36m5\u001b[0m\u001b[1;33m)\u001b[0m\u001b[1;33m,\u001b[0m \u001b[0mmystr\u001b[0m\u001b[1;33m.\u001b[0m\u001b[0mindex\u001b[0m\u001b[1;33m(\u001b[0m\u001b[1;34m\"i\"\u001b[0m\u001b[1;33m,\u001b[0m \u001b[1;36m6\u001b[0m\u001b[1;33m)\u001b[0m\u001b[1;33m)\u001b[0m\u001b[1;33m\u001b[0m\u001b[1;33m\u001b[0m\u001b[0m\n\u001b[1;32m----> 5\u001b[1;33m \u001b[0mprint\u001b[0m \u001b[1;33m(\u001b[0m\u001b[0mmystr\u001b[0m\u001b[1;33m.\u001b[0m\u001b[0mindex\u001b[0m\u001b[1;33m(\u001b[0m\u001b[1;34m\"i\"\u001b[0m\u001b[1;33m,\u001b[0m \u001b[1;36m10\u001b[0m\u001b[1;33m)\u001b[0m\u001b[1;33m)\u001b[0m\u001b[1;33m\u001b[0m\u001b[1;33m\u001b[0m\u001b[0m\n\u001b[0m",
      "\u001b[1;31mValueError\u001b[0m: substring not found"
     ]
    }
   ],
   "source": [
    "mystr = \"university\"\n",
    "print (mystr, len(mystr), id(mystr), type(mystr))\n",
    "print (mystr.index(\"i\"), mystr.index(\"i\", 0), mystr.index(\"i\", 1))\n",
    "print (mystr.index(\"i\", 3), mystr.index(\"i\", 5), mystr.index(\"i\", 6))\n",
    "print (mystr.index(\"i\", 10))"
   ]
  },
  {
   "cell_type": "code",
   "execution_count": 62,
   "id": "c1623a41-f3e2-4865-ba0b-b9a5d78f2bee",
   "metadata": {},
   "outputs": [
    {
     "name": "stdout",
     "output_type": "stream",
     "text": [
      "university 10 1866963836336 <class 'str'>\n",
      "2 2 2\n",
      "7 7 7\n",
      "-1\n"
     ]
    }
   ],
   "source": [
    "mystr = \"university\"\n",
    "print (mystr, len(mystr), id(mystr), type(mystr))\n",
    "print (mystr.find(\"i\"), mystr.find(\"i\", 0), mystr.find(\"i\", 1))\n",
    "print (mystr.find(\"i\", 3), mystr.find(\"i\", 5), mystr.find(\"i\", 6))\n",
    "print (mystr.find(\"i\", 10))"
   ]
  },
  {
   "cell_type": "code",
   "execution_count": 64,
   "id": "21822521-0303-4c8c-b938-69ed6f424c96",
   "metadata": {},
   "outputs": [
    {
     "name": "stdout",
     "output_type": "stream",
     "text": [
      "university 10 1866963836336 <class 'str'>\n",
      "2 1 0\n",
      "2 1 0\n"
     ]
    }
   ],
   "source": [
    "mystr = \"university\"\n",
    "print (mystr, len(mystr), id(mystr), type(mystr))\n",
    "print (mystr.count(\"i\"), mystr.count(\"s\"), mystr.count(\"b\"))\n",
    "print (mystr.count(\"i\", 0), mystr.count(\"i\", 3), mystr.count(\"i, 8\"))"
   ]
  },
  {
   "cell_type": "code",
   "execution_count": 66,
   "id": "a86f515a-3ffe-4ab8-9ecd-6d8c217e41eb",
   "metadata": {},
   "outputs": [
    {
     "name": "stdout",
     "output_type": "stream",
     "text": [
      "university\n",
      "uni versity\n"
     ]
    }
   ],
   "source": [
    "mystr1 = \"uni\"\n",
    "mystr2 = \"versity\"\n",
    "print (mystr1 + mystr2)\n",
    "print (mystr1 + \" \" + mystr2)"
   ]
  },
  {
   "cell_type": "markdown",
   "id": "b11cc569-cbaa-41fa-bcd1-7d6c14d66877",
   "metadata": {},
   "source": [
    "### User Defined Function (UDF)"
   ]
  },
  {
   "cell_type": "code",
   "execution_count": 68,
   "id": "f713aefb-baa4-4f35-b2d3-182a03dc7f2c",
   "metadata": {},
   "outputs": [
    {
     "name": "stdout",
     "output_type": "stream",
     "text": [
      "Welcome Welcome Welcome Welcome \n",
      "Welcome Welcome Welcome Welcome \n",
      "Welcome Welcome Welcome Welcome \n"
     ]
    }
   ],
   "source": [
    "def funct1():\n",
    "    print (\"Welcome \" * 4)\n",
    "    \n",
    "funct1()\n",
    "funct1()\n",
    "funct1()"
   ]
  },
  {
   "cell_type": "code",
   "execution_count": 71,
   "id": "a68fa196-a029-4622-9374-55359c60ab9d",
   "metadata": {},
   "outputs": [
    {
     "name": "stdout",
     "output_type": "stream",
     "text": [
      "Welcome Welcome Welcome Welcome \n",
      "Hello Hello Hello Hello Hello \n"
     ]
    }
   ],
   "source": [
    "def funct2(msg, times):  # positional parameters\n",
    "    print (msg * times)\n",
    "    \n",
    "funct2(\"Welcome \", 4)  # positional arguments\n",
    "funct2(\"Hello \", 5)"
   ]
  },
  {
   "cell_type": "code",
   "execution_count": 74,
   "id": "4f8c5d16-28d3-418d-bcd1-91679723c1c4",
   "metadata": {},
   "outputs": [
    {
     "name": "stdout",
     "output_type": "stream",
     "text": [
      "Welcome Welcome Welcome Welcome Welcome \n",
      "Hello Hello Hello Hello Hello Hello Hello \n",
      "<class 'str'> 42\n"
     ]
    }
   ],
   "source": [
    "def funct3(msg, times):\n",
    "    return msg * times\n",
    "\n",
    "print (funct3(\"Welcome \", 5))\n",
    "result = funct3(\"Hello \", 7)\n",
    "print (result)\n",
    "print (type(result), len(result))"
   ]
  },
  {
   "cell_type": "code",
   "execution_count": 83,
   "id": "5d618e0f-85e5-46b9-823f-8c1284b73e2d",
   "metadata": {},
   "outputs": [
    {
     "name": "stdout",
     "output_type": "stream",
     "text": [
      "par1 = 100, par2 = 200 and par3 = 300...\n",
      "par1 = 100, par2 = 200 and par3 = 333...\n",
      "par1 = 100, par2 = 222 and par3 = 333...\n",
      "par1 = 111, par2 = 222 and par3 = 333...\n",
      "par1 = 111, par2 = 200 and par3 = 300...\n",
      "par1 = 100, par2 = 222 and par3 = 300...\n"
     ]
    }
   ],
   "source": [
    "# function with default arguments\n",
    "def funct4(par1 = 111, par2 = 222, par3 = 333):\n",
    "    print (f\"par1 = {par1}, par2 = {par2} and par3 = {par3}...\")\n",
    "    \n",
    "funct4(100, 200, 300)\n",
    "funct4(100, 200)\n",
    "funct4(100)\n",
    "funct4()\n",
    "funct4(par2 = 200, par3 = 300)\n",
    "funct4(par3 = 300, par1 = 100)"
   ]
  },
  {
   "cell_type": "code",
   "execution_count": 85,
   "id": "2dc1e86f-b260-4a87-9805-b3760ba87456",
   "metadata": {},
   "outputs": [
    {
     "name": "stdout",
     "output_type": "stream",
     "text": [
      "200\n",
      "1000\n"
     ]
    }
   ],
   "source": [
    "def funct5(num1, num2 = None):\n",
    "    # if (num2 == None):\n",
    "    if (num2 is None):\n",
    "        return num1 + num1\n",
    "    else:\n",
    "        return num1 + num2\n",
    "    \n",
    "print (funct5(100))\n",
    "print (funct5(100, 900))"
   ]
  },
  {
   "cell_type": "code",
   "execution_count": 89,
   "id": "c1b6a889-26fd-4d58-aede-1ab39c2024a7",
   "metadata": {},
   "outputs": [
    {
     "name": "stdout",
     "output_type": "stream",
     "text": [
      "total = 140, difference = 60, product = 4000 and quotient = 2.5...\n",
      "(140, 60, 4000, 2.5) 4 <class 'tuple'>\n",
      "total = 140, difference = 60, product = 4000 and quotient = 2.5...\n"
     ]
    }
   ],
   "source": [
    "# functon returning multiple arguments\n",
    "def funct6(num1, num2):\n",
    "    total = num1 + num2\n",
    "    difference = num1 - num2\n",
    "    product = num1 * num2\n",
    "    quotient = num1 / num2\n",
    "    return total, difference, product, quotient\n",
    "\n",
    "tt, dd, pp, qq = funct6(100, 40)\n",
    "print (f\"total = {tt}, difference = {dd}, product = {pp} and quotient = {qq}...\")\n",
    "result = funct6(100, 40)\n",
    "print (result, len(result), type(result))\n",
    "print (f\"total = {result[0]}, difference = {result[1]}, product = {result[2]} and quotient = {result[3]}...\")"
   ]
  },
  {
   "cell_type": "code",
   "execution_count": 94,
   "id": "d287ba74-61b0-4cdf-9274-00fcff269c44",
   "metadata": {},
   "outputs": [
    {
     "name": "stdout",
     "output_type": "stream",
     "text": [
      "('Amitava', 'Developer', 65000) 3 <class 'tuple'> 1866964748096\n",
      "('Amitava', 'Developer', 65000, 'Married') 4 <class 'tuple'> 1866964838096\n",
      "('Amitava', 'Developer', 65000, 'Married', 'Pune') 5 <class 'tuple'> 1866960557376\n",
      "('Amitava', 'Developer', 65000, 'Married', 'Pune', 'Masters') 6 <class 'tuple'> 1866967334816\n"
     ]
    }
   ],
   "source": [
    "# function with variable number of arguments\n",
    "def funct7(*arg):  # *arg means forcefully defining arg as a tuple type\n",
    "    print (arg, len(arg), type(arg), id(arg))\n",
    "    \n",
    "funct7(\"Amitava\", \"Developer\", 65000)\n",
    "funct7(\"Amitava\", \"Developer\", 65000, \"Married\")\n",
    "funct7(\"Amitava\", \"Developer\", 65000, \"Married\", \"Pune\")\n",
    "funct7(\"Amitava\", \"Developer\", 65000, \"Married\", \"Pune\", \"Masters\")"
   ]
  },
  {
   "cell_type": "code",
   "execution_count": 95,
   "id": "ab0baa53-5c1e-4a88-901b-a93deb52a334",
   "metadata": {},
   "outputs": [
    {
     "name": "stdout",
     "output_type": "stream",
     "text": [
      "{'name': 'Amitava', 'designation': 'Developer', 'salary': 65000} 3 <class 'dict'> 1866968252928\n",
      "{'name': 'Amitava', 'designation': 'Developer', 'salary': 65000, 'status': 'Married'} 4 <class 'dict'> 1866967346560\n",
      "{'name': 'Amitava', 'designation': 'Developer', 'salary': 65000, 'status': 'Married', 'location': 'Pune'} 5 <class 'dict'> 1866968252480\n",
      "{'name': 'Amitava', 'designation': 'Developer', 'salary': 65000, 'status': 'Married', 'location': 'Pune', 'qualification': 'Masters'} 6 <class 'dict'> 1866968252928\n"
     ]
    }
   ],
   "source": [
    "# function with variable number of arguments\n",
    "def funct8(**kwarg):  # **kwarg means forcefully defining kwarg as a dictionary type, key-word argument\n",
    "    print (kwarg, len(kwarg), type(kwarg), id(kwarg))\n",
    "    \n",
    "funct8(name=\"Amitava\", designation=\"Developer\", salary=65000)\n",
    "funct8(name=\"Amitava\", designation=\"Developer\", salary=65000, status=\"Married\")\n",
    "funct8(name=\"Amitava\", designation=\"Developer\", salary=65000, status=\"Married\", location=\"Pune\")\n",
    "funct8(name=\"Amitava\", designation=\"Developer\", salary=65000, status=\"Married\", location=\"Pune\", qualification=\"Masters\")"
   ]
  },
  {
   "cell_type": "code",
   "execution_count": 97,
   "id": "09d2d891-fd14-4acf-8e21-129a6a220188",
   "metadata": {},
   "outputs": [
    {
     "name": "stdout",
     "output_type": "stream",
     "text": [
      "('Amitava', 'Developer', 65000) 3 <class 'tuple'> 1866963424768\n",
      "{'status': 'Married', 'location': 'Pune', 'qualification': 'Masters'} 3 <class 'dict'> 1866969603392\n",
      "\n",
      "('Amitava', 'Developer', 65000) 3 <class 'tuple'> 1866970945792\n",
      "{} 0 <class 'dict'> 1866969602112\n",
      "\n",
      "() 0 <class 'tuple'> 1866871734336\n",
      "{'status': 'Married', 'location': 'Pune', 'qualification': 'Masters'} 3 <class 'dict'> 1866969602752\n"
     ]
    }
   ],
   "source": [
    "# function with variable number of arguments\n",
    "def funct9(*arg, **kwarg):  # **kwarg means forcefully defining kwarg as a dictionary type, key-word argument\n",
    "    print (arg, len(arg), type(arg), id(arg))\n",
    "    print (kwarg, len(kwarg), type(kwarg), id(kwarg))\n",
    "    \n",
    "funct9(\"Amitava\", \"Developer\", 65000, status=\"Married\", location=\"Pune\", qualification=\"Masters\")\n",
    "print ()\n",
    "funct9(\"Amitava\", \"Developer\", 65000)\n",
    "print ()\n",
    "funct9(status=\"Married\", location=\"Pune\", qualification=\"Masters\")"
   ]
  },
  {
   "cell_type": "code",
   "execution_count": 100,
   "id": "af793639-4166-4ec1-930d-45d325f450f6",
   "metadata": {},
   "outputs": [
    {
     "name": "stdout",
     "output_type": "stream",
     "text": [
      "Executing for i = 1...\n",
      "Executing for i = 2...\n",
      "Executing for i = 3...\n",
      "Executing for i = 4...\n",
      "Executing for i = 5...\n",
      "120\n"
     ]
    }
   ],
   "source": [
    "# factorial: 5! = 1 * 2 * 3 * 4 * 5 = 5 * 4 * 3 * 2 * 1 = 120\n",
    "# 1! = 0! = 1\n",
    "# non-recursive factorial calculating function\n",
    "def factorial_nr(num):\n",
    "    if (num == 0 or num == 1): return 1\n",
    "    fact = 1\n",
    "    for i in range(1, num + 1):\n",
    "        print (f\"Executing for i = {i}...\")\n",
    "        fact = fact * i\n",
    "    return fact\n",
    "\n",
    "print (factorial_nr(5))"
   ]
  },
  {
   "cell_type": "code",
   "execution_count": 102,
   "id": "1e4847dd-330c-457e-8706-26e82b12cebb",
   "metadata": {},
   "outputs": [
    {
     "name": "stdout",
     "output_type": "stream",
     "text": [
      "120\n",
      "720\n"
     ]
    }
   ],
   "source": [
    "# factorial: 5! = 1 * 2 * 3 * 4 * 5 = 5 * 4 * 3 * 2 * 1 = 120\n",
    "# 1! = 0! = 1\n",
    "# recursive factorial calculating function\n",
    "def factorial_r(num):\n",
    "    # base case -> for certain inputs outputs are pre-known to us, where the recursion will terminate\n",
    "    if (num == 0 or num == 1): return 1\n",
    "    # recursive case -> the function will call itself either directly or indirectly\n",
    "    return num * factorial_r(num - 1)\n",
    "\n",
    "print (factorial_r(5))\n",
    "print (factorial_r(6))"
   ]
  },
  {
   "cell_type": "code",
   "execution_count": null,
   "id": "06270f2d-e2af-41ab-8b1c-10c18cc7717c",
   "metadata": {},
   "outputs": [],
   "source": [
    "5! = 5 * 4!\n",
    "         4 * 3!\n",
    "             3 * 2!\n",
    "                 2 * 1!\n",
    "                     1\n",
    "                 2\n",
    "             6\n",
    "         24\n",
    "     120   "
   ]
  },
  {
   "cell_type": "code",
   "execution_count": null,
   "id": "7104d1d2-6bb5-4a56-a045-9059f5b721b5",
   "metadata": {},
   "outputs": [],
   "source": []
  },
  {
   "cell_type": "code",
   "execution_count": null,
   "id": "cbf91369-8c80-4c5d-8651-7a226e89d3c6",
   "metadata": {},
   "outputs": [],
   "source": []
  },
  {
   "cell_type": "code",
   "execution_count": null,
   "id": "ace5f50a-5005-47f6-811d-12399aeedb36",
   "metadata": {},
   "outputs": [],
   "source": []
  },
  {
   "cell_type": "code",
   "execution_count": null,
   "id": "f136c309-b6e3-4270-9535-d3d477c37827",
   "metadata": {},
   "outputs": [],
   "source": []
  },
  {
   "cell_type": "code",
   "execution_count": null,
   "id": "3a8067af-6732-41a6-ad14-e799cdb7c705",
   "metadata": {},
   "outputs": [],
   "source": []
  },
  {
   "cell_type": "code",
   "execution_count": null,
   "id": "2cfedafb-668e-4d8c-8c4b-d7a83de6a143",
   "metadata": {},
   "outputs": [],
   "source": []
  },
  {
   "cell_type": "code",
   "execution_count": null,
   "id": "1b4c3a6d-f089-4caf-a5cf-42f5acdbb2f8",
   "metadata": {},
   "outputs": [],
   "source": []
  },
  {
   "cell_type": "code",
   "execution_count": null,
   "id": "7e525b21-e8e9-47fc-b90c-e92baa432059",
   "metadata": {},
   "outputs": [],
   "source": []
  },
  {
   "cell_type": "code",
   "execution_count": null,
   "id": "414645f2-f2d0-446f-a71b-c116f6df9760",
   "metadata": {},
   "outputs": [],
   "source": []
  },
  {
   "cell_type": "code",
   "execution_count": null,
   "id": "89feffbd-49e6-4a7b-b85d-02ee1942019a",
   "metadata": {},
   "outputs": [],
   "source": []
  },
  {
   "cell_type": "code",
   "execution_count": null,
   "id": "140f642e-a861-43bf-9758-919bb6fd370b",
   "metadata": {},
   "outputs": [],
   "source": []
  },
  {
   "cell_type": "code",
   "execution_count": null,
   "id": "85fa9742-bdb2-4642-bc5c-ec1717450a13",
   "metadata": {},
   "outputs": [],
   "source": []
  },
  {
   "cell_type": "code",
   "execution_count": null,
   "id": "b4d9fe68-fd1d-4002-9134-0dd22d222a98",
   "metadata": {},
   "outputs": [],
   "source": []
  },
  {
   "cell_type": "code",
   "execution_count": null,
   "id": "0315caeb-b3d9-4360-b076-cf0dae74deeb",
   "metadata": {},
   "outputs": [],
   "source": []
  },
  {
   "cell_type": "code",
   "execution_count": null,
   "id": "7d5ea7e9-f6e3-40a2-aaeb-792b3d4d5f02",
   "metadata": {},
   "outputs": [],
   "source": []
  },
  {
   "cell_type": "code",
   "execution_count": null,
   "id": "780b3eb1-cc3e-4d00-9abb-71e70d1d9d23",
   "metadata": {},
   "outputs": [],
   "source": []
  },
  {
   "cell_type": "code",
   "execution_count": null,
   "id": "a062d148-77b5-42fd-bd36-2abd91028be5",
   "metadata": {},
   "outputs": [],
   "source": []
  },
  {
   "cell_type": "code",
   "execution_count": null,
   "id": "958f2c96-fb6f-4ce5-a369-6deca1e4f799",
   "metadata": {},
   "outputs": [],
   "source": []
  },
  {
   "cell_type": "code",
   "execution_count": null,
   "id": "b925de34-e8d0-4fdc-878e-9c27ca8dffe2",
   "metadata": {},
   "outputs": [],
   "source": []
  },
  {
   "cell_type": "code",
   "execution_count": null,
   "id": "156d2c9a-f5de-49c8-b6b5-f00a2a205f64",
   "metadata": {},
   "outputs": [],
   "source": []
  },
  {
   "cell_type": "code",
   "execution_count": null,
   "id": "8740c3bf-40c6-4ded-9985-9f640960c116",
   "metadata": {},
   "outputs": [],
   "source": []
  },
  {
   "cell_type": "code",
   "execution_count": null,
   "id": "ef39032e-ccad-4210-98f9-f157a6f0f87a",
   "metadata": {},
   "outputs": [],
   "source": []
  }
 ],
 "metadata": {
  "kernelspec": {
   "display_name": "Python 3",
   "language": "python",
   "name": "python3"
  },
  "language_info": {
   "codemirror_mode": {
    "name": "ipython",
    "version": 3
   },
   "file_extension": ".py",
   "mimetype": "text/x-python",
   "name": "python",
   "nbconvert_exporter": "python",
   "pygments_lexer": "ipython3",
   "version": "3.8.8"
  }
 },
 "nbformat": 4,
 "nbformat_minor": 5
}
