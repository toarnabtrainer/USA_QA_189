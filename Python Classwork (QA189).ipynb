{
 "cells": [
  {
   "cell_type": "markdown",
   "id": "4a044d58-9caf-418c-8de8-5d0aab8e494b",
   "metadata": {},
   "source": [
    "## Introduction to Python"
   ]
  },
  {
   "cell_type": "code",
   "execution_count": 1,
   "id": "49d72c04-c3b9-4c56-991c-0d6eec6c4076",
   "metadata": {},
   "outputs": [],
   "source": [
    "# This is a comment line"
   ]
  },
  {
   "cell_type": "markdown",
   "id": "b9dadd46-78ca-4c5a-932f-794ec827b8ab",
   "metadata": {},
   "source": [
    "### Python Inputs and Outputs"
   ]
  },
  {
   "cell_type": "code",
   "execution_count": 5,
   "id": "2580542c-3abb-413b-8b26-e78769fe68a2",
   "metadata": {},
   "outputs": [
    {
     "name": "stdin",
     "output_type": "stream",
     "text": [
      "Please enter the first number:  33\n",
      "Please enter the second number:  44\n"
     ]
    },
    {
     "name": "stdout",
     "output_type": "stream",
     "text": [
      "33 <class 'str'> 44 <class 'str'>\n",
      "3344\n",
      "End of the program...\n"
     ]
    }
   ],
   "source": [
    "num1 = input(\"Please enter the first number: \")\n",
    "num2 = input(\"Please enter the second number: \")\n",
    "print (num1, type(num1), num2, type(num2))\n",
    "result = num1 + num2\n",
    "print (result)\n",
    "print (\"End of the program...\")"
   ]
  },
  {
   "cell_type": "code",
   "execution_count": 6,
   "id": "b049b7a9-1bd0-43dd-83f9-100c101db096",
   "metadata": {},
   "outputs": [
    {
     "name": "stdin",
     "output_type": "stream",
     "text": [
      "Please enter the first number:  100\n",
      "Please enter the second number:  300\n"
     ]
    },
    {
     "name": "stdout",
     "output_type": "stream",
     "text": [
      "100 <class 'int'> 300 <class 'int'>\n",
      "400\n",
      "End of the program...\n"
     ]
    }
   ],
   "source": [
    "num1 = int(input(\"Please enter the first number: \"))\n",
    "num2 = int(input(\"Please enter the second number: \"))\n",
    "print (num1, type(num1), num2, type(num2))\n",
    "result = num1 + num2\n",
    "print (result)\n",
    "print (\"End of the program...\")"
   ]
  },
  {
   "cell_type": "code",
   "execution_count": 19,
   "id": "df8004de-1189-49dc-82cb-631eaf4d7083",
   "metadata": {},
   "outputs": [
    {
     "name": "stdout",
     "output_type": "stream",
     "text": [
      "So 100 + 300 = 400\n",
      "So 100 + 300 = 400\n",
      "So 100 + 300 = 400\n",
      "So 100 + 300 = 400\n",
      "So 100 + 300 = 400\n",
      "So 300 + 300 = 400\n",
      "So 300 + 300 = 400\n",
      "So 100 + 300 = 400\n",
      "So 100 + 300.000000 = 400\n",
      "So 100 +   300.00 = 400\n",
      "So 100 + 300 = 400\n"
     ]
    }
   ],
   "source": [
    "print (\"So\", num1, \"+\", num2, \"=\", result)\n",
    "print (\"So \" + str(num1) + \" + \" + str(num2) + \" = \" + str(result))\n",
    "print (\"So {} + {} = {}\".format(num1, num2, result))    # variable placeholder\n",
    "print (\"So {0} + {1} = {2}\".format(num1, num2, result))    # indexed placeholder\n",
    "print (\"So {2} + {1} = {0}\".format(result, num2, num1))    # indexed placeholder\n",
    "print (\"So {n1} + {n2} = {tot}\".format(n1 = num2, n2 = num2, tot = result))    # labeled placeholder\n",
    "print (\"So {n1} + {n2} = {tot}\".format(n2 = num2, n1 = num2, tot = result))    # labeled placeholder\n",
    "print (\"So %d + %d = %d\"%(num1, num2, result))    # formatting\n",
    "print (\"So %d + %f = %d\"%(num1, num2, result))    # formatting\n",
    "print (\"So %d + %8.2f = %d\"%(num1, num2, result))    # formatting\n",
    "print (f\"So {num1} + {num2} = {result}\")    # smart formatting"
   ]
  },
  {
   "cell_type": "markdown",
   "id": "a7b7994d-fddc-489d-95b7-dffb1e95ea5c",
   "metadata": {},
   "source": [
    "### Conditional Statements"
   ]
  },
  {
   "cell_type": "code",
   "execution_count": 37,
   "id": "cb758cb4-4830-460b-b591-31953ab9f9aa",
   "metadata": {},
   "outputs": [
    {
     "name": "stdin",
     "output_type": "stream",
     "text": [
      "Please enter the first number:  100\n",
      "Please enter the second number:  40\n"
     ]
    },
    {
     "name": "stdout",
     "output_type": "stream",
     "text": [
      "1> Addition\n",
      "2> Subtraction\n",
      "3> Multiplication\n",
      "4> Division\n"
     ]
    },
    {
     "name": "stdin",
     "output_type": "stream",
     "text": [
      "Please enter your choice number:  2\n"
     ]
    },
    {
     "name": "stdout",
     "output_type": "stream",
     "text": [
      "Performing the SUBTRACTION operation...\n",
      "So 100 - 40 = 60\n",
      "End of the program...\n"
     ]
    }
   ],
   "source": [
    "num1 = int(input(\"Please enter the first number: \"))\n",
    "num2 = int(input(\"Please enter the second number: \"))\n",
    "print (\"1> Addition\\n2> Subtraction\\n3> Multiplication\\n4> Division\")\n",
    "ch = int(input(\"Please enter your choice number: \"))\n",
    "if (ch == 1):\n",
    "    print (\"Performing the ADDITION operation...\")\n",
    "    result = num1 + num2\n",
    "    print (f\"So {num1} + {num2} = {result}\")\n",
    "elif (ch == 2):\n",
    "    print (\"Performing the SUBTRACTION operation...\")\n",
    "    result = num1 - num2\n",
    "    print (f\"So {num1} - {num2} = {result}\")\n",
    "elif (ch == 3):\n",
    "    print (\"Performing the MULTIPLICATION operation...\")\n",
    "    result = num1 * num2\n",
    "    print (f\"So {num1} * {num2} = {result}\")\n",
    "elif (ch == 4):\n",
    "    print (\"Performing the DIVISION operation...\")\n",
    "    if (num2 == 0):\n",
    "        print (\"DIVISION by ZERO is Illegal !!!\")\n",
    "        print (\"Can not perform the division operation...\")\n",
    "    else:\n",
    "        result = num1 / num2\n",
    "        print (f\"So {num1} / {num2} = {result}\")\n",
    "else:\n",
    "    print (\"Invalid choice number has been given...\")\n",
    "print (\"End of the program...\")"
   ]
  },
  {
   "cell_type": "code",
   "execution_count": 44,
   "id": "7e95ec74-2c84-409d-98ed-b370406bfdd1",
   "metadata": {},
   "outputs": [
    {
     "name": "stdout",
     "output_type": "stream",
     "text": [
      "University <class 'str'> 2595285758192\n",
      "U <class 'str'> 2595202204592\n",
      "100 <class 'int'> 140736313635728\n",
      "100.5 <class 'float'> 2595288877616\n",
      "True <class 'bool'> 140736313349968\n"
     ]
    }
   ],
   "source": [
    "myvar = \"University\"\n",
    "print (myvar, type(myvar), id(myvar))\n",
    "myvar = 'U'\n",
    "print (myvar, type(myvar), id(myvar))\n",
    "myvar = 100\n",
    "print (myvar, type(myvar), id(myvar))\n",
    "myvar = 100.5\n",
    "print (myvar, type(myvar), id(myvar))\n",
    "myvar = True\n",
    "print (myvar, type(myvar), id(myvar))"
   ]
  },
  {
   "cell_type": "markdown",
   "id": "995050b0-1c7b-448e-a982-147b1300e4ef",
   "metadata": {},
   "source": [
    "### Collection Objects"
   ]
  },
  {
   "cell_type": "code",
   "execution_count": 57,
   "id": "c647aa75-35c8-4fa5-bd16-8b64fb46a331",
   "metadata": {},
   "outputs": [
    {
     "name": "stdout",
     "output_type": "stream",
     "text": [
      "['Amit', 34, 54000.5, True] <class 'list'> 2595286098560\n",
      "('Amit', 34, 54000.5, True) <class 'tuple'> 2595277887984\n",
      "{'name': 'Amit', 'age': 34, 'salary': 54000.5, 'married': True} <class 'dict'> 2595285138560\n",
      "{54000.5, True, 34, 'Amit'} <class 'set'> 2595294140224\n",
      "frozenset({54000.5, True, 34, 'Amit'}) <class 'frozenset'> 2595294139328\n"
     ]
    }
   ],
   "source": [
    "myvar = ['Amit', 34, 54000.50, True]\n",
    "print (myvar, type(myvar), id(myvar))\n",
    "myvar = ('Amit', 34, 54000.50, True)\n",
    "print (myvar, type(myvar), id(myvar))\n",
    "myvar = {'name':'Amit', \"age\":34, 'salary':54000.50, 'married':True}\n",
    "print (myvar, type(myvar), id(myvar))\n",
    "myvar = {'Amit', 34, 54000.50, True, 34, 54000.50, True, 34, 54000.50, True, 'Amit'}\n",
    "print (myvar, type(myvar), id(myvar))\n",
    "myvar = frozenset(['Amit', 34, 54000.50, True, 34, 54000.50, True, 34, 54000.50, True, 'Amit'])\n",
    "print (myvar, type(myvar), id(myvar))"
   ]
  },
  {
   "cell_type": "markdown",
   "id": "b5471a4a-0374-4f24-bdca-708fa1ef33d8",
   "metadata": {},
   "source": [
    "### Arithmetic Operators"
   ]
  },
  {
   "cell_type": "code",
   "execution_count": 59,
   "id": "98391509-70cd-435e-a38b-07aa306b7d32",
   "metadata": {},
   "outputs": [
    {
     "name": "stdout",
     "output_type": "stream",
     "text": [
      "140\n",
      "60\n",
      "4000\n",
      "2.5\n",
      "2\n",
      "20\n",
      "100000000\n"
     ]
    }
   ],
   "source": [
    "print (100 + 40)\n",
    "print (100 - 40)\n",
    "print (100 * 40)\n",
    "print (100 / 40)\n",
    "print (100 // 40)\n",
    "print (100 % 40)\n",
    "print (100 ** 4)"
   ]
  },
  {
   "cell_type": "markdown",
   "id": "85f2f969-f44c-4439-a519-dbb567410771",
   "metadata": {},
   "source": [
    "### Logical Operators"
   ]
  },
  {
   "cell_type": "code",
   "execution_count": 63,
   "id": "236e29e1-6a78-4464-9a7b-4023cba04f67",
   "metadata": {},
   "outputs": [
    {
     "name": "stdout",
     "output_type": "stream",
     "text": [
      "False\n",
      "True\n",
      "True\n",
      "False\n"
     ]
    }
   ],
   "source": [
    "print (100 > 400 and 400 > 200)\n",
    "print (100 > 400 or 400 > 200)\n",
    "print (not(100 > 400 and 400 > 200))\n",
    "print (not(100 > 400 or 400 > 200))"
   ]
  },
  {
   "cell_type": "code",
   "execution_count": null,
   "id": "c20fbbfa-e703-4095-8231-ac145fbdfd36",
   "metadata": {},
   "outputs": [],
   "source": []
  },
  {
   "cell_type": "code",
   "execution_count": null,
   "id": "b7b0aae9-c3ba-4cef-8867-ba597ba1fc2e",
   "metadata": {},
   "outputs": [],
   "source": []
  },
  {
   "cell_type": "code",
   "execution_count": null,
   "id": "c4427f8a-1988-47e8-80ac-3bd79439a165",
   "metadata": {},
   "outputs": [],
   "source": []
  },
  {
   "cell_type": "code",
   "execution_count": null,
   "id": "adb38885-312c-468f-a705-ee55dc816b7e",
   "metadata": {},
   "outputs": [],
   "source": []
  },
  {
   "cell_type": "code",
   "execution_count": null,
   "id": "f9e6d9ec-75f1-4599-845f-c70da32cdab8",
   "metadata": {},
   "outputs": [],
   "source": []
  },
  {
   "cell_type": "code",
   "execution_count": null,
   "id": "fb8dcfad-06db-4a63-94c5-073d0d40c2ce",
   "metadata": {},
   "outputs": [],
   "source": []
  },
  {
   "cell_type": "code",
   "execution_count": null,
   "id": "5afbf617-3c46-4516-b0d1-4e01cc8b60ad",
   "metadata": {},
   "outputs": [],
   "source": []
  },
  {
   "cell_type": "code",
   "execution_count": null,
   "id": "06ef9226-8371-4738-8f53-be15e56d34bd",
   "metadata": {},
   "outputs": [],
   "source": []
  },
  {
   "cell_type": "code",
   "execution_count": null,
   "id": "dbd4d395-2954-448c-84d2-390015b2ba85",
   "metadata": {},
   "outputs": [],
   "source": []
  },
  {
   "cell_type": "code",
   "execution_count": null,
   "id": "6903b15c-90ef-492f-a316-4dafb3d4cb86",
   "metadata": {},
   "outputs": [],
   "source": []
  },
  {
   "cell_type": "code",
   "execution_count": null,
   "id": "88dd0760-3bd2-425e-bf23-b6e1a3c55622",
   "metadata": {},
   "outputs": [],
   "source": []
  }
 ],
 "metadata": {
  "kernelspec": {
   "display_name": "Python 3",
   "language": "python",
   "name": "python3"
  },
  "language_info": {
   "codemirror_mode": {
    "name": "ipython",
    "version": 3
   },
   "file_extension": ".py",
   "mimetype": "text/x-python",
   "name": "python",
   "nbconvert_exporter": "python",
   "pygments_lexer": "ipython3",
   "version": "3.8.8"
  }
 },
 "nbformat": 4,
 "nbformat_minor": 5
}
