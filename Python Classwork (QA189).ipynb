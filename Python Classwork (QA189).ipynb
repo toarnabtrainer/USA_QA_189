{
 "cells": [
  {
   "cell_type": "markdown",
   "id": "4a044d58-9caf-418c-8de8-5d0aab8e494b",
   "metadata": {},
   "source": [
    "## Introduction to Python"
   ]
  },
  {
   "cell_type": "code",
   "execution_count": 1,
   "id": "49d72c04-c3b9-4c56-991c-0d6eec6c4076",
   "metadata": {},
   "outputs": [],
   "source": [
    "# This is a comment line"
   ]
  },
  {
   "cell_type": "markdown",
   "id": "b9dadd46-78ca-4c5a-932f-794ec827b8ab",
   "metadata": {},
   "source": [
    "### Python Inputs and Outputs"
   ]
  },
  {
   "cell_type": "code",
   "execution_count": 5,
   "id": "2580542c-3abb-413b-8b26-e78769fe68a2",
   "metadata": {},
   "outputs": [
    {
     "name": "stdin",
     "output_type": "stream",
     "text": [
      "Please enter the first number:  33\n",
      "Please enter the second number:  44\n"
     ]
    },
    {
     "name": "stdout",
     "output_type": "stream",
     "text": [
      "33 <class 'str'> 44 <class 'str'>\n",
      "3344\n",
      "End of the program...\n"
     ]
    }
   ],
   "source": [
    "num1 = input(\"Please enter the first number: \")\n",
    "num2 = input(\"Please enter the second number: \")\n",
    "print (num1, type(num1), num2, type(num2))\n",
    "result = num1 + num2\n",
    "print (result)\n",
    "print (\"End of the program...\")"
   ]
  },
  {
   "cell_type": "code",
   "execution_count": 6,
   "id": "b049b7a9-1bd0-43dd-83f9-100c101db096",
   "metadata": {},
   "outputs": [
    {
     "name": "stdin",
     "output_type": "stream",
     "text": [
      "Please enter the first number:  100\n",
      "Please enter the second number:  300\n"
     ]
    },
    {
     "name": "stdout",
     "output_type": "stream",
     "text": [
      "100 <class 'int'> 300 <class 'int'>\n",
      "400\n",
      "End of the program...\n"
     ]
    }
   ],
   "source": [
    "num1 = int(input(\"Please enter the first number: \"))\n",
    "num2 = int(input(\"Please enter the second number: \"))\n",
    "print (num1, type(num1), num2, type(num2))\n",
    "result = num1 + num2\n",
    "print (result)\n",
    "print (\"End of the program...\")"
   ]
  },
  {
   "cell_type": "code",
   "execution_count": 19,
   "id": "df8004de-1189-49dc-82cb-631eaf4d7083",
   "metadata": {},
   "outputs": [
    {
     "name": "stdout",
     "output_type": "stream",
     "text": [
      "So 100 + 300 = 400\n",
      "So 100 + 300 = 400\n",
      "So 100 + 300 = 400\n",
      "So 100 + 300 = 400\n",
      "So 100 + 300 = 400\n",
      "So 300 + 300 = 400\n",
      "So 300 + 300 = 400\n",
      "So 100 + 300 = 400\n",
      "So 100 + 300.000000 = 400\n",
      "So 100 +   300.00 = 400\n",
      "So 100 + 300 = 400\n"
     ]
    }
   ],
   "source": [
    "print (\"So\", num1, \"+\", num2, \"=\", result)\n",
    "print (\"So \" + str(num1) + \" + \" + str(num2) + \" = \" + str(result))\n",
    "print (\"So {} + {} = {}\".format(num1, num2, result))    # variable placeholder\n",
    "print (\"So {0} + {1} = {2}\".format(num1, num2, result))    # indexed placeholder\n",
    "print (\"So {2} + {1} = {0}\".format(result, num2, num1))    # indexed placeholder\n",
    "print (\"So {n1} + {n2} = {tot}\".format(n1 = num2, n2 = num2, tot = result))    # labeled placeholder\n",
    "print (\"So {n1} + {n2} = {tot}\".format(n2 = num2, n1 = num2, tot = result))    # labeled placeholder\n",
    "print (\"So %d + %d = %d\"%(num1, num2, result))    # formatting\n",
    "print (\"So %d + %f = %d\"%(num1, num2, result))    # formatting\n",
    "print (\"So %d + %8.2f = %d\"%(num1, num2, result))    # formatting\n",
    "print (f\"So {num1} + {num2} = {result}\")    # smart formatting"
   ]
  },
  {
   "cell_type": "markdown",
   "id": "a7b7994d-fddc-489d-95b7-dffb1e95ea5c",
   "metadata": {},
   "source": [
    "### Conditional Statements"
   ]
  },
  {
   "cell_type": "code",
   "execution_count": 37,
   "id": "cb758cb4-4830-460b-b591-31953ab9f9aa",
   "metadata": {},
   "outputs": [
    {
     "name": "stdin",
     "output_type": "stream",
     "text": [
      "Please enter the first number:  100\n",
      "Please enter the second number:  40\n"
     ]
    },
    {
     "name": "stdout",
     "output_type": "stream",
     "text": [
      "1> Addition\n",
      "2> Subtraction\n",
      "3> Multiplication\n",
      "4> Division\n"
     ]
    },
    {
     "name": "stdin",
     "output_type": "stream",
     "text": [
      "Please enter your choice number:  2\n"
     ]
    },
    {
     "name": "stdout",
     "output_type": "stream",
     "text": [
      "Performing the SUBTRACTION operation...\n",
      "So 100 - 40 = 60\n",
      "End of the program...\n"
     ]
    }
   ],
   "source": [
    "num1 = int(input(\"Please enter the first number: \"))\n",
    "num2 = int(input(\"Please enter the second number: \"))\n",
    "print (\"1> Addition\\n2> Subtraction\\n3> Multiplication\\n4> Division\")\n",
    "ch = int(input(\"Please enter your choice number: \"))\n",
    "if (ch == 1):\n",
    "    print (\"Performing the ADDITION operation...\")\n",
    "    result = num1 + num2\n",
    "    print (f\"So {num1} + {num2} = {result}\")\n",
    "elif (ch == 2):\n",
    "    print (\"Performing the SUBTRACTION operation...\")\n",
    "    result = num1 - num2\n",
    "    print (f\"So {num1} - {num2} = {result}\")\n",
    "elif (ch == 3):\n",
    "    print (\"Performing the MULTIPLICATION operation...\")\n",
    "    result = num1 * num2\n",
    "    print (f\"So {num1} * {num2} = {result}\")\n",
    "elif (ch == 4):\n",
    "    print (\"Performing the DIVISION operation...\")\n",
    "    if (num2 == 0):\n",
    "        print (\"DIVISION by ZERO is Illegal !!!\")\n",
    "        print (\"Can not perform the division operation...\")\n",
    "    else:\n",
    "        result = num1 / num2\n",
    "        print (f\"So {num1} / {num2} = {result}\")\n",
    "else:\n",
    "    print (\"Invalid choice number has been given...\")\n",
    "print (\"End of the program...\")"
   ]
  },
  {
   "cell_type": "code",
   "execution_count": 44,
   "id": "7e95ec74-2c84-409d-98ed-b370406bfdd1",
   "metadata": {},
   "outputs": [
    {
     "name": "stdout",
     "output_type": "stream",
     "text": [
      "University <class 'str'> 2595285758192\n",
      "U <class 'str'> 2595202204592\n",
      "100 <class 'int'> 140736313635728\n",
      "100.5 <class 'float'> 2595288877616\n",
      "True <class 'bool'> 140736313349968\n"
     ]
    }
   ],
   "source": [
    "myvar = \"University\"\n",
    "print (myvar, type(myvar), id(myvar))\n",
    "myvar = 'U'\n",
    "print (myvar, type(myvar), id(myvar))\n",
    "myvar = 100\n",
    "print (myvar, type(myvar), id(myvar))\n",
    "myvar = 100.5\n",
    "print (myvar, type(myvar), id(myvar))\n",
    "myvar = True\n",
    "print (myvar, type(myvar), id(myvar))"
   ]
  },
  {
   "cell_type": "markdown",
   "id": "995050b0-1c7b-448e-a982-147b1300e4ef",
   "metadata": {},
   "source": [
    "### Collection Objects"
   ]
  },
  {
   "cell_type": "code",
   "execution_count": 57,
   "id": "c647aa75-35c8-4fa5-bd16-8b64fb46a331",
   "metadata": {},
   "outputs": [
    {
     "name": "stdout",
     "output_type": "stream",
     "text": [
      "['Amit', 34, 54000.5, True] <class 'list'> 2595286098560\n",
      "('Amit', 34, 54000.5, True) <class 'tuple'> 2595277887984\n",
      "{'name': 'Amit', 'age': 34, 'salary': 54000.5, 'married': True} <class 'dict'> 2595285138560\n",
      "{54000.5, True, 34, 'Amit'} <class 'set'> 2595294140224\n",
      "frozenset({54000.5, True, 34, 'Amit'}) <class 'frozenset'> 2595294139328\n"
     ]
    }
   ],
   "source": [
    "myvar = ['Amit', 34, 54000.50, True]\n",
    "print (myvar, type(myvar), id(myvar))\n",
    "myvar = ('Amit', 34, 54000.50, True)\n",
    "print (myvar, type(myvar), id(myvar))\n",
    "myvar = {'name':'Amit', \"age\":34, 'salary':54000.50, 'married':True}\n",
    "print (myvar, type(myvar), id(myvar))\n",
    "myvar = {'Amit', 34, 54000.50, True, 34, 54000.50, True, 34, 54000.50, True, 'Amit'}\n",
    "print (myvar, type(myvar), id(myvar))\n",
    "myvar = frozenset(['Amit', 34, 54000.50, True, 34, 54000.50, True, 34, 54000.50, True, 'Amit'])\n",
    "print (myvar, type(myvar), id(myvar))"
   ]
  },
  {
   "cell_type": "markdown",
   "id": "b5471a4a-0374-4f24-bdca-708fa1ef33d8",
   "metadata": {},
   "source": [
    "### Arithmetic Operators"
   ]
  },
  {
   "cell_type": "code",
   "execution_count": 59,
   "id": "98391509-70cd-435e-a38b-07aa306b7d32",
   "metadata": {},
   "outputs": [
    {
     "name": "stdout",
     "output_type": "stream",
     "text": [
      "140\n",
      "60\n",
      "4000\n",
      "2.5\n",
      "2\n",
      "20\n",
      "100000000\n"
     ]
    }
   ],
   "source": [
    "print (100 + 40)\n",
    "print (100 - 40)\n",
    "print (100 * 40)\n",
    "print (100 / 40)\n",
    "print (100 // 40)\n",
    "print (100 % 40)\n",
    "print (100 ** 4)"
   ]
  },
  {
   "cell_type": "markdown",
   "id": "85f2f969-f44c-4439-a519-dbb567410771",
   "metadata": {},
   "source": [
    "### Logical Operators"
   ]
  },
  {
   "cell_type": "code",
   "execution_count": 63,
   "id": "236e29e1-6a78-4464-9a7b-4023cba04f67",
   "metadata": {},
   "outputs": [
    {
     "name": "stdout",
     "output_type": "stream",
     "text": [
      "False\n",
      "True\n",
      "True\n",
      "False\n"
     ]
    }
   ],
   "source": [
    "print (100 > 400 and 400 > 200)\n",
    "print (100 > 400 or 400 > 200)\n",
    "print (not(100 > 400 and 400 > 200))\n",
    "print (not(100 > 400 or 400 > 200))"
   ]
  },
  {
   "cell_type": "markdown",
   "id": "222a8f2e-43e8-4a76-a4d3-a482ff518d7a",
   "metadata": {},
   "source": [
    "### Python Loops"
   ]
  },
  {
   "cell_type": "code",
   "execution_count": 19,
   "id": "b7b0aae9-c3ba-4cef-8867-ba597ba1fc2e",
   "metadata": {},
   "outputs": [
    {
     "name": "stdout",
     "output_type": "stream",
     "text": [
      "For i = 0, Hello World...\n",
      "For i = 1, Hello World...\n",
      "For i = 2, Hello World...\n",
      "For i = 3, Hello World...\n",
      "For i = 4, Hello World...\n",
      "ELSE block is executing...\n",
      "End of the program...\n"
     ]
    }
   ],
   "source": [
    "# for i in range(5):\n",
    "# for i in range(0, 5):\n",
    "for i in range(0, 5, 1):\n",
    "    print (f\"For i = {i}, Hello World...\")\n",
    "else:\n",
    "    print (\"ELSE block is executing...\")\n",
    "    \n",
    "print (\"End of the program...\")"
   ]
  },
  {
   "cell_type": "code",
   "execution_count": 4,
   "id": "6faa0f8b-3f1f-4ea1-ac1a-e20f6ef3bb57",
   "metadata": {},
   "outputs": [
    {
     "name": "stdout",
     "output_type": "stream",
     "text": [
      "For i = 5, Hello World...\n",
      "For i = 6, Hello World...\n",
      "For i = 7, Hello World...\n",
      "For i = 8, Hello World...\n",
      "For i = 9, Hello World...\n",
      "ELSE block is executing...\n",
      "End of the program...\n"
     ]
    }
   ],
   "source": [
    "for i in range(5, 10):\n",
    "    print (f\"For i = {i}, Hello World...\")\n",
    "else:\n",
    "    print (\"ELSE block is executing...\")\n",
    "    \n",
    "print (\"End of the program...\")"
   ]
  },
  {
   "cell_type": "code",
   "execution_count": 11,
   "id": "46eb648e-5d89-4d9c-b014-ff475e6298b1",
   "metadata": {},
   "outputs": [
    {
     "name": "stdout",
     "output_type": "stream",
     "text": [
      "For i = 5, Hello World...\n",
      "For i = 6, Hello World...\n",
      "For i = 7, Hello World...\n",
      "For i = 8, Hello World...\n",
      "End of the program...\n"
     ]
    }
   ],
   "source": [
    "for i in range(5, 10):\n",
    "    print (f\"For i = {i}, Hello World...\")\n",
    "    if (i == 8): break\n",
    "else:\n",
    "    print (\"ELSE block is executing...\")\n",
    "    \n",
    "print (\"End of the program...\")"
   ]
  },
  {
   "cell_type": "code",
   "execution_count": 8,
   "id": "1d586591-a227-49c6-8532-75104c5f081b",
   "metadata": {},
   "outputs": [
    {
     "name": "stdout",
     "output_type": "stream",
     "text": [
      "For i = 5, Hello World...\n",
      "For i = 6, Hello World...\n",
      "Continuing with the next value of i = 7...\n",
      "For i = 8, Hello World...\n",
      "For i = 9, Hello World...\n",
      "ELSE block is executing...\n",
      "End of the program...\n"
     ]
    }
   ],
   "source": [
    "for i in range(5, 10):\n",
    "    if (i == 7): \n",
    "        print (f\"Continuing with the next value of i = {i}...\")\n",
    "        continue\n",
    "    print (f\"For i = {i}, Hello World...\")\n",
    "else:\n",
    "    print (\"ELSE block is executing...\")\n",
    "    \n",
    "print (\"End of the program...\")"
   ]
  },
  {
   "cell_type": "code",
   "execution_count": 15,
   "id": "94ed3843-b540-4628-b585-0adf5e29b76d",
   "metadata": {},
   "outputs": [
    {
     "name": "stdout",
     "output_type": "stream",
     "text": [
      "100 is an EVEN number...\n",
      "100 is an EVEN number...\n"
     ]
    }
   ],
   "source": [
    "num = 100\n",
    "if (num % 2 == 0):\n",
    "    print (f\"{num} is an EVEN number...\")\n",
    "    \n",
    "if (num % 2 != 0):\n",
    "    pass   # statement place holder\n",
    "else:\n",
    "    print (f\"{num} is an EVEN number...\")"
   ]
  },
  {
   "cell_type": "code",
   "execution_count": 20,
   "id": "3cfc23bf-142f-4d57-a216-ba6a78e3b8f2",
   "metadata": {},
   "outputs": [
    {
     "name": "stdout",
     "output_type": "stream",
     "text": [
      "Visit Doctor...\n",
      "Good Morning...\n",
      "Day No. = 1 and Medicine No. = 1...\n",
      "Day No. = 1 and Medicine No. = 2...\n",
      "Day No. = 1 and Medicine No. = 3...\n",
      "Good Night...\n",
      "~~~~~~~~~~~~~~~~~~~~~~~~~~~~~~~~~~~~~~~~~~~~\n",
      "Good Morning...\n",
      "Day No. = 2 and Medicine No. = 1...\n",
      "Day No. = 2 and Medicine No. = 2...\n",
      "Day No. = 2 and Medicine No. = 3...\n",
      "Good Night...\n",
      "~~~~~~~~~~~~~~~~~~~~~~~~~~~~~~~~~~~~~~~~~~~~\n",
      "Good Morning...\n",
      "Day No. = 3 and Medicine No. = 1...\n",
      "Day No. = 3 and Medicine No. = 2...\n",
      "Day No. = 3 and Medicine No. = 3...\n",
      "Good Night...\n",
      "~~~~~~~~~~~~~~~~~~~~~~~~~~~~~~~~~~~~~~~~~~~~\n",
      "Good Morning...\n",
      "Day No. = 4 and Medicine No. = 1...\n",
      "Day No. = 4 and Medicine No. = 2...\n",
      "Day No. = 4 and Medicine No. = 3...\n",
      "Good Night...\n",
      "~~~~~~~~~~~~~~~~~~~~~~~~~~~~~~~~~~~~~~~~~~~~\n",
      "Good Morning...\n",
      "Day No. = 5 and Medicine No. = 1...\n",
      "Day No. = 5 and Medicine No. = 2...\n",
      "Day No. = 5 and Medicine No. = 3...\n",
      "Good Night...\n",
      "~~~~~~~~~~~~~~~~~~~~~~~~~~~~~~~~~~~~~~~~~~~~\n",
      "Thanks to Doctor...\n",
      "End of the program...\n"
     ]
    }
   ],
   "source": [
    "# example of nested loops\n",
    "print (\"Visit Doctor...\")    # 1 time\n",
    "for day in range(1, 6):\n",
    "    print (\"Good Morning...\")    # 5 times\n",
    "    for medi in range(1, 4):\n",
    "        print (f\"Day No. = {day} and Medicine No. = {medi}...\")    # 15 times\n",
    "    print (\"Good Night...\")    # 5 times\n",
    "    print (\"~~~~~~~~~~~~~~~~~~~~~~~~~~~~~~~~~~~~~~~~~~~~\")    # 5 times\n",
    "print (\"Thanks to Doctor...\")    # 1 time\n",
    "print (\"End of the program...\")    # 1 time"
   ]
  },
  {
   "cell_type": "code",
   "execution_count": 21,
   "id": "d0b8ed45-7f10-4d00-aa68-a791397d8d22",
   "metadata": {},
   "outputs": [
    {
     "name": "stdout",
     "output_type": "stream",
     "text": [
      "For i = 5, Hello World...\n",
      "For i = 6, Hello World...\n",
      "For i = 7, Hello World...\n",
      "For i = 8, Hello World...\n",
      "For i = 9, Hello World...\n",
      "ELSE block is executing...\n",
      "End of the program...\n"
     ]
    }
   ],
   "source": [
    "for i in range(5, 10):\n",
    "    print (f\"For i = {i}, Hello World...\")\n",
    "else:\n",
    "    print (\"ELSE block is executing...\")\n",
    "    \n",
    "print (\"End of the program...\")"
   ]
  },
  {
   "cell_type": "code",
   "execution_count": 22,
   "id": "cbccd98b-6a28-453c-8f91-732f24923ae4",
   "metadata": {},
   "outputs": [
    {
     "name": "stdout",
     "output_type": "stream",
     "text": [
      "For i = 5, Hello World...\n",
      "For i = 6, Hello World...\n",
      "For i = 7, Hello World...\n",
      "For i = 8, Hello World...\n",
      "For i = 9, Hello World...\n",
      "ELSE block is executing...\n",
      "End of the program...\n"
     ]
    }
   ],
   "source": [
    "i = 5\n",
    "while (i <= 9):\n",
    "    print (f\"For i = {i}, Hello World...\")\n",
    "    # i = i + 1\n",
    "    i += 1\n",
    "else:\n",
    "    print (\"ELSE block is executing...\")\n",
    "    \n",
    "print (\"End of the program...\")"
   ]
  },
  {
   "cell_type": "code",
   "execution_count": 24,
   "id": "cdf799f4-27e0-4c1f-8827-f2cedfb7ccbe",
   "metadata": {},
   "outputs": [
    {
     "name": "stdout",
     "output_type": "stream",
     "text": [
      "Visit Doctor...\n",
      "Good Morning...\n",
      "Day No. = 1 and Medicine No. = 1...\n",
      "Day No. = 1 and Medicine No. = 2...\n",
      "Day No. = 1 and Medicine No. = 3...\n",
      "Good Night...\n",
      "~~~~~~~~~~~~~~~~~~~~~~~~~~~~~~~~~~~~~~~~~~~~\n",
      "Good Morning...\n",
      "Day No. = 2 and Medicine No. = 1...\n",
      "Day No. = 2 and Medicine No. = 2...\n",
      "Day No. = 2 and Medicine No. = 3...\n",
      "Good Night...\n",
      "~~~~~~~~~~~~~~~~~~~~~~~~~~~~~~~~~~~~~~~~~~~~\n",
      "Good Morning...\n",
      "Day No. = 3 and Medicine No. = 1...\n",
      "Day No. = 3 and Medicine No. = 2...\n",
      "Day No. = 3 and Medicine No. = 3...\n",
      "Good Night...\n",
      "~~~~~~~~~~~~~~~~~~~~~~~~~~~~~~~~~~~~~~~~~~~~\n",
      "Good Morning...\n",
      "Day No. = 4 and Medicine No. = 1...\n",
      "Day No. = 4 and Medicine No. = 2...\n",
      "Day No. = 4 and Medicine No. = 3...\n",
      "Good Night...\n",
      "~~~~~~~~~~~~~~~~~~~~~~~~~~~~~~~~~~~~~~~~~~~~\n",
      "Good Morning...\n",
      "Day No. = 5 and Medicine No. = 1...\n",
      "Day No. = 5 and Medicine No. = 2...\n",
      "Day No. = 5 and Medicine No. = 3...\n",
      "Good Night...\n",
      "~~~~~~~~~~~~~~~~~~~~~~~~~~~~~~~~~~~~~~~~~~~~\n",
      "Thanks to Doctor...\n",
      "End of the program...\n"
     ]
    }
   ],
   "source": [
    "# example of nested loops\n",
    "print (\"Visit Doctor...\")    # 1 time\n",
    "day = 1\n",
    "while (day <= 5):\n",
    "    print (\"Good Morning...\")    # 5 times\n",
    "    medi = 1\n",
    "    while (medi <= 3):\n",
    "        print (f\"Day No. = {day} and Medicine No. = {medi}...\")    # 15 times\n",
    "        medi += 1\n",
    "    print (\"Good Night...\")    # 5 times\n",
    "    print (\"~~~~~~~~~~~~~~~~~~~~~~~~~~~~~~~~~~~~~~~~~~~~\")    # 5 times\n",
    "    day = day + 1\n",
    "print (\"Thanks to Doctor...\")    # 1 time\n",
    "print (\"End of the program...\")    # 1 time"
   ]
  },
  {
   "cell_type": "code",
   "execution_count": 26,
   "id": "1dfa417d-072b-43ab-a469-bd74b9cccd02",
   "metadata": {},
   "outputs": [
    {
     "name": "stdin",
     "output_type": "stream",
     "text": [
      "Please enter one positive integer:  100\n"
     ]
    },
    {
     "name": "stdout",
     "output_type": "stream",
     "text": [
      "100 is Not a PRIME Number...\n",
      "End of the program...\n"
     ]
    }
   ],
   "source": [
    "num = int(input(\"Please enter one positive integer: \"))\n",
    "for i in range(2, num):\n",
    "    if (num % i == 0):\n",
    "        print (f\"{num} is Not a PRIME Number...\")\n",
    "        break\n",
    "else:\n",
    "    print (f\"{num} is a PRIME Number...\")\n",
    "    \n",
    "print (\"End of the program...\")"
   ]
  },
  {
   "cell_type": "markdown",
   "id": "0c9c0fde-0642-42ea-9feb-a78cc4d1cf54",
   "metadata": {},
   "source": [
    "### String Processing "
   ]
  },
  {
   "cell_type": "code",
   "execution_count": 42,
   "id": "adb38885-312c-468f-a705-ee55dc816b7e",
   "metadata": {},
   "outputs": [
    {
     "name": "stdout",
     "output_type": "stream",
     "text": [
      "oUr COUNtry iS greAt 20 1866959516976 <class 'str'>\n",
      "OUR COUNTRY IS GREAT\n",
      "our country is great\n",
      "Our country is great\n",
      "Our Country Is Great\n",
      "OuR counTRY Is GREaT\n",
      "     oUr COUNtry iS greAt     \n"
     ]
    }
   ],
   "source": [
    "mystr = \"oUr COUNtry iS greAt\"\n",
    "print (mystr, len(mystr), id(mystr), type(mystr))\n",
    "print (mystr.upper())\n",
    "print (mystr.lower())\n",
    "print (mystr.capitalize())\n",
    "print (mystr.title())\n",
    "print (mystr.swapcase())\n",
    "print (mystr.center(30))"
   ]
  },
  {
   "cell_type": "code",
   "execution_count": 31,
   "id": "f9e6d9ec-75f1-4599-845f-c70da32cdab8",
   "metadata": {},
   "outputs": [
    {
     "name": "stdout",
     "output_type": "stream",
     "text": [
      "Our Country Is Great 20 1866964416112\n",
      "['Our', 'Country', 'Is', 'Great']\n",
      "['Ou', ' Count', 'y Is G', 'eat']\n",
      "['Our Country Is Great']\n"
     ]
    }
   ],
   "source": [
    "mystr = \"Our Country Is Great\"\n",
    "print (mystr, len(mystr), id(mystr))\n",
    "list1 = mystr.split()\n",
    "print (list1)\n",
    "list1 = mystr.split(\"r\")\n",
    "print (list1)\n",
    "list1 = mystr.split(\"x\")\n",
    "print (list1)"
   ]
  },
  {
   "cell_type": "code",
   "execution_count": 41,
   "id": "fb8dcfad-06db-4a63-94c5-073d0d40c2ce",
   "metadata": {},
   "outputs": [
    {
     "name": "stdout",
     "output_type": "stream",
     "text": [
      "university 10 1866963836336\n",
      "i i e e\n",
      "univer univer univer univer\n",
      "sity sity\n",
      "ver ver ver ver\n"
     ]
    }
   ],
   "source": [
    "# indexing and slicing\n",
    "#  index L2R ->  0  1  2  3  4  5  6  7  8  9\n",
    "#       mystr = \"u  n  i  v  e  r  s  i  t  y \"\n",
    "#  index R2L ->-10 -9 -8 -7 -6 -5 -4 -3 -2 -1  \n",
    "mystr = \"university\"\n",
    "print (mystr, len(mystr), id(mystr))\n",
    "print (mystr[7], mystr[-3], mystr[4], mystr[-6])\n",
    "print (mystr[:6], mystr[0:6], mystr[:-4], mystr[-10:-4])\n",
    "print (mystr[6:], mystr[-4:])\n",
    "print (mystr[3:6], mystr[-7:-4], mystr[3:-4], mystr[-7:6])"
   ]
  },
  {
   "cell_type": "code",
   "execution_count": null,
   "id": "5afbf617-3c46-4516-b0d1-4e01cc8b60ad",
   "metadata": {},
   "outputs": [],
   "source": [
    "help(str)"
   ]
  },
  {
   "cell_type": "code",
   "execution_count": 48,
   "id": "06ef9226-8371-4738-8f53-be15e56d34bd",
   "metadata": {},
   "outputs": [
    {
     "name": "stdout",
     "output_type": "stream",
     "text": [
      "abcd True False True\n",
      "1234 False True True\n",
      "abcd1234 False False True\n",
      "abcd@1234 False False False\n"
     ]
    }
   ],
   "source": [
    "mystr = \"abcd\"\n",
    "print (mystr, mystr.isalpha(), mystr.isnumeric(), mystr.isalnum())\n",
    "mystr = \"1234\"\n",
    "print (mystr, mystr.isalpha(), mystr.isnumeric(), mystr.isalnum())\n",
    "mystr = \"abcd1234\"\n",
    "print (mystr, mystr.isalpha(), mystr.isnumeric(), mystr.isalnum())\n",
    "mystr = \"abcd@1234\"\n",
    "print (mystr, mystr.isalpha(), mystr.isnumeric(), mystr.isalnum())"
   ]
  },
  {
   "cell_type": "code",
   "execution_count": 52,
   "id": "dbd4d395-2954-448c-84d2-390015b2ba85",
   "metadata": {},
   "outputs": [
    {
     "name": "stdout",
     "output_type": "stream",
     "text": [
      "    Marry   Williums       26 <class 'str'>\n",
      "Marry   Williums 16\n",
      "Marry   Williums       22\n",
      "    Marry   Williums 20\n"
     ]
    }
   ],
   "source": [
    "mystr = \"    Marry   Williums      \"\n",
    "print (mystr, len(mystr), type(mystr))\n",
    "print (mystr.strip(), len(mystr.strip()))\n",
    "print (mystr.lstrip(), len(mystr.lstrip()))\n",
    "print (mystr.rstrip(), len(mystr.rstrip()))"
   ]
  },
  {
   "cell_type": "code",
   "execution_count": 53,
   "id": "6903b15c-90ef-492f-a316-4dafb3d4cb86",
   "metadata": {},
   "outputs": [
    {
     "name": "stdout",
     "output_type": "stream",
     "text": [
      "@#@@Marry@@##Williums#@#@@ 26 <class 'str'>\n",
      "Marry@@##Williums 17\n",
      "Marry@@##Williums#@#@@ 22\n",
      "@#@@Marry@@##Williums 21\n"
     ]
    }
   ],
   "source": [
    "mystr = \"@#@@Marry@@##Williums#@#@@\"\n",
    "print (mystr, len(mystr), type(mystr))\n",
    "print (mystr.strip(\"@#\"), len(mystr.strip(\"@#\")))\n",
    "print (mystr.lstrip(\"@#\"), len(mystr.lstrip(\"@#\")))\n",
    "print (mystr.rstrip(\"@#\"), len(mystr.rstrip(\"@#\")))"
   ]
  },
  {
   "cell_type": "code",
   "execution_count": 60,
   "id": "88dd0760-3bd2-425e-bf23-b6e1a3c55622",
   "metadata": {},
   "outputs": [
    {
     "name": "stdout",
     "output_type": "stream",
     "text": [
      "university 10 1866963836336 <class 'str'>\n",
      "2 2 2\n",
      "7 7 7\n"
     ]
    },
    {
     "ename": "ValueError",
     "evalue": "substring not found",
     "output_type": "error",
     "traceback": [
      "\u001b[1;31m---------------------------------------------------------------------------\u001b[0m",
      "\u001b[1;31mValueError\u001b[0m                                Traceback (most recent call last)",
      "\u001b[1;32m<ipython-input-60-ff842a73ed9e>\u001b[0m in \u001b[0;36m<module>\u001b[1;34m\u001b[0m\n\u001b[0;32m      3\u001b[0m \u001b[0mprint\u001b[0m \u001b[1;33m(\u001b[0m\u001b[0mmystr\u001b[0m\u001b[1;33m.\u001b[0m\u001b[0mindex\u001b[0m\u001b[1;33m(\u001b[0m\u001b[1;34m\"i\"\u001b[0m\u001b[1;33m)\u001b[0m\u001b[1;33m,\u001b[0m \u001b[0mmystr\u001b[0m\u001b[1;33m.\u001b[0m\u001b[0mindex\u001b[0m\u001b[1;33m(\u001b[0m\u001b[1;34m\"i\"\u001b[0m\u001b[1;33m,\u001b[0m \u001b[1;36m0\u001b[0m\u001b[1;33m)\u001b[0m\u001b[1;33m,\u001b[0m \u001b[0mmystr\u001b[0m\u001b[1;33m.\u001b[0m\u001b[0mindex\u001b[0m\u001b[1;33m(\u001b[0m\u001b[1;34m\"i\"\u001b[0m\u001b[1;33m,\u001b[0m \u001b[1;36m1\u001b[0m\u001b[1;33m)\u001b[0m\u001b[1;33m)\u001b[0m\u001b[1;33m\u001b[0m\u001b[1;33m\u001b[0m\u001b[0m\n\u001b[0;32m      4\u001b[0m \u001b[0mprint\u001b[0m \u001b[1;33m(\u001b[0m\u001b[0mmystr\u001b[0m\u001b[1;33m.\u001b[0m\u001b[0mindex\u001b[0m\u001b[1;33m(\u001b[0m\u001b[1;34m\"i\"\u001b[0m\u001b[1;33m,\u001b[0m \u001b[1;36m3\u001b[0m\u001b[1;33m)\u001b[0m\u001b[1;33m,\u001b[0m \u001b[0mmystr\u001b[0m\u001b[1;33m.\u001b[0m\u001b[0mindex\u001b[0m\u001b[1;33m(\u001b[0m\u001b[1;34m\"i\"\u001b[0m\u001b[1;33m,\u001b[0m \u001b[1;36m5\u001b[0m\u001b[1;33m)\u001b[0m\u001b[1;33m,\u001b[0m \u001b[0mmystr\u001b[0m\u001b[1;33m.\u001b[0m\u001b[0mindex\u001b[0m\u001b[1;33m(\u001b[0m\u001b[1;34m\"i\"\u001b[0m\u001b[1;33m,\u001b[0m \u001b[1;36m6\u001b[0m\u001b[1;33m)\u001b[0m\u001b[1;33m)\u001b[0m\u001b[1;33m\u001b[0m\u001b[1;33m\u001b[0m\u001b[0m\n\u001b[1;32m----> 5\u001b[1;33m \u001b[0mprint\u001b[0m \u001b[1;33m(\u001b[0m\u001b[0mmystr\u001b[0m\u001b[1;33m.\u001b[0m\u001b[0mindex\u001b[0m\u001b[1;33m(\u001b[0m\u001b[1;34m\"i\"\u001b[0m\u001b[1;33m,\u001b[0m \u001b[1;36m10\u001b[0m\u001b[1;33m)\u001b[0m\u001b[1;33m)\u001b[0m\u001b[1;33m\u001b[0m\u001b[1;33m\u001b[0m\u001b[0m\n\u001b[0m",
      "\u001b[1;31mValueError\u001b[0m: substring not found"
     ]
    }
   ],
   "source": [
    "mystr = \"university\"\n",
    "print (mystr, len(mystr), id(mystr), type(mystr))\n",
    "print (mystr.index(\"i\"), mystr.index(\"i\", 0), mystr.index(\"i\", 1))\n",
    "print (mystr.index(\"i\", 3), mystr.index(\"i\", 5), mystr.index(\"i\", 6))\n",
    "print (mystr.index(\"i\", 10))"
   ]
  },
  {
   "cell_type": "code",
   "execution_count": 62,
   "id": "c1623a41-f3e2-4865-ba0b-b9a5d78f2bee",
   "metadata": {},
   "outputs": [
    {
     "name": "stdout",
     "output_type": "stream",
     "text": [
      "university 10 1866963836336 <class 'str'>\n",
      "2 2 2\n",
      "7 7 7\n",
      "-1\n"
     ]
    }
   ],
   "source": [
    "mystr = \"university\"\n",
    "print (mystr, len(mystr), id(mystr), type(mystr))\n",
    "print (mystr.find(\"i\"), mystr.find(\"i\", 0), mystr.find(\"i\", 1))\n",
    "print (mystr.find(\"i\", 3), mystr.find(\"i\", 5), mystr.find(\"i\", 6))\n",
    "print (mystr.find(\"i\", 10))"
   ]
  },
  {
   "cell_type": "code",
   "execution_count": 64,
   "id": "21822521-0303-4c8c-b938-69ed6f424c96",
   "metadata": {},
   "outputs": [
    {
     "name": "stdout",
     "output_type": "stream",
     "text": [
      "university 10 1866963836336 <class 'str'>\n",
      "2 1 0\n",
      "2 1 0\n"
     ]
    }
   ],
   "source": [
    "mystr = \"university\"\n",
    "print (mystr, len(mystr), id(mystr), type(mystr))\n",
    "print (mystr.count(\"i\"), mystr.count(\"s\"), mystr.count(\"b\"))\n",
    "print (mystr.count(\"i\", 0), mystr.count(\"i\", 3), mystr.count(\"i, 8\"))"
   ]
  },
  {
   "cell_type": "code",
   "execution_count": 66,
   "id": "a86f515a-3ffe-4ab8-9ecd-6d8c217e41eb",
   "metadata": {},
   "outputs": [
    {
     "name": "stdout",
     "output_type": "stream",
     "text": [
      "university\n",
      "uni versity\n"
     ]
    }
   ],
   "source": [
    "mystr1 = \"uni\"\n",
    "mystr2 = \"versity\"\n",
    "print (mystr1 + mystr2)\n",
    "print (mystr1 + \" \" + mystr2)"
   ]
  },
  {
   "cell_type": "markdown",
   "id": "b11cc569-cbaa-41fa-bcd1-7d6c14d66877",
   "metadata": {},
   "source": [
    "### User Defined Function (UDF)"
   ]
  },
  {
   "cell_type": "code",
   "execution_count": 68,
   "id": "f713aefb-baa4-4f35-b2d3-182a03dc7f2c",
   "metadata": {},
   "outputs": [
    {
     "name": "stdout",
     "output_type": "stream",
     "text": [
      "Welcome Welcome Welcome Welcome \n",
      "Welcome Welcome Welcome Welcome \n",
      "Welcome Welcome Welcome Welcome \n"
     ]
    }
   ],
   "source": [
    "def funct1():\n",
    "    print (\"Welcome \" * 4)\n",
    "    \n",
    "funct1()\n",
    "funct1()\n",
    "funct1()"
   ]
  },
  {
   "cell_type": "code",
   "execution_count": 71,
   "id": "a68fa196-a029-4622-9374-55359c60ab9d",
   "metadata": {},
   "outputs": [
    {
     "name": "stdout",
     "output_type": "stream",
     "text": [
      "Welcome Welcome Welcome Welcome \n",
      "Hello Hello Hello Hello Hello \n"
     ]
    }
   ],
   "source": [
    "def funct2(msg, times):  # positional parameters\n",
    "    print (msg * times)\n",
    "    \n",
    "funct2(\"Welcome \", 4)  # positional arguments\n",
    "funct2(\"Hello \", 5)"
   ]
  },
  {
   "cell_type": "code",
   "execution_count": 74,
   "id": "4f8c5d16-28d3-418d-bcd1-91679723c1c4",
   "metadata": {},
   "outputs": [
    {
     "name": "stdout",
     "output_type": "stream",
     "text": [
      "Welcome Welcome Welcome Welcome Welcome \n",
      "Hello Hello Hello Hello Hello Hello Hello \n",
      "<class 'str'> 42\n"
     ]
    }
   ],
   "source": [
    "def funct3(msg, times):\n",
    "    return msg * times\n",
    "\n",
    "print (funct3(\"Welcome \", 5))\n",
    "result = funct3(\"Hello \", 7)\n",
    "print (result)\n",
    "print (type(result), len(result))"
   ]
  },
  {
   "cell_type": "code",
   "execution_count": 83,
   "id": "5d618e0f-85e5-46b9-823f-8c1284b73e2d",
   "metadata": {},
   "outputs": [
    {
     "name": "stdout",
     "output_type": "stream",
     "text": [
      "par1 = 100, par2 = 200 and par3 = 300...\n",
      "par1 = 100, par2 = 200 and par3 = 333...\n",
      "par1 = 100, par2 = 222 and par3 = 333...\n",
      "par1 = 111, par2 = 222 and par3 = 333...\n",
      "par1 = 111, par2 = 200 and par3 = 300...\n",
      "par1 = 100, par2 = 222 and par3 = 300...\n"
     ]
    }
   ],
   "source": [
    "# function with default arguments\n",
    "def funct4(par1 = 111, par2 = 222, par3 = 333):\n",
    "    print (f\"par1 = {par1}, par2 = {par2} and par3 = {par3}...\")\n",
    "    \n",
    "funct4(100, 200, 300)\n",
    "funct4(100, 200)\n",
    "funct4(100)\n",
    "funct4()\n",
    "funct4(par2 = 200, par3 = 300)\n",
    "funct4(par3 = 300, par1 = 100)"
   ]
  },
  {
   "cell_type": "code",
   "execution_count": 105,
   "id": "2dc1e86f-b260-4a87-9805-b3760ba87456",
   "metadata": {},
   "outputs": [
    {
     "name": "stdout",
     "output_type": "stream",
     "text": [
      "200\n",
      "1000\n",
      "<class 'function'>\n"
     ]
    }
   ],
   "source": [
    "def funct5(num1, num2 = None):\n",
    "    # if (num2 == None):\n",
    "    if (num2 is None):\n",
    "        return num1 + num1\n",
    "    else:\n",
    "        return num1 + num2\n",
    "    \n",
    "print (funct5(100))\n",
    "print (funct5(100, 900))\n",
    "print (type(funct5))"
   ]
  },
  {
   "cell_type": "code",
   "execution_count": 89,
   "id": "c1b6a889-26fd-4d58-aede-1ab39c2024a7",
   "metadata": {},
   "outputs": [
    {
     "name": "stdout",
     "output_type": "stream",
     "text": [
      "total = 140, difference = 60, product = 4000 and quotient = 2.5...\n",
      "(140, 60, 4000, 2.5) 4 <class 'tuple'>\n",
      "total = 140, difference = 60, product = 4000 and quotient = 2.5...\n"
     ]
    }
   ],
   "source": [
    "# functon returning multiple arguments\n",
    "def funct6(num1, num2):\n",
    "    total = num1 + num2\n",
    "    difference = num1 - num2\n",
    "    product = num1 * num2\n",
    "    quotient = num1 / num2\n",
    "    return total, difference, product, quotient\n",
    "\n",
    "tt, dd, pp, qq = funct6(100, 40)\n",
    "print (f\"total = {tt}, difference = {dd}, product = {pp} and quotient = {qq}...\")\n",
    "result = funct6(100, 40)\n",
    "print (result, len(result), type(result))\n",
    "print (f\"total = {result[0]}, difference = {result[1]}, product = {result[2]} and quotient = {result[3]}...\")"
   ]
  },
  {
   "cell_type": "code",
   "execution_count": 94,
   "id": "d287ba74-61b0-4cdf-9274-00fcff269c44",
   "metadata": {},
   "outputs": [
    {
     "name": "stdout",
     "output_type": "stream",
     "text": [
      "('Amitava', 'Developer', 65000) 3 <class 'tuple'> 1866964748096\n",
      "('Amitava', 'Developer', 65000, 'Married') 4 <class 'tuple'> 1866964838096\n",
      "('Amitava', 'Developer', 65000, 'Married', 'Pune') 5 <class 'tuple'> 1866960557376\n",
      "('Amitava', 'Developer', 65000, 'Married', 'Pune', 'Masters') 6 <class 'tuple'> 1866967334816\n"
     ]
    }
   ],
   "source": [
    "# function with variable number of arguments\n",
    "def funct7(*arg):  # *arg means forcefully defining arg as a tuple type\n",
    "    print (arg, len(arg), type(arg), id(arg))\n",
    "    \n",
    "funct7(\"Amitava\", \"Developer\", 65000)\n",
    "funct7(\"Amitava\", \"Developer\", 65000, \"Married\")\n",
    "funct7(\"Amitava\", \"Developer\", 65000, \"Married\", \"Pune\")\n",
    "funct7(\"Amitava\", \"Developer\", 65000, \"Married\", \"Pune\", \"Masters\")"
   ]
  },
  {
   "cell_type": "code",
   "execution_count": 95,
   "id": "ab0baa53-5c1e-4a88-901b-a93deb52a334",
   "metadata": {},
   "outputs": [
    {
     "name": "stdout",
     "output_type": "stream",
     "text": [
      "{'name': 'Amitava', 'designation': 'Developer', 'salary': 65000} 3 <class 'dict'> 1866968252928\n",
      "{'name': 'Amitava', 'designation': 'Developer', 'salary': 65000, 'status': 'Married'} 4 <class 'dict'> 1866967346560\n",
      "{'name': 'Amitava', 'designation': 'Developer', 'salary': 65000, 'status': 'Married', 'location': 'Pune'} 5 <class 'dict'> 1866968252480\n",
      "{'name': 'Amitava', 'designation': 'Developer', 'salary': 65000, 'status': 'Married', 'location': 'Pune', 'qualification': 'Masters'} 6 <class 'dict'> 1866968252928\n"
     ]
    }
   ],
   "source": [
    "# function with variable number of arguments\n",
    "def funct8(**kwarg):  # **kwarg means forcefully defining kwarg as a dictionary type, key-word argument\n",
    "    print (kwarg, len(kwarg), type(kwarg), id(kwarg))\n",
    "    \n",
    "funct8(name=\"Amitava\", designation=\"Developer\", salary=65000)\n",
    "funct8(name=\"Amitava\", designation=\"Developer\", salary=65000, status=\"Married\")\n",
    "funct8(name=\"Amitava\", designation=\"Developer\", salary=65000, status=\"Married\", location=\"Pune\")\n",
    "funct8(name=\"Amitava\", designation=\"Developer\", salary=65000, status=\"Married\", location=\"Pune\", qualification=\"Masters\")"
   ]
  },
  {
   "cell_type": "code",
   "execution_count": 97,
   "id": "09d2d891-fd14-4acf-8e21-129a6a220188",
   "metadata": {},
   "outputs": [
    {
     "name": "stdout",
     "output_type": "stream",
     "text": [
      "('Amitava', 'Developer', 65000) 3 <class 'tuple'> 1866963424768\n",
      "{'status': 'Married', 'location': 'Pune', 'qualification': 'Masters'} 3 <class 'dict'> 1866969603392\n",
      "\n",
      "('Amitava', 'Developer', 65000) 3 <class 'tuple'> 1866970945792\n",
      "{} 0 <class 'dict'> 1866969602112\n",
      "\n",
      "() 0 <class 'tuple'> 1866871734336\n",
      "{'status': 'Married', 'location': 'Pune', 'qualification': 'Masters'} 3 <class 'dict'> 1866969602752\n"
     ]
    }
   ],
   "source": [
    "# function with variable number of arguments\n",
    "def funct9(*arg, **kwarg):  # **kwarg means forcefully defining kwarg as a dictionary type, key-word argument\n",
    "    print (arg, len(arg), type(arg), id(arg))\n",
    "    print (kwarg, len(kwarg), type(kwarg), id(kwarg))\n",
    "    \n",
    "funct9(\"Amitava\", \"Developer\", 65000, status=\"Married\", location=\"Pune\", qualification=\"Masters\")\n",
    "print ()\n",
    "funct9(\"Amitava\", \"Developer\", 65000)\n",
    "print ()\n",
    "funct9(status=\"Married\", location=\"Pune\", qualification=\"Masters\")"
   ]
  },
  {
   "cell_type": "code",
   "execution_count": 100,
   "id": "af793639-4166-4ec1-930d-45d325f450f6",
   "metadata": {},
   "outputs": [
    {
     "name": "stdout",
     "output_type": "stream",
     "text": [
      "Executing for i = 1...\n",
      "Executing for i = 2...\n",
      "Executing for i = 3...\n",
      "Executing for i = 4...\n",
      "Executing for i = 5...\n",
      "120\n"
     ]
    }
   ],
   "source": [
    "# factorial: 5! = 1 * 2 * 3 * 4 * 5 = 5 * 4 * 3 * 2 * 1 = 120\n",
    "# 1! = 0! = 1\n",
    "# non-recursive factorial calculating function\n",
    "def factorial_nr(num):\n",
    "    if (num == 0 or num == 1): return 1\n",
    "    fact = 1\n",
    "    for i in range(1, num + 1):\n",
    "        print (f\"Executing for i = {i}...\")\n",
    "        fact = fact * i\n",
    "    return fact\n",
    "\n",
    "print (factorial_nr(5))"
   ]
  },
  {
   "cell_type": "code",
   "execution_count": 104,
   "id": "1e4847dd-330c-457e-8706-26e82b12cebb",
   "metadata": {},
   "outputs": [
    {
     "name": "stdout",
     "output_type": "stream",
     "text": [
      "120\n",
      "720\n",
      "<class 'function'>\n"
     ]
    }
   ],
   "source": [
    "# factorial: 5! = 1 * 2 * 3 * 4 * 5 = 5 * 4 * 3 * 2 * 1 = 120\n",
    "# 1! = 0! = 1\n",
    "# recursive factorial calculating function\n",
    "def factorial_r(num):\n",
    "    # base case -> for certain inputs outputs are pre-known to us, where the recursion will terminate\n",
    "    if (num == 0 or num == 1): return 1\n",
    "    # recursive case -> the function will call itself either directly or indirectly\n",
    "    return num * factorial_r(num - 1)\n",
    "\n",
    "print (factorial_r(5))\n",
    "print (factorial_r(6))\n",
    "print (type(factorial_r))"
   ]
  },
  {
   "cell_type": "code",
   "execution_count": null,
   "id": "06270f2d-e2af-41ab-8b1c-10c18cc7717c",
   "metadata": {},
   "outputs": [],
   "source": [
    "5! = 5 * 4!\n",
    "         4 * 3!\n",
    "             3 * 2!\n",
    "                 2 * 1!\n",
    "                     1\n",
    "                 2\n",
    "             6\n",
    "         24\n",
    "     120   "
   ]
  },
  {
   "cell_type": "markdown",
   "id": "d28d7914-9cff-4b77-8742-2a38b5287e20",
   "metadata": {},
   "source": [
    "### Lambda Function or Anonymous Function"
   ]
  },
  {
   "cell_type": "code",
   "execution_count": 103,
   "id": "cbf91369-8c80-4c5d-8651-7a226e89d3c6",
   "metadata": {},
   "outputs": [
    {
     "name": "stdout",
     "output_type": "stream",
     "text": [
      "25 <class 'function'> 1866971286832\n"
     ]
    }
   ],
   "source": [
    "# lambda function\n",
    "my_square = lambda num: num * num\n",
    "print (my_square(5), type(my_square), id(my_square))"
   ]
  },
  {
   "cell_type": "code",
   "execution_count": 107,
   "id": "ace5f50a-5005-47f6-811d-12399aeedb36",
   "metadata": {},
   "outputs": [
    {
     "name": "stdout",
     "output_type": "stream",
     "text": [
      "1000 <class 'function'>\n",
      "5000 <class 'function'>\n"
     ]
    }
   ],
   "source": [
    "my_addition = lambda num1, num2: num1 + num2\n",
    "\n",
    "print (my_addition(100, 900), type(my_addition))\n",
    "print (my_addition(1000, 4000), type(my_addition))"
   ]
  },
  {
   "cell_type": "code",
   "execution_count": 110,
   "id": "f136c309-b6e3-4270-9535-d3d477c37827",
   "metadata": {},
   "outputs": [
    {
     "name": "stdout",
     "output_type": "stream",
     "text": [
      "Even\n",
      "Odd\n"
     ]
    }
   ],
   "source": [
    "# ternary operator\n",
    "num1 = 100\n",
    "print (\"Even\" if (num1 % 2 == 0) else \"Odd\")\n",
    "\n",
    "num1 = 105\n",
    "print (\"Even\" if (num1 % 2 == 0) else \"Odd\")"
   ]
  },
  {
   "cell_type": "code",
   "execution_count": 111,
   "id": "3a8067af-6732-41a6-ad14-e799cdb7c705",
   "metadata": {},
   "outputs": [
    {
     "name": "stdout",
     "output_type": "stream",
     "text": [
      "120\n",
      "720\n"
     ]
    }
   ],
   "source": [
    "# recursive lambda function to calculate the factorial of a given number\n",
    "my_factorial = lambda num: 1 if (num == 0 or num == 1) else num * my_factorial(num - 1)\n",
    "\n",
    "print (my_factorial(5))\n",
    "print (my_factorial(6))"
   ]
  },
  {
   "cell_type": "code",
   "execution_count": 113,
   "id": "2cfedafb-668e-4d8c-8c4b-d7a83de6a143",
   "metadata": {},
   "outputs": [
    {
     "name": "stdout",
     "output_type": "stream",
     "text": [
      "20\n",
      "60\n"
     ]
    }
   ],
   "source": [
    "def funct10(num):\n",
    "    myproduct = lambda n: n * num\n",
    "    return myproduct\n",
    "\n",
    "var10 = funct10(10)\n",
    "var20 = funct10(20)\n",
    "print (var10(2))\n",
    "print (var20(3))"
   ]
  },
  {
   "cell_type": "code",
   "execution_count": 114,
   "id": "1b4c3a6d-f089-4caf-a5cf-42f5acdbb2f8",
   "metadata": {},
   "outputs": [
    {
     "name": "stdout",
     "output_type": "stream",
     "text": [
      "10 140703191935056\n",
      "100 140703191937936\n",
      "10 140703191935056\n"
     ]
    }
   ],
   "source": [
    "# using the 'global' keyword\n",
    "i = 10\n",
    "def funct11():\n",
    "    i = 100\n",
    "    print (i, id(i))\n",
    "    \n",
    "print (i, id(i))\n",
    "funct11()\n",
    "print (i, id(i))"
   ]
  },
  {
   "cell_type": "code",
   "execution_count": 115,
   "id": "7e525b21-e8e9-47fc-b90c-e92baa432059",
   "metadata": {},
   "outputs": [
    {
     "name": "stdout",
     "output_type": "stream",
     "text": [
      "10 140703191935056\n",
      "100 140703191937936\n",
      "100 140703191937936\n"
     ]
    }
   ],
   "source": [
    "# using the 'global' keyword\n",
    "i = 10\n",
    "def funct11():\n",
    "    global i\n",
    "    i = 100\n",
    "    print (i, id(i))\n",
    "    \n",
    "print (i, id(i))\n",
    "funct11()\n",
    "print (i, id(i))"
   ]
  },
  {
   "cell_type": "code",
   "execution_count": 116,
   "id": "414645f2-f2d0-446f-a71b-c116f6df9760",
   "metadata": {},
   "outputs": [
    {
     "name": "stdout",
     "output_type": "stream",
     "text": [
      "10 140703191935056\n",
      "100 140703191937936\n",
      "100 140703191937936\n"
     ]
    }
   ],
   "source": [
    "# using the 'global' keyword\n",
    "def funct11():\n",
    "    global i\n",
    "    i = 100\n",
    "    print (i, id(i))\n",
    "\n",
    "i = 10\n",
    "print (i, id(i))\n",
    "funct11()\n",
    "print (i, id(i))"
   ]
  },
  {
   "cell_type": "markdown",
   "id": "57805e1c-8be3-461d-9067-8d1043a2e2fc",
   "metadata": {},
   "source": [
    "### Importing Modules"
   ]
  },
  {
   "cell_type": "code",
   "execution_count": 1,
   "id": "b7bb772a-cb51-4845-aa3e-efcc4cbafb86",
   "metadata": {},
   "outputs": [],
   "source": [
    "# importing math module\n",
    "import math"
   ]
  },
  {
   "cell_type": "code",
   "execution_count": 16,
   "id": "de3a424e-7295-44bf-9e77-f578927a6248",
   "metadata": {},
   "outputs": [
    {
     "name": "stdout",
     "output_type": "stream",
     "text": [
      "0.0 1.0 0.0\n",
      "0.0 1.5707963267948966 0.0\n",
      "4.605170185988092 4.605170185988092 2.0\n",
      "3.141592653589793 2.718281828459045 6.283185307179586\n",
      "10.0 10.0 3.0\n",
      "5 11 11 10 10\n"
     ]
    }
   ],
   "source": [
    "print (math.sin(0), math.cos(0), math.tan(0))\n",
    "print (math.asin(0), math.acos(0), math.atan(0))\n",
    "print (math.log(100), math.log(100, math.e), math.log(100, 10))\n",
    "print (math.pi, math.e, math.tau)\n",
    "print (math.log2(1024), math.log(1024, 2), math.log10(1000))\n",
    "print (math.gcd(100, 85), math.ceil(10.1), math.ceil(10.9), math.floor(10.1), math.floor(10.9))"
   ]
  },
  {
   "cell_type": "code",
   "execution_count": 20,
   "id": "791169dc-79e3-4bd8-ac6b-d9b9085dacf0",
   "metadata": {},
   "outputs": [
    {
     "name": "stdout",
     "output_type": "stream",
     "text": [
      "120 720 1000.0\n"
     ]
    }
   ],
   "source": [
    "print (math.factorial(5), math.factorial(6), math.pow(10, 3))"
   ]
  },
  {
   "cell_type": "code",
   "execution_count": 22,
   "id": "4f26e737-24f4-4afe-8bc3-9a9e95326bf4",
   "metadata": {},
   "outputs": [
    {
     "name": "stdout",
     "output_type": "stream",
     "text": [
      "Help on built-in function pow in module math:\n",
      "\n",
      "pow(x, y, /)\n",
      "    Return x**y (x to the power of y).\n",
      "\n"
     ]
    }
   ],
   "source": [
    "help(math.pow)"
   ]
  },
  {
   "cell_type": "code",
   "execution_count": 23,
   "id": "f8f65193-f8d2-44e0-aeba-7423fcb111f5",
   "metadata": {
    "scrolled": true,
    "tags": []
   },
   "outputs": [
    {
     "name": "stdout",
     "output_type": "stream",
     "text": [
      "Help on built-in module math:\n",
      "\n",
      "NAME\n",
      "    math\n",
      "\n",
      "DESCRIPTION\n",
      "    This module provides access to the mathematical functions\n",
      "    defined by the C standard.\n",
      "\n",
      "FUNCTIONS\n",
      "    acos(x, /)\n",
      "        Return the arc cosine (measured in radians) of x.\n",
      "    \n",
      "    acosh(x, /)\n",
      "        Return the inverse hyperbolic cosine of x.\n",
      "    \n",
      "    asin(x, /)\n",
      "        Return the arc sine (measured in radians) of x.\n",
      "    \n",
      "    asinh(x, /)\n",
      "        Return the inverse hyperbolic sine of x.\n",
      "    \n",
      "    atan(x, /)\n",
      "        Return the arc tangent (measured in radians) of x.\n",
      "    \n",
      "    atan2(y, x, /)\n",
      "        Return the arc tangent (measured in radians) of y/x.\n",
      "        \n",
      "        Unlike atan(y/x), the signs of both x and y are considered.\n",
      "    \n",
      "    atanh(x, /)\n",
      "        Return the inverse hyperbolic tangent of x.\n",
      "    \n",
      "    ceil(x, /)\n",
      "        Return the ceiling of x as an Integral.\n",
      "        \n",
      "        This is the smallest integer >= x.\n",
      "    \n",
      "    comb(n, k, /)\n",
      "        Number of ways to choose k items from n items without repetition and without order.\n",
      "        \n",
      "        Evaluates to n! / (k! * (n - k)!) when k <= n and evaluates\n",
      "        to zero when k > n.\n",
      "        \n",
      "        Also called the binomial coefficient because it is equivalent\n",
      "        to the coefficient of k-th term in polynomial expansion of the\n",
      "        expression (1 + x)**n.\n",
      "        \n",
      "        Raises TypeError if either of the arguments are not integers.\n",
      "        Raises ValueError if either of the arguments are negative.\n",
      "    \n",
      "    copysign(x, y, /)\n",
      "        Return a float with the magnitude (absolute value) of x but the sign of y.\n",
      "        \n",
      "        On platforms that support signed zeros, copysign(1.0, -0.0)\n",
      "        returns -1.0.\n",
      "    \n",
      "    cos(x, /)\n",
      "        Return the cosine of x (measured in radians).\n",
      "    \n",
      "    cosh(x, /)\n",
      "        Return the hyperbolic cosine of x.\n",
      "    \n",
      "    degrees(x, /)\n",
      "        Convert angle x from radians to degrees.\n",
      "    \n",
      "    dist(p, q, /)\n",
      "        Return the Euclidean distance between two points p and q.\n",
      "        \n",
      "        The points should be specified as sequences (or iterables) of\n",
      "        coordinates.  Both inputs must have the same dimension.\n",
      "        \n",
      "        Roughly equivalent to:\n",
      "            sqrt(sum((px - qx) ** 2.0 for px, qx in zip(p, q)))\n",
      "    \n",
      "    erf(x, /)\n",
      "        Error function at x.\n",
      "    \n",
      "    erfc(x, /)\n",
      "        Complementary error function at x.\n",
      "    \n",
      "    exp(x, /)\n",
      "        Return e raised to the power of x.\n",
      "    \n",
      "    expm1(x, /)\n",
      "        Return exp(x)-1.\n",
      "        \n",
      "        This function avoids the loss of precision involved in the direct evaluation of exp(x)-1 for small x.\n",
      "    \n",
      "    fabs(x, /)\n",
      "        Return the absolute value of the float x.\n",
      "    \n",
      "    factorial(x, /)\n",
      "        Find x!.\n",
      "        \n",
      "        Raise a ValueError if x is negative or non-integral.\n",
      "    \n",
      "    floor(x, /)\n",
      "        Return the floor of x as an Integral.\n",
      "        \n",
      "        This is the largest integer <= x.\n",
      "    \n",
      "    fmod(x, y, /)\n",
      "        Return fmod(x, y), according to platform C.\n",
      "        \n",
      "        x % y may differ.\n",
      "    \n",
      "    frexp(x, /)\n",
      "        Return the mantissa and exponent of x, as pair (m, e).\n",
      "        \n",
      "        m is a float and e is an int, such that x = m * 2.**e.\n",
      "        If x is 0, m and e are both 0.  Else 0.5 <= abs(m) < 1.0.\n",
      "    \n",
      "    fsum(seq, /)\n",
      "        Return an accurate floating point sum of values in the iterable seq.\n",
      "        \n",
      "        Assumes IEEE-754 floating point arithmetic.\n",
      "    \n",
      "    gamma(x, /)\n",
      "        Gamma function at x.\n",
      "    \n",
      "    gcd(x, y, /)\n",
      "        greatest common divisor of x and y\n",
      "    \n",
      "    hypot(...)\n",
      "        hypot(*coordinates) -> value\n",
      "        \n",
      "        Multidimensional Euclidean distance from the origin to a point.\n",
      "        \n",
      "        Roughly equivalent to:\n",
      "            sqrt(sum(x**2 for x in coordinates))\n",
      "        \n",
      "        For a two dimensional point (x, y), gives the hypotenuse\n",
      "        using the Pythagorean theorem:  sqrt(x*x + y*y).\n",
      "        \n",
      "        For example, the hypotenuse of a 3/4/5 right triangle is:\n",
      "        \n",
      "            >>> hypot(3.0, 4.0)\n",
      "            5.0\n",
      "    \n",
      "    isclose(a, b, *, rel_tol=1e-09, abs_tol=0.0)\n",
      "        Determine whether two floating point numbers are close in value.\n",
      "        \n",
      "          rel_tol\n",
      "            maximum difference for being considered \"close\", relative to the\n",
      "            magnitude of the input values\n",
      "          abs_tol\n",
      "            maximum difference for being considered \"close\", regardless of the\n",
      "            magnitude of the input values\n",
      "        \n",
      "        Return True if a is close in value to b, and False otherwise.\n",
      "        \n",
      "        For the values to be considered close, the difference between them\n",
      "        must be smaller than at least one of the tolerances.\n",
      "        \n",
      "        -inf, inf and NaN behave similarly to the IEEE 754 Standard.  That\n",
      "        is, NaN is not close to anything, even itself.  inf and -inf are\n",
      "        only close to themselves.\n",
      "    \n",
      "    isfinite(x, /)\n",
      "        Return True if x is neither an infinity nor a NaN, and False otherwise.\n",
      "    \n",
      "    isinf(x, /)\n",
      "        Return True if x is a positive or negative infinity, and False otherwise.\n",
      "    \n",
      "    isnan(x, /)\n",
      "        Return True if x is a NaN (not a number), and False otherwise.\n",
      "    \n",
      "    isqrt(n, /)\n",
      "        Return the integer part of the square root of the input.\n",
      "    \n",
      "    ldexp(x, i, /)\n",
      "        Return x * (2**i).\n",
      "        \n",
      "        This is essentially the inverse of frexp().\n",
      "    \n",
      "    lgamma(x, /)\n",
      "        Natural logarithm of absolute value of Gamma function at x.\n",
      "    \n",
      "    log(...)\n",
      "        log(x, [base=math.e])\n",
      "        Return the logarithm of x to the given base.\n",
      "        \n",
      "        If the base not specified, returns the natural logarithm (base e) of x.\n",
      "    \n",
      "    log10(x, /)\n",
      "        Return the base 10 logarithm of x.\n",
      "    \n",
      "    log1p(x, /)\n",
      "        Return the natural logarithm of 1+x (base e).\n",
      "        \n",
      "        The result is computed in a way which is accurate for x near zero.\n",
      "    \n",
      "    log2(x, /)\n",
      "        Return the base 2 logarithm of x.\n",
      "    \n",
      "    modf(x, /)\n",
      "        Return the fractional and integer parts of x.\n",
      "        \n",
      "        Both results carry the sign of x and are floats.\n",
      "    \n",
      "    perm(n, k=None, /)\n",
      "        Number of ways to choose k items from n items without repetition and with order.\n",
      "        \n",
      "        Evaluates to n! / (n - k)! when k <= n and evaluates\n",
      "        to zero when k > n.\n",
      "        \n",
      "        If k is not specified or is None, then k defaults to n\n",
      "        and the function returns n!.\n",
      "        \n",
      "        Raises TypeError if either of the arguments are not integers.\n",
      "        Raises ValueError if either of the arguments are negative.\n",
      "    \n",
      "    pow(x, y, /)\n",
      "        Return x**y (x to the power of y).\n",
      "    \n",
      "    prod(iterable, /, *, start=1)\n",
      "        Calculate the product of all the elements in the input iterable.\n",
      "        \n",
      "        The default start value for the product is 1.\n",
      "        \n",
      "        When the iterable is empty, return the start value.  This function is\n",
      "        intended specifically for use with numeric values and may reject\n",
      "        non-numeric types.\n",
      "    \n",
      "    radians(x, /)\n",
      "        Convert angle x from degrees to radians.\n",
      "    \n",
      "    remainder(x, y, /)\n",
      "        Difference between x and the closest integer multiple of y.\n",
      "        \n",
      "        Return x - n*y where n*y is the closest integer multiple of y.\n",
      "        In the case where x is exactly halfway between two multiples of\n",
      "        y, the nearest even value of n is used. The result is always exact.\n",
      "    \n",
      "    sin(x, /)\n",
      "        Return the sine of x (measured in radians).\n",
      "    \n",
      "    sinh(x, /)\n",
      "        Return the hyperbolic sine of x.\n",
      "    \n",
      "    sqrt(x, /)\n",
      "        Return the square root of x.\n",
      "    \n",
      "    tan(x, /)\n",
      "        Return the tangent of x (measured in radians).\n",
      "    \n",
      "    tanh(x, /)\n",
      "        Return the hyperbolic tangent of x.\n",
      "    \n",
      "    trunc(x, /)\n",
      "        Truncates the Real x to the nearest Integral toward 0.\n",
      "        \n",
      "        Uses the __trunc__ magic method.\n",
      "\n",
      "DATA\n",
      "    e = 2.718281828459045\n",
      "    inf = inf\n",
      "    nan = nan\n",
      "    pi = 3.141592653589793\n",
      "    tau = 6.283185307179586\n",
      "\n",
      "FILE\n",
      "    (built-in)\n",
      "\n",
      "\n"
     ]
    }
   ],
   "source": [
    "help(math)"
   ]
  },
  {
   "cell_type": "markdown",
   "id": "ab1b8576-080f-4512-aba9-88bbaf054eaf",
   "metadata": {},
   "source": [
    "### Collection Class Objects"
   ]
  },
  {
   "cell_type": "markdown",
   "id": "035e3f00-15dd-48b9-8d1e-701939a23c33",
   "metadata": {},
   "source": [
    "### Dealing with List Collection"
   ]
  },
  {
   "cell_type": "code",
   "execution_count": 26,
   "id": "85fa9742-bdb2-4642-bc5c-ec1717450a13",
   "metadata": {},
   "outputs": [
    {
     "name": "stdout",
     "output_type": "stream",
     "text": [
      "[100, 300, 500, 200, 700] 5 <class 'list'> 1767539350016\n",
      "700 100\n",
      "1800\n"
     ]
    }
   ],
   "source": [
    "list1 = [100, 300, 500, 200, 700]\n",
    "print (list1, len(list1), type(list1), id(list1))\n",
    "print (max(list1), min(list1))\n",
    "print (sum(list1))"
   ]
  },
  {
   "cell_type": "code",
   "execution_count": 29,
   "id": "d8790562-6b5a-4b04-8c12-78a618dc717d",
   "metadata": {},
   "outputs": [
    {
     "name": "stdout",
     "output_type": "stream",
     "text": [
      "[100, 300, 500, 200, 700, 20.5, True] 7 <class 'list'> 1767539345216\n",
      "700 True\n",
      "1821.5\n"
     ]
    }
   ],
   "source": [
    "list1 = [100, 300, 500, 200, 700, 20.5, True]\n",
    "print (list1, len(list1), type(list1), id(list1))\n",
    "print (max(list1), min(list1))\n",
    "print (sum(list1))"
   ]
  },
  {
   "cell_type": "code",
   "execution_count": 33,
   "id": "b4d9fe68-fd1d-4002-9134-0dd22d222a98",
   "metadata": {},
   "outputs": [
    {
     "name": "stdout",
     "output_type": "stream",
     "text": [
      "['Wed', 'Tue', 'sat', 'Mon', 'Sun'] 5 <class 'list'> 1767538179584\n",
      "sat Mon\n"
     ]
    },
    {
     "ename": "TypeError",
     "evalue": "unsupported operand type(s) for +: 'int' and 'str'",
     "output_type": "error",
     "traceback": [
      "\u001b[1;31m---------------------------------------------------------------------------\u001b[0m",
      "\u001b[1;31mTypeError\u001b[0m                                 Traceback (most recent call last)",
      "\u001b[1;32m<ipython-input-33-235290d70944>\u001b[0m in \u001b[0;36m<module>\u001b[1;34m\u001b[0m\n\u001b[0;32m      2\u001b[0m \u001b[0mprint\u001b[0m \u001b[1;33m(\u001b[0m\u001b[0mlist1\u001b[0m\u001b[1;33m,\u001b[0m \u001b[0mlen\u001b[0m\u001b[1;33m(\u001b[0m\u001b[0mlist1\u001b[0m\u001b[1;33m)\u001b[0m\u001b[1;33m,\u001b[0m \u001b[0mtype\u001b[0m\u001b[1;33m(\u001b[0m\u001b[0mlist1\u001b[0m\u001b[1;33m)\u001b[0m\u001b[1;33m,\u001b[0m \u001b[0mid\u001b[0m\u001b[1;33m(\u001b[0m\u001b[0mlist1\u001b[0m\u001b[1;33m)\u001b[0m\u001b[1;33m)\u001b[0m\u001b[1;33m\u001b[0m\u001b[1;33m\u001b[0m\u001b[0m\n\u001b[0;32m      3\u001b[0m \u001b[0mprint\u001b[0m \u001b[1;33m(\u001b[0m\u001b[0mmax\u001b[0m\u001b[1;33m(\u001b[0m\u001b[0mlist1\u001b[0m\u001b[1;33m)\u001b[0m\u001b[1;33m,\u001b[0m \u001b[0mmin\u001b[0m\u001b[1;33m(\u001b[0m\u001b[0mlist1\u001b[0m\u001b[1;33m)\u001b[0m\u001b[1;33m)\u001b[0m\u001b[1;33m\u001b[0m\u001b[1;33m\u001b[0m\u001b[0m\n\u001b[1;32m----> 4\u001b[1;33m \u001b[0mprint\u001b[0m \u001b[1;33m(\u001b[0m\u001b[0msum\u001b[0m\u001b[1;33m(\u001b[0m\u001b[0mlist1\u001b[0m\u001b[1;33m)\u001b[0m\u001b[1;33m)\u001b[0m\u001b[1;33m\u001b[0m\u001b[1;33m\u001b[0m\u001b[0m\n\u001b[0m",
      "\u001b[1;31mTypeError\u001b[0m: unsupported operand type(s) for +: 'int' and 'str'"
     ]
    }
   ],
   "source": [
    "list1 = ['Wed', 'Tue', 'sat', 'Mon', 'Sun']\n",
    "print (list1, len(list1), type(list1), id(list1))\n",
    "print (max(list1), min(list1))\n",
    "print (sum(list1))"
   ]
  },
  {
   "cell_type": "code",
   "execution_count": 35,
   "id": "0315caeb-b3d9-4360-b076-cf0dae74deeb",
   "metadata": {},
   "outputs": [
    {
     "name": "stdout",
     "output_type": "stream",
     "text": [
      "['Wed', 'Tue', 'sat', 'Mon', True, 'Sun', 12.3, 100] 8 <class 'list'> 1767539349056\n"
     ]
    },
    {
     "ename": "TypeError",
     "evalue": "'>' not supported between instances of 'bool' and 'str'",
     "output_type": "error",
     "traceback": [
      "\u001b[1;31m---------------------------------------------------------------------------\u001b[0m",
      "\u001b[1;31mTypeError\u001b[0m                                 Traceback (most recent call last)",
      "\u001b[1;32m<ipython-input-35-5eb810f93c74>\u001b[0m in \u001b[0;36m<module>\u001b[1;34m\u001b[0m\n\u001b[0;32m      1\u001b[0m \u001b[0mlist1\u001b[0m \u001b[1;33m=\u001b[0m \u001b[1;33m[\u001b[0m\u001b[1;34m'Wed'\u001b[0m\u001b[1;33m,\u001b[0m \u001b[1;34m'Tue'\u001b[0m\u001b[1;33m,\u001b[0m \u001b[1;34m'sat'\u001b[0m\u001b[1;33m,\u001b[0m \u001b[1;34m'Mon'\u001b[0m\u001b[1;33m,\u001b[0m \u001b[1;32mTrue\u001b[0m\u001b[1;33m,\u001b[0m \u001b[1;34m'Sun'\u001b[0m\u001b[1;33m,\u001b[0m \u001b[1;36m12.3\u001b[0m\u001b[1;33m,\u001b[0m \u001b[1;36m100\u001b[0m\u001b[1;33m]\u001b[0m\u001b[1;33m\u001b[0m\u001b[1;33m\u001b[0m\u001b[0m\n\u001b[0;32m      2\u001b[0m \u001b[0mprint\u001b[0m \u001b[1;33m(\u001b[0m\u001b[0mlist1\u001b[0m\u001b[1;33m,\u001b[0m \u001b[0mlen\u001b[0m\u001b[1;33m(\u001b[0m\u001b[0mlist1\u001b[0m\u001b[1;33m)\u001b[0m\u001b[1;33m,\u001b[0m \u001b[0mtype\u001b[0m\u001b[1;33m(\u001b[0m\u001b[0mlist1\u001b[0m\u001b[1;33m)\u001b[0m\u001b[1;33m,\u001b[0m \u001b[0mid\u001b[0m\u001b[1;33m(\u001b[0m\u001b[0mlist1\u001b[0m\u001b[1;33m)\u001b[0m\u001b[1;33m)\u001b[0m\u001b[1;33m\u001b[0m\u001b[1;33m\u001b[0m\u001b[0m\n\u001b[1;32m----> 3\u001b[1;33m \u001b[0mprint\u001b[0m \u001b[1;33m(\u001b[0m\u001b[0mmax\u001b[0m\u001b[1;33m(\u001b[0m\u001b[0mlist1\u001b[0m\u001b[1;33m)\u001b[0m\u001b[1;33m,\u001b[0m \u001b[0mmin\u001b[0m\u001b[1;33m(\u001b[0m\u001b[0mlist1\u001b[0m\u001b[1;33m)\u001b[0m\u001b[1;33m)\u001b[0m\u001b[1;33m\u001b[0m\u001b[1;33m\u001b[0m\u001b[0m\n\u001b[0m\u001b[0;32m      4\u001b[0m \u001b[0mprint\u001b[0m \u001b[1;33m(\u001b[0m\u001b[0msum\u001b[0m\u001b[1;33m(\u001b[0m\u001b[0mlist1\u001b[0m\u001b[1;33m)\u001b[0m\u001b[1;33m)\u001b[0m\u001b[1;33m\u001b[0m\u001b[1;33m\u001b[0m\u001b[0m\n",
      "\u001b[1;31mTypeError\u001b[0m: '>' not supported between instances of 'bool' and 'str'"
     ]
    }
   ],
   "source": [
    "list1 = ['Wed', 'Tue', 'sat', 'Mon', True, 'Sun', 12.3, 100]\n",
    "print (list1, len(list1), type(list1), id(list1))\n",
    "print (max(list1), min(list1))\n",
    "print (sum(list1))"
   ]
  },
  {
   "cell_type": "code",
   "execution_count": 37,
   "id": "5a49dade-f135-4916-b260-41b8d8e7b545",
   "metadata": {},
   "outputs": [
    {
     "name": "stdout",
     "output_type": "stream",
     "text": [
      "[100, 300, 200, 400, 500] 5\n",
      "2\n"
     ]
    }
   ],
   "source": [
    "list1 = [100, 300, 200, 400, 500]\n",
    "print (list1, len(list1))\n",
    "print (list1.index(200))"
   ]
  },
  {
   "cell_type": "code",
   "execution_count": null,
   "id": "d170b402-6507-4a99-a0b0-d199b063a4a5",
   "metadata": {},
   "outputs": [],
   "source": [
    "list1 = [100, 300, 200, 400, 500]\n",
    "print (list1, len(list1))\n",
    "print (list1.index(200))"
   ]
  },
  {
   "cell_type": "code",
   "execution_count": 39,
   "id": "fc470a27-61dc-45af-9edb-84b046dd1e94",
   "metadata": {},
   "outputs": [
    {
     "name": "stdout",
     "output_type": "stream",
     "text": [
      "[100, 300, 200, 400, 500] 5\n",
      "[100, 300, 200, 400, 500, 900, 110] 7\n"
     ]
    }
   ],
   "source": [
    "list1 = [100, 300, 200, 400, 500]\n",
    "print (list1, len(list1))\n",
    "list1.append(900)\n",
    "list1.append(110)\n",
    "print (list1, len(list1))"
   ]
  },
  {
   "cell_type": "code",
   "execution_count": 40,
   "id": "9c2759c0-9685-46c4-a711-11b52d7ead40",
   "metadata": {},
   "outputs": [
    {
     "name": "stdout",
     "output_type": "stream",
     "text": [
      "[100, 300, 200, 400, 500] 5\n",
      "[100, 900, 650, 300, 200, 400, 500] 7\n"
     ]
    }
   ],
   "source": [
    "list1 = [100, 300, 200, 400, 500]\n",
    "print (list1, len(list1))\n",
    "list1.insert(1, 900)\n",
    "list1.insert(2, 650)\n",
    "print (list1, len(list1))"
   ]
  },
  {
   "cell_type": "code",
   "execution_count": 42,
   "id": "79fd791e-acb2-4c95-8315-665ded0b4b34",
   "metadata": {},
   "outputs": [
    {
     "name": "stdout",
     "output_type": "stream",
     "text": [
      "[100, 300, 200, 400, 500] 5\n",
      "[100, 200, 500] 3\n"
     ]
    },
    {
     "ename": "ValueError",
     "evalue": "list.remove(x): x not in list",
     "output_type": "error",
     "traceback": [
      "\u001b[1;31m---------------------------------------------------------------------------\u001b[0m",
      "\u001b[1;31mValueError\u001b[0m                                Traceback (most recent call last)",
      "\u001b[1;32m<ipython-input-42-5864fb3eec98>\u001b[0m in \u001b[0;36m<module>\u001b[1;34m\u001b[0m\n\u001b[0;32m      4\u001b[0m \u001b[0mlist1\u001b[0m\u001b[1;33m.\u001b[0m\u001b[0mremove\u001b[0m\u001b[1;33m(\u001b[0m\u001b[1;36m400\u001b[0m\u001b[1;33m)\u001b[0m\u001b[1;33m\u001b[0m\u001b[1;33m\u001b[0m\u001b[0m\n\u001b[0;32m      5\u001b[0m \u001b[0mprint\u001b[0m \u001b[1;33m(\u001b[0m\u001b[0mlist1\u001b[0m\u001b[1;33m,\u001b[0m \u001b[0mlen\u001b[0m\u001b[1;33m(\u001b[0m\u001b[0mlist1\u001b[0m\u001b[1;33m)\u001b[0m\u001b[1;33m)\u001b[0m\u001b[1;33m\u001b[0m\u001b[1;33m\u001b[0m\u001b[0m\n\u001b[1;32m----> 6\u001b[1;33m \u001b[0mlist1\u001b[0m\u001b[1;33m.\u001b[0m\u001b[0mremove\u001b[0m\u001b[1;33m(\u001b[0m\u001b[1;36m400\u001b[0m\u001b[1;33m)\u001b[0m\u001b[1;33m\u001b[0m\u001b[1;33m\u001b[0m\u001b[0m\n\u001b[0m",
      "\u001b[1;31mValueError\u001b[0m: list.remove(x): x not in list"
     ]
    }
   ],
   "source": [
    "list1 = [100, 300, 200, 400, 500]\n",
    "print (list1, len(list1))\n",
    "list1.remove(300)\n",
    "list1.remove(400)\n",
    "print (list1, len(list1))\n",
    "list1.remove(400)"
   ]
  },
  {
   "cell_type": "code",
   "execution_count": 43,
   "id": "f06689fc-ee7d-409c-a291-05c43db97c0f",
   "metadata": {},
   "outputs": [
    {
     "name": "stdout",
     "output_type": "stream",
     "text": [
      "[100, 300, 200, 400, 500] 5\n",
      "500\n",
      "400\n",
      "[100, 300, 200] 3\n"
     ]
    }
   ],
   "source": [
    "list1 = [100, 300, 200, 400, 500]\n",
    "print (list1, len(list1))\n",
    "print (list1.pop())\n",
    "print (list1.pop())\n",
    "print (list1, len(list1))"
   ]
  },
  {
   "cell_type": "code",
   "execution_count": 47,
   "id": "cddffe63-246a-4ca4-9972-84ea9eb76c75",
   "metadata": {},
   "outputs": [
    {
     "name": "stdout",
     "output_type": "stream",
     "text": [
      "[100, 300, 200, 400, 500] 5\n",
      "[100, 200, 400, 500] 4\n",
      "[100, 200, 400] 3\n"
     ]
    },
    {
     "ename": "NameError",
     "evalue": "name 'list1' is not defined",
     "output_type": "error",
     "traceback": [
      "\u001b[1;31m---------------------------------------------------------------------------\u001b[0m",
      "\u001b[1;31mNameError\u001b[0m                                 Traceback (most recent call last)",
      "\u001b[1;32m<ipython-input-47-64b2caaf44d6>\u001b[0m in \u001b[0;36m<module>\u001b[1;34m\u001b[0m\n\u001b[0;32m      6\u001b[0m \u001b[0mprint\u001b[0m \u001b[1;33m(\u001b[0m\u001b[0mlist1\u001b[0m\u001b[1;33m,\u001b[0m \u001b[0mlen\u001b[0m\u001b[1;33m(\u001b[0m\u001b[0mlist1\u001b[0m\u001b[1;33m)\u001b[0m\u001b[1;33m)\u001b[0m\u001b[1;33m\u001b[0m\u001b[1;33m\u001b[0m\u001b[0m\n\u001b[0;32m      7\u001b[0m \u001b[1;32mdel\u001b[0m \u001b[0mlist1\u001b[0m\u001b[1;33m\u001b[0m\u001b[1;33m\u001b[0m\u001b[0m\n\u001b[1;32m----> 8\u001b[1;33m \u001b[0mprint\u001b[0m \u001b[1;33m(\u001b[0m\u001b[0mlist1\u001b[0m\u001b[1;33m,\u001b[0m \u001b[0mlen\u001b[0m\u001b[1;33m(\u001b[0m\u001b[0mlist1\u001b[0m\u001b[1;33m)\u001b[0m\u001b[1;33m)\u001b[0m\u001b[1;33m\u001b[0m\u001b[1;33m\u001b[0m\u001b[0m\n\u001b[0m",
      "\u001b[1;31mNameError\u001b[0m: name 'list1' is not defined"
     ]
    }
   ],
   "source": [
    "list1 = [100, 300, 200, 400, 500]\n",
    "print (list1, len(list1))\n",
    "del list1[1]\n",
    "print (list1, len(list1))\n",
    "del list1[3]\n",
    "print (list1, len(list1))\n",
    "del list1\n",
    "print (list1, len(list1))"
   ]
  },
  {
   "cell_type": "code",
   "execution_count": 48,
   "id": "5cf358f3-33b7-4c40-ba79-a02c0a6161cf",
   "metadata": {},
   "outputs": [
    {
     "name": "stdout",
     "output_type": "stream",
     "text": [
      "[100, 300, 200, 400, 500] 5\n",
      "[] 0\n"
     ]
    }
   ],
   "source": [
    "list1 = [100, 300, 200, 400, 500]\n",
    "print (list1, len(list1))\n",
    "list1.clear()\n",
    "print (list1, len(list1))"
   ]
  },
  {
   "cell_type": "code",
   "execution_count": 49,
   "id": "683aa36f-69a8-4930-9691-58aac30a00a0",
   "metadata": {},
   "outputs": [
    {
     "name": "stdout",
     "output_type": "stream",
     "text": [
      "[100, 300, 200, 400, 500] 5\n",
      "[100, 300, 200, 900, 500] 5\n"
     ]
    }
   ],
   "source": [
    "list1 = [100, 300, 200, 400, 500]\n",
    "print (list1, len(list1))\n",
    "list1[3] = 900\n",
    "print (list1, len(list1))"
   ]
  },
  {
   "cell_type": "code",
   "execution_count": 57,
   "id": "53cf553c-0d55-4312-900b-3cc62190acdb",
   "metadata": {},
   "outputs": [
    {
     "name": "stdout",
     "output_type": "stream",
     "text": [
      "[100, 300, 200, 400, 500] 5\n",
      "[100, 200, 300, 400, 500] 5\n",
      "[500, 400, 300, 200, 100] 5\n",
      "[100, 200, 300, 400, 500] 5\n"
     ]
    }
   ],
   "source": [
    "list1 = [100, 300, 200, 400, 500]\n",
    "print (list1, len(list1))\n",
    "list1.sort()\n",
    "print (list1, len(list1))\n",
    "list1.sort(reverse = True)\n",
    "print (list1, len(list1))\n",
    "list1.reverse()\n",
    "print (list1, len(list1))"
   ]
  },
  {
   "cell_type": "code",
   "execution_count": 86,
   "id": "434fc8c7-82b4-4fad-a143-ec3259e9232b",
   "metadata": {},
   "outputs": [
    {
     "name": "stdout",
     "output_type": "stream",
     "text": [
      "[100, 200, 300] 3\n",
      "[400, 600, 800] 3\n",
      "[100, 200, 300, 400, 600, 800] 6\n"
     ]
    }
   ],
   "source": [
    "list1 = [100, 200, 300]\n",
    "print (list1, len(list1))\n",
    "list2 = [400, 600, 800]\n",
    "print (list2, len(list2))\n",
    "result = list1 + list2\n",
    "print (result, len(result))"
   ]
  },
  {
   "cell_type": "code",
   "execution_count": 54,
   "id": "82714e5a-8ebe-4fad-808a-c664c04be90f",
   "metadata": {},
   "outputs": [
    {
     "name": "stdout",
     "output_type": "stream",
     "text": [
      "Help on method_descriptor:\n",
      "\n",
      "sort(self, /, *, key=None, reverse=False)\n",
      "    Sort the list in ascending order and return None.\n",
      "    \n",
      "    The sort is in-place (i.e. the list itself is modified) and stable (i.e. the\n",
      "    order of two equal elements is maintained).\n",
      "    \n",
      "    If a key function is given, apply it once to each list item and sort them,\n",
      "    ascending or descending, according to their function values.\n",
      "    \n",
      "    The reverse flag can be set to sort in descending order.\n",
      "\n"
     ]
    }
   ],
   "source": [
    "help(list.sort)"
   ]
  },
  {
   "cell_type": "code",
   "execution_count": 50,
   "id": "d4e9cb44-0f82-4b4f-a8d0-f10123dc2442",
   "metadata": {
    "scrolled": true,
    "tags": []
   },
   "outputs": [
    {
     "name": "stdout",
     "output_type": "stream",
     "text": [
      "Help on class list in module builtins:\n",
      "\n",
      "class list(object)\n",
      " |  list(iterable=(), /)\n",
      " |  \n",
      " |  Built-in mutable sequence.\n",
      " |  \n",
      " |  If no argument is given, the constructor creates a new empty list.\n",
      " |  The argument must be an iterable if specified.\n",
      " |  \n",
      " |  Methods defined here:\n",
      " |  \n",
      " |  __add__(self, value, /)\n",
      " |      Return self+value.\n",
      " |  \n",
      " |  __contains__(self, key, /)\n",
      " |      Return key in self.\n",
      " |  \n",
      " |  __delitem__(self, key, /)\n",
      " |      Delete self[key].\n",
      " |  \n",
      " |  __eq__(self, value, /)\n",
      " |      Return self==value.\n",
      " |  \n",
      " |  __ge__(self, value, /)\n",
      " |      Return self>=value.\n",
      " |  \n",
      " |  __getattribute__(self, name, /)\n",
      " |      Return getattr(self, name).\n",
      " |  \n",
      " |  __getitem__(...)\n",
      " |      x.__getitem__(y) <==> x[y]\n",
      " |  \n",
      " |  __gt__(self, value, /)\n",
      " |      Return self>value.\n",
      " |  \n",
      " |  __iadd__(self, value, /)\n",
      " |      Implement self+=value.\n",
      " |  \n",
      " |  __imul__(self, value, /)\n",
      " |      Implement self*=value.\n",
      " |  \n",
      " |  __init__(self, /, *args, **kwargs)\n",
      " |      Initialize self.  See help(type(self)) for accurate signature.\n",
      " |  \n",
      " |  __iter__(self, /)\n",
      " |      Implement iter(self).\n",
      " |  \n",
      " |  __le__(self, value, /)\n",
      " |      Return self<=value.\n",
      " |  \n",
      " |  __len__(self, /)\n",
      " |      Return len(self).\n",
      " |  \n",
      " |  __lt__(self, value, /)\n",
      " |      Return self<value.\n",
      " |  \n",
      " |  __mul__(self, value, /)\n",
      " |      Return self*value.\n",
      " |  \n",
      " |  __ne__(self, value, /)\n",
      " |      Return self!=value.\n",
      " |  \n",
      " |  __repr__(self, /)\n",
      " |      Return repr(self).\n",
      " |  \n",
      " |  __reversed__(self, /)\n",
      " |      Return a reverse iterator over the list.\n",
      " |  \n",
      " |  __rmul__(self, value, /)\n",
      " |      Return value*self.\n",
      " |  \n",
      " |  __setitem__(self, key, value, /)\n",
      " |      Set self[key] to value.\n",
      " |  \n",
      " |  __sizeof__(self, /)\n",
      " |      Return the size of the list in memory, in bytes.\n",
      " |  \n",
      " |  append(self, object, /)\n",
      " |      Append object to the end of the list.\n",
      " |  \n",
      " |  clear(self, /)\n",
      " |      Remove all items from list.\n",
      " |  \n",
      " |  copy(self, /)\n",
      " |      Return a shallow copy of the list.\n",
      " |  \n",
      " |  count(self, value, /)\n",
      " |      Return number of occurrences of value.\n",
      " |  \n",
      " |  extend(self, iterable, /)\n",
      " |      Extend list by appending elements from the iterable.\n",
      " |  \n",
      " |  index(self, value, start=0, stop=9223372036854775807, /)\n",
      " |      Return first index of value.\n",
      " |      \n",
      " |      Raises ValueError if the value is not present.\n",
      " |  \n",
      " |  insert(self, index, object, /)\n",
      " |      Insert object before index.\n",
      " |  \n",
      " |  pop(self, index=-1, /)\n",
      " |      Remove and return item at index (default last).\n",
      " |      \n",
      " |      Raises IndexError if list is empty or index is out of range.\n",
      " |  \n",
      " |  remove(self, value, /)\n",
      " |      Remove first occurrence of value.\n",
      " |      \n",
      " |      Raises ValueError if the value is not present.\n",
      " |  \n",
      " |  reverse(self, /)\n",
      " |      Reverse *IN PLACE*.\n",
      " |  \n",
      " |  sort(self, /, *, key=None, reverse=False)\n",
      " |      Sort the list in ascending order and return None.\n",
      " |      \n",
      " |      The sort is in-place (i.e. the list itself is modified) and stable (i.e. the\n",
      " |      order of two equal elements is maintained).\n",
      " |      \n",
      " |      If a key function is given, apply it once to each list item and sort them,\n",
      " |      ascending or descending, according to their function values.\n",
      " |      \n",
      " |      The reverse flag can be set to sort in descending order.\n",
      " |  \n",
      " |  ----------------------------------------------------------------------\n",
      " |  Static methods defined here:\n",
      " |  \n",
      " |  __new__(*args, **kwargs) from builtins.type\n",
      " |      Create and return a new object.  See help(type) for accurate signature.\n",
      " |  \n",
      " |  ----------------------------------------------------------------------\n",
      " |  Data and other attributes defined here:\n",
      " |  \n",
      " |  __hash__ = None\n",
      "\n"
     ]
    }
   ],
   "source": [
    "help(list)"
   ]
  },
  {
   "cell_type": "markdown",
   "id": "2af42bf9-5a46-4b91-82a6-460a158c5299",
   "metadata": {},
   "source": [
    "### Dealing with Tuple Collection"
   ]
  },
  {
   "cell_type": "code",
   "execution_count": 27,
   "id": "780b3eb1-cc3e-4d00-9abb-71e70d1d9d23",
   "metadata": {},
   "outputs": [
    {
     "name": "stdout",
     "output_type": "stream",
     "text": [
      "(100, 300, 500, 200, 700) 5 <class 'tuple'> 1767538658336\n",
      "700 100\n",
      "1800\n"
     ]
    }
   ],
   "source": [
    "tuple1 = (100, 300, 500, 200, 700)\n",
    "print (tuple1, len(tuple1), type(tuple1), id(tuple1))\n",
    "print (max(tuple1), min(tuple1))\n",
    "print (sum(tuple1))"
   ]
  },
  {
   "cell_type": "code",
   "execution_count": 30,
   "id": "8a81e341-f234-441a-b237-6b820e42e47e",
   "metadata": {},
   "outputs": [
    {
     "name": "stdout",
     "output_type": "stream",
     "text": [
      "(100, 300, 500, 200, 700, 20.5, True) 7 <class 'tuple'> 1767522067648\n",
      "700 True\n",
      "1821.5\n"
     ]
    }
   ],
   "source": [
    "tuple1 = (100, 300, 500, 200, 700, 20.5, True)\n",
    "print (tuple1, len(tuple1), type(tuple1), id(tuple1))\n",
    "print (max(tuple1), min(tuple1))\n",
    "print (sum(tuple1))"
   ]
  },
  {
   "cell_type": "code",
   "execution_count": 32,
   "id": "9ce62840-4817-4b00-a045-a55a11ee7e78",
   "metadata": {},
   "outputs": [
    {
     "name": "stdout",
     "output_type": "stream",
     "text": [
      "('Wed', 'Tue', 'sat', 'Mon', 'Sun') 5 <class 'tuple'> 1767521935664\n",
      "sat Mon\n"
     ]
    },
    {
     "ename": "TypeError",
     "evalue": "unsupported operand type(s) for +: 'int' and 'str'",
     "output_type": "error",
     "traceback": [
      "\u001b[1;31m---------------------------------------------------------------------------\u001b[0m",
      "\u001b[1;31mTypeError\u001b[0m                                 Traceback (most recent call last)",
      "\u001b[1;32m<ipython-input-32-3fbe5dd6a9bf>\u001b[0m in \u001b[0;36m<module>\u001b[1;34m\u001b[0m\n\u001b[0;32m      2\u001b[0m \u001b[0mprint\u001b[0m \u001b[1;33m(\u001b[0m\u001b[0mtuple1\u001b[0m\u001b[1;33m,\u001b[0m \u001b[0mlen\u001b[0m\u001b[1;33m(\u001b[0m\u001b[0mtuple1\u001b[0m\u001b[1;33m)\u001b[0m\u001b[1;33m,\u001b[0m \u001b[0mtype\u001b[0m\u001b[1;33m(\u001b[0m\u001b[0mtuple1\u001b[0m\u001b[1;33m)\u001b[0m\u001b[1;33m,\u001b[0m \u001b[0mid\u001b[0m\u001b[1;33m(\u001b[0m\u001b[0mtuple1\u001b[0m\u001b[1;33m)\u001b[0m\u001b[1;33m)\u001b[0m\u001b[1;33m\u001b[0m\u001b[1;33m\u001b[0m\u001b[0m\n\u001b[0;32m      3\u001b[0m \u001b[0mprint\u001b[0m \u001b[1;33m(\u001b[0m\u001b[0mmax\u001b[0m\u001b[1;33m(\u001b[0m\u001b[0mtuple1\u001b[0m\u001b[1;33m)\u001b[0m\u001b[1;33m,\u001b[0m \u001b[0mmin\u001b[0m\u001b[1;33m(\u001b[0m\u001b[0mtuple1\u001b[0m\u001b[1;33m)\u001b[0m\u001b[1;33m)\u001b[0m\u001b[1;33m\u001b[0m\u001b[1;33m\u001b[0m\u001b[0m\n\u001b[1;32m----> 4\u001b[1;33m \u001b[0mprint\u001b[0m \u001b[1;33m(\u001b[0m\u001b[0msum\u001b[0m\u001b[1;33m(\u001b[0m\u001b[0mtuple1\u001b[0m\u001b[1;33m)\u001b[0m\u001b[1;33m)\u001b[0m\u001b[1;33m\u001b[0m\u001b[1;33m\u001b[0m\u001b[0m\n\u001b[0m",
      "\u001b[1;31mTypeError\u001b[0m: unsupported operand type(s) for +: 'int' and 'str'"
     ]
    }
   ],
   "source": [
    "tuple1 = ('Wed', 'Tue', 'sat', 'Mon', 'Sun')\n",
    "print (tuple1, len(tuple1), type(tuple1), id(tuple1))\n",
    "print (max(tuple1), min(tuple1))\n",
    "print (sum(tuple1))"
   ]
  },
  {
   "cell_type": "code",
   "execution_count": 36,
   "id": "569eb880-d309-4138-885d-8a7f32c655b8",
   "metadata": {},
   "outputs": [
    {
     "name": "stdout",
     "output_type": "stream",
     "text": [
      "('Wed', 'Tue', 'sat', 'Mon', True, 'Sun', 12.3, 100) 8 <class 'tuple'> 1767539298816\n"
     ]
    },
    {
     "ename": "TypeError",
     "evalue": "'>' not supported between instances of 'bool' and 'str'",
     "output_type": "error",
     "traceback": [
      "\u001b[1;31m---------------------------------------------------------------------------\u001b[0m",
      "\u001b[1;31mTypeError\u001b[0m                                 Traceback (most recent call last)",
      "\u001b[1;32m<ipython-input-36-2e45753bff20>\u001b[0m in \u001b[0;36m<module>\u001b[1;34m\u001b[0m\n\u001b[0;32m      1\u001b[0m \u001b[0mtuple1\u001b[0m \u001b[1;33m=\u001b[0m \u001b[1;33m(\u001b[0m\u001b[1;34m'Wed'\u001b[0m\u001b[1;33m,\u001b[0m \u001b[1;34m'Tue'\u001b[0m\u001b[1;33m,\u001b[0m \u001b[1;34m'sat'\u001b[0m\u001b[1;33m,\u001b[0m \u001b[1;34m'Mon'\u001b[0m\u001b[1;33m,\u001b[0m \u001b[1;32mTrue\u001b[0m\u001b[1;33m,\u001b[0m \u001b[1;34m'Sun'\u001b[0m\u001b[1;33m,\u001b[0m \u001b[1;36m12.3\u001b[0m\u001b[1;33m,\u001b[0m \u001b[1;36m100\u001b[0m\u001b[1;33m)\u001b[0m\u001b[1;33m\u001b[0m\u001b[1;33m\u001b[0m\u001b[0m\n\u001b[0;32m      2\u001b[0m \u001b[0mprint\u001b[0m \u001b[1;33m(\u001b[0m\u001b[0mtuple1\u001b[0m\u001b[1;33m,\u001b[0m \u001b[0mlen\u001b[0m\u001b[1;33m(\u001b[0m\u001b[0mtuple1\u001b[0m\u001b[1;33m)\u001b[0m\u001b[1;33m,\u001b[0m \u001b[0mtype\u001b[0m\u001b[1;33m(\u001b[0m\u001b[0mtuple1\u001b[0m\u001b[1;33m)\u001b[0m\u001b[1;33m,\u001b[0m \u001b[0mid\u001b[0m\u001b[1;33m(\u001b[0m\u001b[0mtuple1\u001b[0m\u001b[1;33m)\u001b[0m\u001b[1;33m)\u001b[0m\u001b[1;33m\u001b[0m\u001b[1;33m\u001b[0m\u001b[0m\n\u001b[1;32m----> 3\u001b[1;33m \u001b[0mprint\u001b[0m \u001b[1;33m(\u001b[0m\u001b[0mmax\u001b[0m\u001b[1;33m(\u001b[0m\u001b[0mtuple1\u001b[0m\u001b[1;33m)\u001b[0m\u001b[1;33m,\u001b[0m \u001b[0mmin\u001b[0m\u001b[1;33m(\u001b[0m\u001b[0mtuple1\u001b[0m\u001b[1;33m)\u001b[0m\u001b[1;33m)\u001b[0m\u001b[1;33m\u001b[0m\u001b[1;33m\u001b[0m\u001b[0m\n\u001b[0m\u001b[0;32m      4\u001b[0m \u001b[0mprint\u001b[0m \u001b[1;33m(\u001b[0m\u001b[0msum\u001b[0m\u001b[1;33m(\u001b[0m\u001b[0mtuple1\u001b[0m\u001b[1;33m)\u001b[0m\u001b[1;33m)\u001b[0m\u001b[1;33m\u001b[0m\u001b[1;33m\u001b[0m\u001b[0m\n",
      "\u001b[1;31mTypeError\u001b[0m: '>' not supported between instances of 'bool' and 'str'"
     ]
    }
   ],
   "source": [
    "tuple1 = ('Wed', 'Tue', 'sat', 'Mon', True, 'Sun', 12.3, 100)\n",
    "print (tuple1, len(tuple1), type(tuple1), id(tuple1))\n",
    "print (max(tuple1), min(tuple1))\n",
    "print (sum(tuple1))"
   ]
  },
  {
   "cell_type": "code",
   "execution_count": 38,
   "id": "5e1d1664-195a-44b0-a25c-fb1bbc15f433",
   "metadata": {},
   "outputs": [
    {
     "name": "stdout",
     "output_type": "stream",
     "text": [
      "(100, 300, 200, 400, 500) 5\n",
      "2\n"
     ]
    }
   ],
   "source": [
    "tuple1 = (100, 300, 200, 400, 500)\n",
    "print (tuple1, len(tuple1))\n",
    "print (tuple1.index(200))"
   ]
  },
  {
   "cell_type": "code",
   "execution_count": 59,
   "id": "9e52a054-d8cc-4f5f-8850-b63e78582436",
   "metadata": {},
   "outputs": [
    {
     "name": "stdout",
     "output_type": "stream",
     "text": [
      "(100, 300, 200, 100, 500, 500, 400, 500) 8\n",
      "2\n",
      "3\n"
     ]
    }
   ],
   "source": [
    "tuple1 = (100, 300, 200, 100, 500, 500, 400, 500)\n",
    "print (tuple1, len(tuple1))\n",
    "print (tuple1.count(100))\n",
    "print (tuple1.count(500))"
   ]
  },
  {
   "cell_type": "code",
   "execution_count": 63,
   "id": "d886a05a-a5f7-406f-97b3-919adc75becf",
   "metadata": {},
   "outputs": [
    {
     "name": "stdout",
     "output_type": "stream",
     "text": [
      "(100, 300, 200, 400, 500) 5 1767545333696\n",
      "[100, 300, 200, 400, 500] 5 1767544973120\n",
      "[100, 300, 1000, 400, 500] 5 1767544973120\n",
      "(100, 300, 1000, 400, 500) 5 1767538978224\n"
     ]
    }
   ],
   "source": [
    "tuple1 = (100, 300, 200, 400, 500)\n",
    "print (tuple1, len(tuple1), id(tuple1))\n",
    "# tuple1[2] = 1000\n",
    "list1 = list(tuple1)\n",
    "print (list1, len(list1), id(list1))\n",
    "list1[2] = 1000\n",
    "print (list1, len(list1), id(list1))\n",
    "tuple1 = tuple(list1)\n",
    "print (tuple1, len(tuple1), id(tuple1))"
   ]
  },
  {
   "cell_type": "code",
   "execution_count": 84,
   "id": "692c1f80-7b27-4250-81e8-9af70ad929e4",
   "metadata": {},
   "outputs": [
    {
     "name": "stdout",
     "output_type": "stream",
     "text": [
      "(100, 200, 300) 3\n",
      "(400, 600, 800) 3\n",
      "(100, 200, 300, 400, 600, 800) 6\n"
     ]
    }
   ],
   "source": [
    "tuple1 = (100, 200, 300)\n",
    "print (tuple1, len(tuple1))\n",
    "tuple2 = (400, 600, 800)\n",
    "print (tuple2, len(tuple2))\n",
    "result = tuple1 + tuple2\n",
    "print (result, len(result))"
   ]
  },
  {
   "cell_type": "code",
   "execution_count": 58,
   "id": "f15eeeaf-d544-42b2-8cfa-0b07f7701189",
   "metadata": {
    "scrolled": true,
    "tags": []
   },
   "outputs": [
    {
     "name": "stdout",
     "output_type": "stream",
     "text": [
      "Help on class tuple in module builtins:\n",
      "\n",
      "class tuple(object)\n",
      " |  tuple(iterable=(), /)\n",
      " |  \n",
      " |  Built-in immutable sequence.\n",
      " |  \n",
      " |  If no argument is given, the constructor returns an empty tuple.\n",
      " |  If iterable is specified the tuple is initialized from iterable's items.\n",
      " |  \n",
      " |  If the argument is a tuple, the return value is the same object.\n",
      " |  \n",
      " |  Built-in subclasses:\n",
      " |      asyncgen_hooks\n",
      " |      UnraisableHookArgs\n",
      " |  \n",
      " |  Methods defined here:\n",
      " |  \n",
      " |  __add__(self, value, /)\n",
      " |      Return self+value.\n",
      " |  \n",
      " |  __contains__(self, key, /)\n",
      " |      Return key in self.\n",
      " |  \n",
      " |  __eq__(self, value, /)\n",
      " |      Return self==value.\n",
      " |  \n",
      " |  __ge__(self, value, /)\n",
      " |      Return self>=value.\n",
      " |  \n",
      " |  __getattribute__(self, name, /)\n",
      " |      Return getattr(self, name).\n",
      " |  \n",
      " |  __getitem__(self, key, /)\n",
      " |      Return self[key].\n",
      " |  \n",
      " |  __getnewargs__(self, /)\n",
      " |  \n",
      " |  __gt__(self, value, /)\n",
      " |      Return self>value.\n",
      " |  \n",
      " |  __hash__(self, /)\n",
      " |      Return hash(self).\n",
      " |  \n",
      " |  __iter__(self, /)\n",
      " |      Implement iter(self).\n",
      " |  \n",
      " |  __le__(self, value, /)\n",
      " |      Return self<=value.\n",
      " |  \n",
      " |  __len__(self, /)\n",
      " |      Return len(self).\n",
      " |  \n",
      " |  __lt__(self, value, /)\n",
      " |      Return self<value.\n",
      " |  \n",
      " |  __mul__(self, value, /)\n",
      " |      Return self*value.\n",
      " |  \n",
      " |  __ne__(self, value, /)\n",
      " |      Return self!=value.\n",
      " |  \n",
      " |  __repr__(self, /)\n",
      " |      Return repr(self).\n",
      " |  \n",
      " |  __rmul__(self, value, /)\n",
      " |      Return value*self.\n",
      " |  \n",
      " |  count(self, value, /)\n",
      " |      Return number of occurrences of value.\n",
      " |  \n",
      " |  index(self, value, start=0, stop=9223372036854775807, /)\n",
      " |      Return first index of value.\n",
      " |      \n",
      " |      Raises ValueError if the value is not present.\n",
      " |  \n",
      " |  ----------------------------------------------------------------------\n",
      " |  Static methods defined here:\n",
      " |  \n",
      " |  __new__(*args, **kwargs) from builtins.type\n",
      " |      Create and return a new object.  See help(type) for accurate signature.\n",
      "\n"
     ]
    }
   ],
   "source": [
    "help(tuple)"
   ]
  },
  {
   "cell_type": "markdown",
   "id": "ba1bbe84-1dc3-4ec9-8a11-bc4bcdd6fc4f",
   "metadata": {},
   "source": [
    "### Dealing with Dictionary Collection"
   ]
  },
  {
   "cell_type": "code",
   "execution_count": 65,
   "id": "b925de34-e8d0-4fdc-878e-9c27ca8dffe2",
   "metadata": {},
   "outputs": [
    {
     "name": "stdout",
     "output_type": "stream",
     "text": [
      "{'apple': 120, 'orange': 340, 'banana': 720, 'pineapple': 230} 4 <class 'dict'> 1767545019264\n",
      "{'apple': 450, 'orange': 340, 'banana': 720, 'pineapple': 720} 4 <class 'dict'> 1767544972864\n"
     ]
    }
   ],
   "source": [
    "dict1 = {'apple':120, 'orange':340, 'banana':720, 'pineapple':230}\n",
    "print (dict1, len(dict1), type(dict1), id(dict1))\n",
    "dict1 = {'apple':120, 'orange':340, 'banana':720, 'pineapple':720, 'apple':450}\n",
    "print (dict1, len(dict1), type(dict1), id(dict1))"
   ]
  },
  {
   "cell_type": "code",
   "execution_count": 68,
   "id": "7be9817a-9092-43b0-9243-1172c93a99e6",
   "metadata": {},
   "outputs": [
    {
     "name": "stdout",
     "output_type": "stream",
     "text": [
      "{'apple': 120, 'orange': 340, 'banana': 720, 'pineapple': 230} 4 <class 'dict'> 1767540708608\n",
      "dict_keys(['apple', 'orange', 'banana', 'pineapple'])\n",
      "dict_values([120, 340, 720, 230])\n",
      "dict_items([('apple', 120), ('orange', 340), ('banana', 720), ('pineapple', 230)])\n"
     ]
    }
   ],
   "source": [
    "dict1 = {'apple':120, 'orange':340, 'banana':720, 'pineapple':230}\n",
    "print (dict1, len(dict1), type(dict1), id(dict1))\n",
    "print (dict1.keys())\n",
    "print (dict1.values())\n",
    "print (dict1.items())"
   ]
  },
  {
   "cell_type": "code",
   "execution_count": 69,
   "id": "691bedee-e72a-49a0-a351-e35e595f5d3c",
   "metadata": {},
   "outputs": [
    {
     "name": "stdout",
     "output_type": "stream",
     "text": [
      "Key = apple associated with the value = 120\n",
      "Key = orange associated with the value = 340\n",
      "Key = banana associated with the value = 720\n",
      "Key = pineapple associated with the value = 230\n"
     ]
    }
   ],
   "source": [
    "for list_of_tuples in dict1.items():\n",
    "    print (f\"Key = {list_of_tuples[0]} associated with the value = {list_of_tuples[1]}\")"
   ]
  },
  {
   "cell_type": "code",
   "execution_count": 74,
   "id": "9de952f3-c094-4bd1-a83b-4924f0149b1a",
   "metadata": {},
   "outputs": [
    {
     "name": "stdout",
     "output_type": "stream",
     "text": [
      "{'apple': 120, 'orange': 340, 'banana': 720, 'pineapple': 230} 4 <class 'dict'> 1767542495168\n",
      "120\n",
      "None\n",
      "Not Available\n",
      "120\n"
     ]
    },
    {
     "ename": "KeyError",
     "evalue": "'guava'",
     "output_type": "error",
     "traceback": [
      "\u001b[1;31m---------------------------------------------------------------------------\u001b[0m",
      "\u001b[1;31mKeyError\u001b[0m                                  Traceback (most recent call last)",
      "\u001b[1;32m<ipython-input-74-44e2386f6a22>\u001b[0m in \u001b[0;36m<module>\u001b[1;34m\u001b[0m\n\u001b[0;32m      5\u001b[0m \u001b[0mprint\u001b[0m \u001b[1;33m(\u001b[0m\u001b[0mdict1\u001b[0m\u001b[1;33m.\u001b[0m\u001b[0mget\u001b[0m\u001b[1;33m(\u001b[0m\u001b[1;34m'guava'\u001b[0m\u001b[1;33m,\u001b[0m \u001b[1;34m'Not Available'\u001b[0m\u001b[1;33m)\u001b[0m\u001b[1;33m)\u001b[0m\u001b[1;33m\u001b[0m\u001b[1;33m\u001b[0m\u001b[0m\n\u001b[0;32m      6\u001b[0m \u001b[0mprint\u001b[0m \u001b[1;33m(\u001b[0m\u001b[0mdict1\u001b[0m\u001b[1;33m[\u001b[0m\u001b[1;34m'apple'\u001b[0m\u001b[1;33m]\u001b[0m\u001b[1;33m)\u001b[0m\u001b[1;33m\u001b[0m\u001b[1;33m\u001b[0m\u001b[0m\n\u001b[1;32m----> 7\u001b[1;33m \u001b[0mprint\u001b[0m \u001b[1;33m(\u001b[0m\u001b[0mdict1\u001b[0m\u001b[1;33m[\u001b[0m\u001b[1;34m'guava'\u001b[0m\u001b[1;33m]\u001b[0m\u001b[1;33m)\u001b[0m\u001b[1;33m\u001b[0m\u001b[1;33m\u001b[0m\u001b[0m\n\u001b[0m",
      "\u001b[1;31mKeyError\u001b[0m: 'guava'"
     ]
    }
   ],
   "source": [
    "dict1 = {'apple':120, 'orange':340, 'banana':720, 'pineapple':230}\n",
    "print (dict1, len(dict1), type(dict1), id(dict1))\n",
    "print (dict1.get('apple'))\n",
    "print (dict1.get('guava'))\n",
    "print (dict1.get('guava', 'Not Available'))\n",
    "print (dict1['apple'])\n",
    "print (dict1['guava'])"
   ]
  },
  {
   "cell_type": "code",
   "execution_count": 77,
   "id": "c7b44830-e9c8-476d-841b-e06c675cbd6e",
   "metadata": {},
   "outputs": [
    {
     "name": "stdout",
     "output_type": "stream",
     "text": [
      "{'apple': 120, 'orange': 340, 'banana': 720, 'pineapple': 230} 4 <class 'dict'> 1767542735744\n",
      "{'apple': 120, 'orange': 340, 'banana': 720, 'pineapple': 230, 'guava': 950} 5 <class 'dict'> 1767542735744\n",
      "{'apple': 120, 'orange': 740, 'banana': 720, 'pineapple': 230, 'guava': 950} 5 <class 'dict'> 1767542735744\n"
     ]
    }
   ],
   "source": [
    "dict1 = {'apple':120, 'orange':340, 'banana':720, 'pineapple':230}\n",
    "print (dict1, len(dict1), type(dict1), id(dict1))\n",
    "dict1['guava'] = 950   # insert operation\n",
    "print (dict1, len(dict1), type(dict1), id(dict1))\n",
    "dict1['orange'] = 740   # modify or update operation\n",
    "print (dict1, len(dict1), type(dict1), id(dict1))"
   ]
  },
  {
   "cell_type": "code",
   "execution_count": 79,
   "id": "072b4414-02f9-472f-a70b-6412ab7d0249",
   "metadata": {},
   "outputs": [
    {
     "name": "stdout",
     "output_type": "stream",
     "text": [
      "{'apple': 120, 'orange': 740, 'banana': 720, 'pineapple': 230, 'guava': 950} 5 <class 'dict'> 1767542873216\n",
      "740\n",
      "{'apple': 120, 'banana': 720, 'pineapple': 230, 'guava': 950} 4 <class 'dict'> 1767542873216\n",
      "230\n",
      "{'apple': 120, 'banana': 720, 'guava': 950} 3 <class 'dict'> 1767542873216\n"
     ]
    }
   ],
   "source": [
    "dict1 = {'apple': 120, 'orange': 740, 'banana': 720, 'pineapple': 230, 'guava': 950}\n",
    "print (dict1, len(dict1), type(dict1), id(dict1))\n",
    "print (dict1.pop('orange'))\n",
    "print (dict1, len(dict1), type(dict1), id(dict1))\n",
    "print (dict1.pop('pineapple'))\n",
    "print (dict1, len(dict1), type(dict1), id(dict1))"
   ]
  },
  {
   "cell_type": "code",
   "execution_count": 80,
   "id": "c20c71dc-497b-4257-886f-724895cf95f9",
   "metadata": {},
   "outputs": [
    {
     "name": "stdout",
     "output_type": "stream",
     "text": [
      "{'apple': 120, 'orange': 740, 'banana': 720, 'pineapple': 230, 'guava': 950} 5 <class 'dict'> 1767545263552\n",
      "('guava', 950)\n",
      "{'apple': 120, 'orange': 740, 'banana': 720, 'pineapple': 230} 4 <class 'dict'> 1767545263552\n",
      "('pineapple', 230)\n",
      "{'apple': 120, 'orange': 740, 'banana': 720} 3 <class 'dict'> 1767545263552\n"
     ]
    }
   ],
   "source": [
    "dict1 = {'apple': 120, 'orange': 740, 'banana': 720, 'pineapple': 230, 'guava': 950}\n",
    "print (dict1, len(dict1), type(dict1), id(dict1))\n",
    "print (dict1.popitem())\n",
    "print (dict1, len(dict1), type(dict1), id(dict1))\n",
    "print (dict1.popitem())\n",
    "print (dict1, len(dict1), type(dict1), id(dict1))"
   ]
  },
  {
   "cell_type": "code",
   "execution_count": 83,
   "id": "a1e09aaa-d1f8-4c8e-86d9-bcefe0c2bb7a",
   "metadata": {},
   "outputs": [
    {
     "name": "stdout",
     "output_type": "stream",
     "text": [
      "{'apple': 120, 'orange': 740} 2 <class 'dict'> 1767545436416\n",
      "{'banana': 720, 'pineapple': 230, 'guava': 950} 3 <class 'dict'> 1767541764672\n",
      "{'apple': 120, 'orange': 740, 'banana': 720, 'pineapple': 230, 'guava': 950} 5 <class 'dict'> 1767545436416\n",
      "{'banana': 720, 'pineapple': 230, 'guava': 950} 3 <class 'dict'> 1767541764672\n"
     ]
    }
   ],
   "source": [
    "fruit1 = {'apple': 120, 'orange': 740}\n",
    "print (fruit1, len(fruit1), type(fruit1), id(fruit1))\n",
    "fruit2 = {'banana': 720, 'pineapple': 230, 'guava': 950}\n",
    "print (fruit2, len(fruit2), type(fruit2), id(fruit2))\n",
    "fruit1.update(fruit2)\n",
    "print (fruit1, len(fruit1), type(fruit1), id(fruit1))\n",
    "print (fruit2, len(fruit2), type(fruit2), id(fruit2))"
   ]
  },
  {
   "cell_type": "code",
   "execution_count": 81,
   "id": "3e7db7bd-47ba-4015-a29f-fcd638d3e808",
   "metadata": {
    "scrolled": true,
    "tags": []
   },
   "outputs": [
    {
     "name": "stdout",
     "output_type": "stream",
     "text": [
      "Help on class dict in module builtins:\n",
      "\n",
      "class dict(object)\n",
      " |  dict() -> new empty dictionary\n",
      " |  dict(mapping) -> new dictionary initialized from a mapping object's\n",
      " |      (key, value) pairs\n",
      " |  dict(iterable) -> new dictionary initialized as if via:\n",
      " |      d = {}\n",
      " |      for k, v in iterable:\n",
      " |          d[k] = v\n",
      " |  dict(**kwargs) -> new dictionary initialized with the name=value pairs\n",
      " |      in the keyword argument list.  For example:  dict(one=1, two=2)\n",
      " |  \n",
      " |  Built-in subclasses:\n",
      " |      StgDict\n",
      " |  \n",
      " |  Methods defined here:\n",
      " |  \n",
      " |  __contains__(self, key, /)\n",
      " |      True if the dictionary has the specified key, else False.\n",
      " |  \n",
      " |  __delitem__(self, key, /)\n",
      " |      Delete self[key].\n",
      " |  \n",
      " |  __eq__(self, value, /)\n",
      " |      Return self==value.\n",
      " |  \n",
      " |  __ge__(self, value, /)\n",
      " |      Return self>=value.\n",
      " |  \n",
      " |  __getattribute__(self, name, /)\n",
      " |      Return getattr(self, name).\n",
      " |  \n",
      " |  __getitem__(...)\n",
      " |      x.__getitem__(y) <==> x[y]\n",
      " |  \n",
      " |  __gt__(self, value, /)\n",
      " |      Return self>value.\n",
      " |  \n",
      " |  __init__(self, /, *args, **kwargs)\n",
      " |      Initialize self.  See help(type(self)) for accurate signature.\n",
      " |  \n",
      " |  __iter__(self, /)\n",
      " |      Implement iter(self).\n",
      " |  \n",
      " |  __le__(self, value, /)\n",
      " |      Return self<=value.\n",
      " |  \n",
      " |  __len__(self, /)\n",
      " |      Return len(self).\n",
      " |  \n",
      " |  __lt__(self, value, /)\n",
      " |      Return self<value.\n",
      " |  \n",
      " |  __ne__(self, value, /)\n",
      " |      Return self!=value.\n",
      " |  \n",
      " |  __repr__(self, /)\n",
      " |      Return repr(self).\n",
      " |  \n",
      " |  __reversed__(self, /)\n",
      " |      Return a reverse iterator over the dict keys.\n",
      " |  \n",
      " |  __setitem__(self, key, value, /)\n",
      " |      Set self[key] to value.\n",
      " |  \n",
      " |  __sizeof__(...)\n",
      " |      D.__sizeof__() -> size of D in memory, in bytes\n",
      " |  \n",
      " |  clear(...)\n",
      " |      D.clear() -> None.  Remove all items from D.\n",
      " |  \n",
      " |  copy(...)\n",
      " |      D.copy() -> a shallow copy of D\n",
      " |  \n",
      " |  get(self, key, default=None, /)\n",
      " |      Return the value for key if key is in the dictionary, else default.\n",
      " |  \n",
      " |  items(...)\n",
      " |      D.items() -> a set-like object providing a view on D's items\n",
      " |  \n",
      " |  keys(...)\n",
      " |      D.keys() -> a set-like object providing a view on D's keys\n",
      " |  \n",
      " |  pop(...)\n",
      " |      D.pop(k[,d]) -> v, remove specified key and return the corresponding value.\n",
      " |      If key is not found, d is returned if given, otherwise KeyError is raised\n",
      " |  \n",
      " |  popitem(self, /)\n",
      " |      Remove and return a (key, value) pair as a 2-tuple.\n",
      " |      \n",
      " |      Pairs are returned in LIFO (last-in, first-out) order.\n",
      " |      Raises KeyError if the dict is empty.\n",
      " |  \n",
      " |  setdefault(self, key, default=None, /)\n",
      " |      Insert key with a value of default if key is not in the dictionary.\n",
      " |      \n",
      " |      Return the value for key if key is in the dictionary, else default.\n",
      " |  \n",
      " |  update(...)\n",
      " |      D.update([E, ]**F) -> None.  Update D from dict/iterable E and F.\n",
      " |      If E is present and has a .keys() method, then does:  for k in E: D[k] = E[k]\n",
      " |      If E is present and lacks a .keys() method, then does:  for k, v in E: D[k] = v\n",
      " |      In either case, this is followed by: for k in F:  D[k] = F[k]\n",
      " |  \n",
      " |  values(...)\n",
      " |      D.values() -> an object providing a view on D's values\n",
      " |  \n",
      " |  ----------------------------------------------------------------------\n",
      " |  Class methods defined here:\n",
      " |  \n",
      " |  fromkeys(iterable, value=None, /) from builtins.type\n",
      " |      Create a new dictionary with keys from iterable and values set to value.\n",
      " |  \n",
      " |  ----------------------------------------------------------------------\n",
      " |  Static methods defined here:\n",
      " |  \n",
      " |  __new__(*args, **kwargs) from builtins.type\n",
      " |      Create and return a new object.  See help(type) for accurate signature.\n",
      " |  \n",
      " |  ----------------------------------------------------------------------\n",
      " |  Data and other attributes defined here:\n",
      " |  \n",
      " |  __hash__ = None\n",
      "\n"
     ]
    }
   ],
   "source": [
    "help(dict)"
   ]
  },
  {
   "cell_type": "markdown",
   "id": "1359e35d-f9ec-45e6-81f3-6ebbfe2d2537",
   "metadata": {},
   "source": [
    "### Dealing with Set Collection"
   ]
  },
  {
   "cell_type": "code",
   "execution_count": 92,
   "id": "644bfc4a-180d-445b-86a9-0070497133ce",
   "metadata": {},
   "outputs": [
    {
     "name": "stdout",
     "output_type": "stream",
     "text": [
      "{'viper', 'python', 'cobra'} 3 1767552441696 <class 'set'>\n",
      "{'viper', 'python', 'cobra'} 3 1767545046624 <class 'set'>\n"
     ]
    }
   ],
   "source": [
    "snakes = set(['cobra', 'viper', 'python', 'cobra', 'viper', 'python', 'cobra', 'viper', 'python'])\n",
    "print (snakes, len(snakes), id(snakes), type(snakes))\n",
    "snakes = set(('cobra', 'viper', 'python', 'cobra', 'viper', 'python', 'cobra', 'viper', 'python'))\n",
    "print (snakes, len(snakes), id(snakes), type(snakes))"
   ]
  },
  {
   "cell_type": "code",
   "execution_count": 96,
   "id": "920fd195-1489-4e76-bddd-9f5a0437adb4",
   "metadata": {},
   "outputs": [
    {
     "name": "stdout",
     "output_type": "stream",
     "text": [
      "{'viper', 'python', 'cobra'} 3 1767549962720 <class 'set'>\n",
      "{'c++', 'python', 'java'} 3 1767549962944 <class 'set'>\n",
      "{'viper', 'c++', 'cobra', 'java', 'python'} 5 1767545289184 <class 'set'>\n",
      "{'viper', 'c++', 'cobra', 'java', 'python'} 5 1767549963840 <class 'set'>\n",
      "{'viper', 'python', 'cobra'} 3 1767549962720 <class 'set'>\n",
      "{'c++', 'python', 'java'} 3 1767549962944 <class 'set'>\n"
     ]
    }
   ],
   "source": [
    "# union operation\n",
    "snakes = {'cobra', 'viper', 'python'}\n",
    "print (snakes, len(snakes), id(snakes), type(snakes))\n",
    "languages = {'c++', 'python', 'java'}\n",
    "print (languages, len(languages), id(languages), type(languages))\n",
    "result = snakes.union(languages)\n",
    "print (result, len(result), id(result), type(result))\n",
    "result = snakes | languages\n",
    "print (result, len(result), id(result), type(result))\n",
    "print (snakes, len(snakes), id(snakes), type(snakes))\n",
    "print (languages, len(languages), id(languages), type(languages))"
   ]
  },
  {
   "cell_type": "code",
   "execution_count": 99,
   "id": "f702e38a-9559-478b-a899-0929f3f8e190",
   "metadata": {},
   "outputs": [
    {
     "name": "stdout",
     "output_type": "stream",
     "text": [
      "{'viper', 'python', 'cobra'} 3 1767540108192 <class 'set'>\n",
      "{'c++', 'python', 'java'} 3 1767540109088 <class 'set'>\n",
      "{'python'} 1 1767540107296 <class 'set'>\n",
      "{'python'} 1 1767540188096 <class 'set'>\n",
      "{'viper', 'python', 'cobra'} 3 1767540108192 <class 'set'>\n",
      "{'c++', 'python', 'java'} 3 1767540109088 <class 'set'>\n",
      "{'python'} 1 1767540108192 <class 'set'>\n",
      "{'c++', 'python', 'java'} 3 1767540109088 <class 'set'>\n"
     ]
    }
   ],
   "source": [
    "# intersection operation\n",
    "snakes = {'cobra', 'viper', 'python'}\n",
    "print (snakes, len(snakes), id(snakes), type(snakes))\n",
    "languages = {'c++', 'python', 'java'}\n",
    "print (languages, len(languages), id(languages), type(languages))\n",
    "result = snakes.intersection(languages)\n",
    "print (result, len(result), id(result), type(result))\n",
    "result = snakes & languages\n",
    "print (result, len(result), id(result), type(result))\n",
    "print (snakes, len(snakes), id(snakes), type(snakes))\n",
    "print (languages, len(languages), id(languages), type(languages))\n",
    "snakes.intersection_update(languages)\n",
    "print (snakes, len(snakes), id(snakes), type(snakes))\n",
    "print (languages, len(languages), id(languages), type(languages))"
   ]
  },
  {
   "cell_type": "code",
   "execution_count": 100,
   "id": "3f873fc7-311f-4f28-9a16-4be9f08b3c5e",
   "metadata": {},
   "outputs": [
    {
     "name": "stdout",
     "output_type": "stream",
     "text": [
      "{'viper', 'python', 'cobra'} 3 1767550148896 <class 'set'>\n",
      "{'c++', 'python', 'java'} 3 1767553173760 <class 'set'>\n",
      "{'viper', 'cobra'} 2 1767553172640 <class 'set'>\n",
      "{'viper', 'cobra'} 2 1767553173312 <class 'set'>\n",
      "{'viper', 'python', 'cobra'} 3 1767550148896 <class 'set'>\n",
      "{'c++', 'python', 'java'} 3 1767553173760 <class 'set'>\n",
      "{'viper', 'cobra'} 2 1767550148896 <class 'set'>\n",
      "{'c++', 'python', 'java'} 3 1767553173760 <class 'set'>\n"
     ]
    }
   ],
   "source": [
    "# set difference operation\n",
    "snakes = {'cobra', 'viper', 'python'}\n",
    "print (snakes, len(snakes), id(snakes), type(snakes))\n",
    "languages = {'c++', 'python', 'java'}\n",
    "print (languages, len(languages), id(languages), type(languages))\n",
    "result = snakes.difference(languages)\n",
    "print (result, len(result), id(result), type(result))\n",
    "result = snakes - languages\n",
    "print (result, len(result), id(result), type(result))\n",
    "print (snakes, len(snakes), id(snakes), type(snakes))\n",
    "print (languages, len(languages), id(languages), type(languages))\n",
    "snakes.difference_update(languages)\n",
    "print (snakes, len(snakes), id(snakes), type(snakes))\n",
    "print (languages, len(languages), id(languages), type(languages))"
   ]
  },
  {
   "cell_type": "code",
   "execution_count": 101,
   "id": "2e1b453f-b5b4-409e-816f-833e73e22592",
   "metadata": {},
   "outputs": [
    {
     "name": "stdout",
     "output_type": "stream",
     "text": [
      "{'viper', 'python', 'cobra'} 3 1767550986720 <class 'set'>\n",
      "{'c++', 'python', 'java'} 3 1767550987616 <class 'set'>\n",
      "{'viper', 'c++', 'cobra', 'java'} 4 1767550808128 <class 'set'>\n",
      "{'viper', 'c++', 'cobra', 'java'} 4 1767550809248 <class 'set'>\n",
      "{'viper', 'python', 'cobra'} 3 1767550986720 <class 'set'>\n",
      "{'c++', 'python', 'java'} 3 1767550987616 <class 'set'>\n",
      "{'viper', 'c++', 'java', 'cobra'} 4 1767550986720 <class 'set'>\n",
      "{'c++', 'python', 'java'} 3 1767550987616 <class 'set'>\n"
     ]
    }
   ],
   "source": [
    "# set symmetric difference operation\n",
    "snakes = {'cobra', 'viper', 'python'}\n",
    "print (snakes, len(snakes), id(snakes), type(snakes))\n",
    "languages = {'c++', 'python', 'java'}\n",
    "print (languages, len(languages), id(languages), type(languages))\n",
    "result = snakes.symmetric_difference(languages)\n",
    "print (result, len(result), id(result), type(result))\n",
    "result = snakes ^ languages\n",
    "print (result, len(result), id(result), type(result))\n",
    "print (snakes, len(snakes), id(snakes), type(snakes))\n",
    "print (languages, len(languages), id(languages), type(languages))\n",
    "snakes.symmetric_difference_update(languages)\n",
    "print (snakes, len(snakes), id(snakes), type(snakes))\n",
    "print (languages, len(languages), id(languages), type(languages))"
   ]
  },
  {
   "cell_type": "code",
   "execution_count": 102,
   "id": "492ce030-bf7d-4e54-998d-a0e8d60b4141",
   "metadata": {
    "scrolled": true,
    "tags": []
   },
   "outputs": [
    {
     "name": "stdout",
     "output_type": "stream",
     "text": [
      "Help on class set in module builtins:\n",
      "\n",
      "class set(object)\n",
      " |  set() -> new empty set object\n",
      " |  set(iterable) -> new set object\n",
      " |  \n",
      " |  Build an unordered collection of unique elements.\n",
      " |  \n",
      " |  Methods defined here:\n",
      " |  \n",
      " |  __and__(self, value, /)\n",
      " |      Return self&value.\n",
      " |  \n",
      " |  __contains__(...)\n",
      " |      x.__contains__(y) <==> y in x.\n",
      " |  \n",
      " |  __eq__(self, value, /)\n",
      " |      Return self==value.\n",
      " |  \n",
      " |  __ge__(self, value, /)\n",
      " |      Return self>=value.\n",
      " |  \n",
      " |  __getattribute__(self, name, /)\n",
      " |      Return getattr(self, name).\n",
      " |  \n",
      " |  __gt__(self, value, /)\n",
      " |      Return self>value.\n",
      " |  \n",
      " |  __iand__(self, value, /)\n",
      " |      Return self&=value.\n",
      " |  \n",
      " |  __init__(self, /, *args, **kwargs)\n",
      " |      Initialize self.  See help(type(self)) for accurate signature.\n",
      " |  \n",
      " |  __ior__(self, value, /)\n",
      " |      Return self|=value.\n",
      " |  \n",
      " |  __isub__(self, value, /)\n",
      " |      Return self-=value.\n",
      " |  \n",
      " |  __iter__(self, /)\n",
      " |      Implement iter(self).\n",
      " |  \n",
      " |  __ixor__(self, value, /)\n",
      " |      Return self^=value.\n",
      " |  \n",
      " |  __le__(self, value, /)\n",
      " |      Return self<=value.\n",
      " |  \n",
      " |  __len__(self, /)\n",
      " |      Return len(self).\n",
      " |  \n",
      " |  __lt__(self, value, /)\n",
      " |      Return self<value.\n",
      " |  \n",
      " |  __ne__(self, value, /)\n",
      " |      Return self!=value.\n",
      " |  \n",
      " |  __or__(self, value, /)\n",
      " |      Return self|value.\n",
      " |  \n",
      " |  __rand__(self, value, /)\n",
      " |      Return value&self.\n",
      " |  \n",
      " |  __reduce__(...)\n",
      " |      Return state information for pickling.\n",
      " |  \n",
      " |  __repr__(self, /)\n",
      " |      Return repr(self).\n",
      " |  \n",
      " |  __ror__(self, value, /)\n",
      " |      Return value|self.\n",
      " |  \n",
      " |  __rsub__(self, value, /)\n",
      " |      Return value-self.\n",
      " |  \n",
      " |  __rxor__(self, value, /)\n",
      " |      Return value^self.\n",
      " |  \n",
      " |  __sizeof__(...)\n",
      " |      S.__sizeof__() -> size of S in memory, in bytes\n",
      " |  \n",
      " |  __sub__(self, value, /)\n",
      " |      Return self-value.\n",
      " |  \n",
      " |  __xor__(self, value, /)\n",
      " |      Return self^value.\n",
      " |  \n",
      " |  add(...)\n",
      " |      Add an element to a set.\n",
      " |      \n",
      " |      This has no effect if the element is already present.\n",
      " |  \n",
      " |  clear(...)\n",
      " |      Remove all elements from this set.\n",
      " |  \n",
      " |  copy(...)\n",
      " |      Return a shallow copy of a set.\n",
      " |  \n",
      " |  difference(...)\n",
      " |      Return the difference of two or more sets as a new set.\n",
      " |      \n",
      " |      (i.e. all elements that are in this set but not the others.)\n",
      " |  \n",
      " |  difference_update(...)\n",
      " |      Remove all elements of another set from this set.\n",
      " |  \n",
      " |  discard(...)\n",
      " |      Remove an element from a set if it is a member.\n",
      " |      \n",
      " |      If the element is not a member, do nothing.\n",
      " |  \n",
      " |  intersection(...)\n",
      " |      Return the intersection of two sets as a new set.\n",
      " |      \n",
      " |      (i.e. all elements that are in both sets.)\n",
      " |  \n",
      " |  intersection_update(...)\n",
      " |      Update a set with the intersection of itself and another.\n",
      " |  \n",
      " |  isdisjoint(...)\n",
      " |      Return True if two sets have a null intersection.\n",
      " |  \n",
      " |  issubset(...)\n",
      " |      Report whether another set contains this set.\n",
      " |  \n",
      " |  issuperset(...)\n",
      " |      Report whether this set contains another set.\n",
      " |  \n",
      " |  pop(...)\n",
      " |      Remove and return an arbitrary set element.\n",
      " |      Raises KeyError if the set is empty.\n",
      " |  \n",
      " |  remove(...)\n",
      " |      Remove an element from a set; it must be a member.\n",
      " |      \n",
      " |      If the element is not a member, raise a KeyError.\n",
      " |  \n",
      " |  symmetric_difference(...)\n",
      " |      Return the symmetric difference of two sets as a new set.\n",
      " |      \n",
      " |      (i.e. all elements that are in exactly one of the sets.)\n",
      " |  \n",
      " |  symmetric_difference_update(...)\n",
      " |      Update a set with the symmetric difference of itself and another.\n",
      " |  \n",
      " |  union(...)\n",
      " |      Return the union of sets as a new set.\n",
      " |      \n",
      " |      (i.e. all elements that are in either set.)\n",
      " |  \n",
      " |  update(...)\n",
      " |      Update a set with the union of itself and others.\n",
      " |  \n",
      " |  ----------------------------------------------------------------------\n",
      " |  Static methods defined here:\n",
      " |  \n",
      " |  __new__(*args, **kwargs) from builtins.type\n",
      " |      Create and return a new object.  See help(type) for accurate signature.\n",
      " |  \n",
      " |  ----------------------------------------------------------------------\n",
      " |  Data and other attributes defined here:\n",
      " |  \n",
      " |  __hash__ = None\n",
      "\n"
     ]
    }
   ],
   "source": [
    "help(set)"
   ]
  },
  {
   "cell_type": "code",
   "execution_count": null,
   "id": "1e275e6d-6127-4a77-9d9c-ac64cc75f7ca",
   "metadata": {},
   "outputs": [],
   "source": []
  }
 ],
 "metadata": {
  "kernelspec": {
   "display_name": "Python 3",
   "language": "python",
   "name": "python3"
  },
  "language_info": {
   "codemirror_mode": {
    "name": "ipython",
    "version": 3
   },
   "file_extension": ".py",
   "mimetype": "text/x-python",
   "name": "python",
   "nbconvert_exporter": "python",
   "pygments_lexer": "ipython3",
   "version": "3.8.8"
  }
 },
 "nbformat": 4,
 "nbformat_minor": 5
}
