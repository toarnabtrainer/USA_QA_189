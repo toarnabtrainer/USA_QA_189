{
 "cells": [
  {
   "cell_type": "markdown",
   "id": "bc584027-14d5-4dbc-b091-daa5c46309e4",
   "metadata": {},
   "source": [
    "### Selenium control options to write text, button press, select menu and others"
   ]
  },
  {
   "cell_type": "code",
   "execution_count": 1,
   "id": "92a62b39-316d-41a5-be0b-badb446e971d",
   "metadata": {},
   "outputs": [
    {
     "name": "stdout",
     "output_type": "stream",
     "text": [
      "4.1.3\n"
     ]
    }
   ],
   "source": [
    "# importing all required modules\n",
    "from selenium import webdriver\n",
    "\n",
    "# also check the current version of selenium\n",
    "print (webdriver.__version__)"
   ]
  },
  {
   "cell_type": "code",
   "execution_count": 2,
   "id": "983e9bc4-da95-4303-a557-d4fe0e3c28f6",
   "metadata": {},
   "outputs": [
    {
     "name": "stderr",
     "output_type": "stream",
     "text": [
      "<ipython-input-2-4dae4873a9f4>:3: DeprecationWarning: executable_path has been deprecated, please pass in a Service object\n",
      "  driver = webdriver.Chrome(executable_path = './chromedriver.exe')\n"
     ]
    }
   ],
   "source": [
    "# now check whether the chromedriver.exe is present in the current folder or not\n",
    "# if it is not present then to access it we should give the relative folder path\n",
    "driver = webdriver.Chrome(executable_path = './chromedriver.exe')"
   ]
  },
  {
   "cell_type": "code",
   "execution_count": 3,
   "id": "6b0e3ebc-06d8-4a42-b783-9ee694aacf58",
   "metadata": {},
   "outputs": [],
   "source": [
    "# open the web portal to calculate nCr operations\n",
    "URL = 'https://www.calculatorsoup.com/calculators/discretemathematics/combinations.php'\n",
    "driver.get(URL)"
   ]
  },
  {
   "cell_type": "code",
   "execution_count": 7,
   "id": "0cbe61f8-74d4-4e77-886c-9fa58bf3ba79",
   "metadata": {},
   "outputs": [],
   "source": [
    "n_input = driver.find_element(\"id\", \"n\")\n",
    "n_input.clear()\n",
    "n_input.send_keys('10')"
   ]
  },
  {
   "cell_type": "code",
   "execution_count": 8,
   "id": "0703eaea-483f-4e58-a169-1c33188a7d2b",
   "metadata": {},
   "outputs": [],
   "source": [
    "# r_input = driver.find_element(\"id\", \"r\")\n",
    "# r_input.clear()\n",
    "# r_input.send_keys('8')"
   ]
  },
  {
   "cell_type": "code",
   "execution_count": 10,
   "id": "595b5cd1-e8ef-4894-b8c8-106a2aacfa97",
   "metadata": {},
   "outputs": [],
   "source": [
    "# to press keys, we can use the following library\n",
    "from selenium.webdriver.common.keys import Keys\n",
    "\n",
    "# press Tab to go to the next input area\n",
    "n_input.send_keys(Keys.TAB)\n",
    "\n",
    "# select currently selected input area\n",
    "r_input = driver.switch_to.active_element\n",
    "\n",
    "# put the r value inside the text box\n",
    "r_input.send_keys('5')"
   ]
  },
  {
   "cell_type": "code",
   "execution_count": 11,
   "id": "d86635f4-9b7e-4b55-9c89-ac5408fb056c",
   "metadata": {},
   "outputs": [],
   "source": [
    "# now go to the calculate button and click on it\n",
    "calculate_button = driver.find_element(\"id\", 'calculateButton')\n",
    "calculate_button.click()"
   ]
  },
  {
   "cell_type": "code",
   "execution_count": 21,
   "id": "8eb49737-e0dc-40ec-86b2-7442dcd4573c",
   "metadata": {},
   "outputs": [
    {
     "name": "stdout",
     "output_type": "stream",
     "text": [
      "252\n"
     ]
    }
   ],
   "source": [
    "# read the answer from the result area\n",
    "result_area = driver.find_element(\"id\", \"calculatorAnswer\")\n",
    "result = result_area.text\n",
    "# print (\"So result is:\", result)\n",
    "word_list = result.split(\"\\n\")\n",
    "final_answer = int(word_list[1].split(\" \")[1])\n",
    "print (final_answer)"
   ]
  },
  {
   "cell_type": "code",
   "execution_count": null,
   "id": "580e294f-74ac-4894-97f7-3eede17a7f00",
   "metadata": {},
   "outputs": [],
   "source": []
  },
  {
   "cell_type": "code",
   "execution_count": null,
   "id": "6aadc99f-5e76-46f1-9366-e47273b86a1e",
   "metadata": {},
   "outputs": [],
   "source": []
  },
  {
   "cell_type": "code",
   "execution_count": null,
   "id": "3982c207-84e8-4f7e-a2bc-0a63bc9748a3",
   "metadata": {},
   "outputs": [],
   "source": []
  },
  {
   "cell_type": "code",
   "execution_count": null,
   "id": "65839157-5c6a-4180-90ef-cd629f16309f",
   "metadata": {},
   "outputs": [],
   "source": []
  },
  {
   "cell_type": "code",
   "execution_count": null,
   "id": "3856ae7c-66de-41d4-abeb-e31fb8548337",
   "metadata": {},
   "outputs": [],
   "source": []
  }
 ],
 "metadata": {
  "kernelspec": {
   "display_name": "Python 3",
   "language": "python",
   "name": "python3"
  },
  "language_info": {
   "codemirror_mode": {
    "name": "ipython",
    "version": 3
   },
   "file_extension": ".py",
   "mimetype": "text/x-python",
   "name": "python",
   "nbconvert_exporter": "python",
   "pygments_lexer": "ipython3",
   "version": "3.8.8"
  }
 },
 "nbformat": 4,
 "nbformat_minor": 5
}
